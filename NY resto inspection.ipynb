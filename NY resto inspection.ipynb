{
 "cells": [
  {
   "cell_type": "code",
   "execution_count": 1,
   "metadata": {},
   "outputs": [],
   "source": [
    "import pandas as pd\n",
    "import matplotlib.pyplot as plt\n",
    "import seaborn as sns\n",
    "import numpy as np\n",
    "%matplotlib inline"
   ]
  },
  {
   "cell_type": "code",
   "execution_count": 2,
   "metadata": {},
   "outputs": [],
   "source": [
    "df = pd.read_csv('/home/aditya/Downloads/DOHMH_New_York_City_Restaurant_Inspection_Results.csv')"
   ]
  },
  {
   "cell_type": "code",
   "execution_count": 3,
   "metadata": {},
   "outputs": [
    {
     "name": "stdout",
     "output_type": "stream",
     "text": [
      "<class 'pandas.core.frame.DataFrame'>\n",
      "RangeIndex: 370904 entries, 0 to 370903\n",
      "Data columns (total 18 columns):\n",
      "CAMIS                    370904 non-null int64\n",
      "DBA                      370327 non-null object\n",
      "BORO                     370904 non-null object\n",
      "BUILDING                 370740 non-null object\n",
      "STREET                   370901 non-null object\n",
      "ZIPCODE                  370901 non-null float64\n",
      "PHONE                    370902 non-null object\n",
      "CUISINE DESCRIPTION      370904 non-null object\n",
      "INSPECTION DATE          370904 non-null object\n",
      "ACTION                   369586 non-null object\n",
      "VIOLATION CODE           364704 non-null object\n",
      "VIOLATION DESCRIPTION    363352 non-null object\n",
      "CRITICAL FLAG            370904 non-null object\n",
      "SCORE                    350865 non-null float64\n",
      "GRADE                    184547 non-null object\n",
      "GRADE DATE               182129 non-null object\n",
      "RECORD DATE              370904 non-null object\n",
      "INSPECTION TYPE          369586 non-null object\n",
      "dtypes: float64(2), int64(1), object(15)\n",
      "memory usage: 50.9+ MB\n"
     ]
    }
   ],
   "source": [
    "df.info()"
   ]
  },
  {
   "cell_type": "code",
   "execution_count": 4,
   "metadata": {},
   "outputs": [
    {
     "data": {
      "text/html": [
       "<div>\n",
       "<style scoped>\n",
       "    .dataframe tbody tr th:only-of-type {\n",
       "        vertical-align: middle;\n",
       "    }\n",
       "\n",
       "    .dataframe tbody tr th {\n",
       "        vertical-align: top;\n",
       "    }\n",
       "\n",
       "    .dataframe thead th {\n",
       "        text-align: right;\n",
       "    }\n",
       "</style>\n",
       "<table border=\"1\" class=\"dataframe\">\n",
       "  <thead>\n",
       "    <tr style=\"text-align: right;\">\n",
       "      <th></th>\n",
       "      <th>CAMIS</th>\n",
       "      <th>DBA</th>\n",
       "      <th>BORO</th>\n",
       "      <th>BUILDING</th>\n",
       "      <th>STREET</th>\n",
       "      <th>ZIPCODE</th>\n",
       "      <th>PHONE</th>\n",
       "      <th>CUISINE DESCRIPTION</th>\n",
       "      <th>INSPECTION DATE</th>\n",
       "      <th>ACTION</th>\n",
       "      <th>VIOLATION CODE</th>\n",
       "      <th>VIOLATION DESCRIPTION</th>\n",
       "      <th>CRITICAL FLAG</th>\n",
       "      <th>SCORE</th>\n",
       "      <th>GRADE</th>\n",
       "      <th>GRADE DATE</th>\n",
       "      <th>RECORD DATE</th>\n",
       "      <th>INSPECTION TYPE</th>\n",
       "    </tr>\n",
       "  </thead>\n",
       "  <tbody>\n",
       "    <tr>\n",
       "      <th>0</th>\n",
       "      <td>41450085</td>\n",
       "      <td>VINNY VINCENZ</td>\n",
       "      <td>MANHATTAN</td>\n",
       "      <td>231</td>\n",
       "      <td>1 AVENUE</td>\n",
       "      <td>10003.0</td>\n",
       "      <td>2126740707</td>\n",
       "      <td>Pizza</td>\n",
       "      <td>03/14/2018</td>\n",
       "      <td>Establishment re-opened by DOHMH</td>\n",
       "      <td>10F</td>\n",
       "      <td>Non-food contact surface improperly constructe...</td>\n",
       "      <td>Not Critical</td>\n",
       "      <td>2.0</td>\n",
       "      <td>P</td>\n",
       "      <td>03/14/2018</td>\n",
       "      <td>06/11/2018</td>\n",
       "      <td>Cycle Inspection / Reopening Inspection</td>\n",
       "    </tr>\n",
       "    <tr>\n",
       "      <th>1</th>\n",
       "      <td>50051339</td>\n",
       "      <td>SWELL DIVE</td>\n",
       "      <td>BROOKLYN</td>\n",
       "      <td>1013</td>\n",
       "      <td>BEDFORD AVE</td>\n",
       "      <td>11205.0</td>\n",
       "      <td>9176524779</td>\n",
       "      <td>Tex-Mex</td>\n",
       "      <td>01/11/2018</td>\n",
       "      <td>Establishment Closed by DOHMH.  Violations wer...</td>\n",
       "      <td>04N</td>\n",
       "      <td>Filth flies or food/refuse/sewage-associated (...</td>\n",
       "      <td>Critical</td>\n",
       "      <td>55.0</td>\n",
       "      <td>NaN</td>\n",
       "      <td>NaN</td>\n",
       "      <td>06/11/2018</td>\n",
       "      <td>Cycle Inspection / Re-inspection</td>\n",
       "    </tr>\n",
       "    <tr>\n",
       "      <th>2</th>\n",
       "      <td>50009013</td>\n",
       "      <td>PARK ASIA RESTAURANT</td>\n",
       "      <td>BROOKLYN</td>\n",
       "      <td>801</td>\n",
       "      <td>66TH ST</td>\n",
       "      <td>11220.0</td>\n",
       "      <td>7188331688</td>\n",
       "      <td>Chinese</td>\n",
       "      <td>03/13/2015</td>\n",
       "      <td>Violations were cited in the following area(s).</td>\n",
       "      <td>04L</td>\n",
       "      <td>Evidence of mice or live mice present in facil...</td>\n",
       "      <td>Critical</td>\n",
       "      <td>18.0</td>\n",
       "      <td>NaN</td>\n",
       "      <td>NaN</td>\n",
       "      <td>06/11/2018</td>\n",
       "      <td>Cycle Inspection / Initial Inspection</td>\n",
       "    </tr>\n",
       "    <tr>\n",
       "      <th>3</th>\n",
       "      <td>41668615</td>\n",
       "      <td>FONTANA'S PASTA AND HEROS</td>\n",
       "      <td>BROOKLYN</td>\n",
       "      <td>2359</td>\n",
       "      <td>RALPH AVENUE</td>\n",
       "      <td>11234.0</td>\n",
       "      <td>7184444300</td>\n",
       "      <td>Italian</td>\n",
       "      <td>06/05/2018</td>\n",
       "      <td>Violations were cited in the following area(s).</td>\n",
       "      <td>09C</td>\n",
       "      <td>Food contact surface not properly maintained.</td>\n",
       "      <td>Not Critical</td>\n",
       "      <td>13.0</td>\n",
       "      <td>A</td>\n",
       "      <td>06/05/2018</td>\n",
       "      <td>06/11/2018</td>\n",
       "      <td>Cycle Inspection / Initial Inspection</td>\n",
       "    </tr>\n",
       "    <tr>\n",
       "      <th>4</th>\n",
       "      <td>41546891</td>\n",
       "      <td>WAH KING KITCHEN</td>\n",
       "      <td>QUEENS</td>\n",
       "      <td>7915</td>\n",
       "      <td>ATLANTIC AVENUE</td>\n",
       "      <td>11421.0</td>\n",
       "      <td>7182969002</td>\n",
       "      <td>Chinese</td>\n",
       "      <td>02/26/2018</td>\n",
       "      <td>Violations were cited in the following area(s).</td>\n",
       "      <td>04L</td>\n",
       "      <td>Evidence of mice or live mice present in facil...</td>\n",
       "      <td>Critical</td>\n",
       "      <td>12.0</td>\n",
       "      <td>NaN</td>\n",
       "      <td>NaN</td>\n",
       "      <td>06/11/2018</td>\n",
       "      <td>Cycle Inspection / Initial Inspection</td>\n",
       "    </tr>\n",
       "  </tbody>\n",
       "</table>\n",
       "</div>"
      ],
      "text/plain": [
       "      CAMIS                        DBA       BORO BUILDING           STREET  \\\n",
       "0  41450085              VINNY VINCENZ  MANHATTAN      231         1 AVENUE   \n",
       "1  50051339                 SWELL DIVE   BROOKLYN     1013      BEDFORD AVE   \n",
       "2  50009013       PARK ASIA RESTAURANT   BROOKLYN      801          66TH ST   \n",
       "3  41668615  FONTANA'S PASTA AND HEROS   BROOKLYN     2359     RALPH AVENUE   \n",
       "4  41546891           WAH KING KITCHEN     QUEENS     7915  ATLANTIC AVENUE   \n",
       "\n",
       "   ZIPCODE       PHONE CUISINE DESCRIPTION INSPECTION DATE  \\\n",
       "0  10003.0  2126740707               Pizza      03/14/2018   \n",
       "1  11205.0  9176524779             Tex-Mex      01/11/2018   \n",
       "2  11220.0  7188331688             Chinese      03/13/2015   \n",
       "3  11234.0  7184444300             Italian      06/05/2018   \n",
       "4  11421.0  7182969002             Chinese      02/26/2018   \n",
       "\n",
       "                                              ACTION VIOLATION CODE  \\\n",
       "0                   Establishment re-opened by DOHMH            10F   \n",
       "1  Establishment Closed by DOHMH.  Violations wer...            04N   \n",
       "2    Violations were cited in the following area(s).            04L   \n",
       "3    Violations were cited in the following area(s).            09C   \n",
       "4    Violations were cited in the following area(s).            04L   \n",
       "\n",
       "                               VIOLATION DESCRIPTION CRITICAL FLAG  SCORE  \\\n",
       "0  Non-food contact surface improperly constructe...  Not Critical    2.0   \n",
       "1  Filth flies or food/refuse/sewage-associated (...      Critical   55.0   \n",
       "2  Evidence of mice or live mice present in facil...      Critical   18.0   \n",
       "3      Food contact surface not properly maintained.  Not Critical   13.0   \n",
       "4  Evidence of mice or live mice present in facil...      Critical   12.0   \n",
       "\n",
       "  GRADE  GRADE DATE RECORD DATE                          INSPECTION TYPE  \n",
       "0     P  03/14/2018  06/11/2018  Cycle Inspection / Reopening Inspection  \n",
       "1   NaN         NaN  06/11/2018         Cycle Inspection / Re-inspection  \n",
       "2   NaN         NaN  06/11/2018    Cycle Inspection / Initial Inspection  \n",
       "3     A  06/05/2018  06/11/2018    Cycle Inspection / Initial Inspection  \n",
       "4   NaN         NaN  06/11/2018    Cycle Inspection / Initial Inspection  "
      ]
     },
     "execution_count": 4,
     "metadata": {},
     "output_type": "execute_result"
    }
   ],
   "source": [
    "df.head()"
   ]
  },
  {
   "cell_type": "code",
   "execution_count": 5,
   "metadata": {},
   "outputs": [
    {
     "data": {
      "text/plain": [
       "['CAMIS',\n",
       " 'DBA',\n",
       " 'BORO',\n",
       " 'BUILDING',\n",
       " 'STREET',\n",
       " 'ZIPCODE',\n",
       " 'PHONE',\n",
       " 'CUISINE DESCRIPTION',\n",
       " 'INSPECTION DATE',\n",
       " 'ACTION',\n",
       " 'VIOLATION CODE',\n",
       " 'VIOLATION DESCRIPTION',\n",
       " 'CRITICAL FLAG',\n",
       " 'SCORE',\n",
       " 'GRADE',\n",
       " 'GRADE DATE',\n",
       " 'RECORD DATE',\n",
       " 'INSPECTION TYPE']"
      ]
     },
     "execution_count": 5,
     "metadata": {},
     "output_type": "execute_result"
    }
   ],
   "source": [
    "df.columns.tolist()"
   ]
  },
  {
   "cell_type": "markdown",
   "metadata": {},
   "source": [
    "# missing Values "
   ]
  },
  {
   "cell_type": "code",
   "execution_count": 6,
   "metadata": {},
   "outputs": [
    {
     "data": {
      "text/plain": [
       "CAMIS                         0\n",
       "DBA                         577\n",
       "BORO                          0\n",
       "BUILDING                    164\n",
       "STREET                        3\n",
       "ZIPCODE                       3\n",
       "PHONE                         2\n",
       "CUISINE DESCRIPTION           0\n",
       "INSPECTION DATE               0\n",
       "ACTION                     1318\n",
       "VIOLATION CODE             6200\n",
       "VIOLATION DESCRIPTION      7552\n",
       "CRITICAL FLAG                 0\n",
       "SCORE                     20039\n",
       "GRADE                    186357\n",
       "GRADE DATE               188775\n",
       "RECORD DATE                   0\n",
       "INSPECTION TYPE            1318\n",
       "dtype: int64"
      ]
     },
     "execution_count": 6,
     "metadata": {},
     "output_type": "execute_result"
    }
   ],
   "source": [
    "df.isnull().sum()"
   ]
  },
  {
   "cell_type": "markdown",
   "metadata": {},
   "source": [
    "# Score Analysis"
   ]
  },
  {
   "cell_type": "code",
   "execution_count": 7,
   "metadata": {},
   "outputs": [
    {
     "data": {
      "text/plain": [
       "count    350865.000000\n",
       "mean         19.143024\n",
       "std          13.409118\n",
       "min          -2.000000\n",
       "25%          11.000000\n",
       "50%          14.000000\n",
       "75%          24.000000\n",
       "max         178.000000\n",
       "Name: SCORE, dtype: float64"
      ]
     },
     "execution_count": 7,
     "metadata": {},
     "output_type": "execute_result"
    }
   ],
   "source": [
    "df['SCORE'].describe()"
   ]
  },
  {
   "cell_type": "code",
   "execution_count": 8,
   "metadata": {},
   "outputs": [
    {
     "data": {
      "text/plain": [
       "Text(0.5,0,'Score')"
      ]
     },
     "execution_count": 8,
     "metadata": {},
     "output_type": "execute_result"
    },
    {
     "data": {
      "image/png": "[encoded data removed]",
      "text/plain": [
       "<Figure size 720x288 with 1 Axes>"
      ]
     },
     "metadata": {},
     "output_type": "display_data"
    }
   ],
   "source": [
    "df.SCORE.hist(figsize=(10,4))\n",
    "plt.title(\"Boxplot for the Scores\")\n",
    "plt.xlabel('Score')"
   ]
  },
  {
   "cell_type": "markdown",
   "metadata": {},
   "source": [
    "# Grades Analysis"
   ]
  },
  {
   "cell_type": "code",
   "execution_count": 9,
   "metadata": {},
   "outputs": [
    {
     "data": {
      "text/plain": [
       "A                 147517\n",
       "B                  23254\n",
       "C                   6213\n",
       "Z                   3367\n",
       "Not Yet Graded      2430\n",
       "P                   1763\n",
       "G                      3\n",
       "Name: GRADE, dtype: int64"
      ]
     },
     "execution_count": 9,
     "metadata": {},
     "output_type": "execute_result"
    }
   ],
   "source": [
    "df.GRADE.value_counts()\n"
   ]
  },
  {
   "cell_type": "markdown",
   "metadata": {},
   "source": [
    "# Boroughs Analysis¶"
   ]
  },
  {
   "cell_type": "code",
   "execution_count": 10,
   "metadata": {},
   "outputs": [
    {
     "data": {
      "text/plain": [
       "MANHATTAN        147332\n",
       "BROOKLYN          94717\n",
       "QUEENS            83048\n",
       "BRONX             33118\n",
       "STATEN ISLAND     12671\n",
       "Missing              18\n",
       "Name: BORO, dtype: int64"
      ]
     },
     "execution_count": 10,
     "metadata": {},
     "output_type": "execute_result"
    }
   ],
   "source": [
    "df.BORO.value_counts()"
   ]
  },
  {
   "cell_type": "markdown",
   "metadata": {},
   "source": [
    "# Contingency table for Grade and Borough"
   ]
  },
  {
   "cell_type": "code",
   "execution_count": 11,
   "metadata": {},
   "outputs": [
    {
     "data": {
      "text/html": [
       "<div>\n",
       "<style scoped>\n",
       "    .dataframe tbody tr th:only-of-type {\n",
       "        vertical-align: middle;\n",
       "    }\n",
       "\n",
       "    .dataframe tbody tr th {\n",
       "        vertical-align: top;\n",
       "    }\n",
       "\n",
       "    .dataframe thead th {\n",
       "        text-align: right;\n",
       "    }\n",
       "</style>\n",
       "<table border=\"1\" class=\"dataframe\">\n",
       "  <thead>\n",
       "    <tr style=\"text-align: right;\">\n",
       "      <th>BORO</th>\n",
       "      <th>BRONX</th>\n",
       "      <th>BROOKLYN</th>\n",
       "      <th>MANHATTAN</th>\n",
       "      <th>Missing</th>\n",
       "      <th>QUEENS</th>\n",
       "      <th>STATEN ISLAND</th>\n",
       "      <th>All</th>\n",
       "    </tr>\n",
       "    <tr>\n",
       "      <th>GRADE</th>\n",
       "      <th></th>\n",
       "      <th></th>\n",
       "      <th></th>\n",
       "      <th></th>\n",
       "      <th></th>\n",
       "      <th></th>\n",
       "      <th></th>\n",
       "    </tr>\n",
       "  </thead>\n",
       "  <tbody>\n",
       "    <tr>\n",
       "      <th>A</th>\n",
       "      <td>13334</td>\n",
       "      <td>36345</td>\n",
       "      <td>58940</td>\n",
       "      <td>6</td>\n",
       "      <td>33807</td>\n",
       "      <td>5085</td>\n",
       "      <td>147517</td>\n",
       "    </tr>\n",
       "    <tr>\n",
       "      <th>B</th>\n",
       "      <td>2402</td>\n",
       "      <td>6021</td>\n",
       "      <td>8781</td>\n",
       "      <td>0</td>\n",
       "      <td>5223</td>\n",
       "      <td>827</td>\n",
       "      <td>23254</td>\n",
       "    </tr>\n",
       "    <tr>\n",
       "      <th>C</th>\n",
       "      <td>663</td>\n",
       "      <td>1578</td>\n",
       "      <td>2526</td>\n",
       "      <td>0</td>\n",
       "      <td>1277</td>\n",
       "      <td>169</td>\n",
       "      <td>6213</td>\n",
       "    </tr>\n",
       "    <tr>\n",
       "      <th>G</th>\n",
       "      <td>0</td>\n",
       "      <td>0</td>\n",
       "      <td>3</td>\n",
       "      <td>0</td>\n",
       "      <td>0</td>\n",
       "      <td>0</td>\n",
       "      <td>3</td>\n",
       "    </tr>\n",
       "    <tr>\n",
       "      <th>Not Yet Graded</th>\n",
       "      <td>208</td>\n",
       "      <td>713</td>\n",
       "      <td>890</td>\n",
       "      <td>0</td>\n",
       "      <td>526</td>\n",
       "      <td>93</td>\n",
       "      <td>2430</td>\n",
       "    </tr>\n",
       "    <tr>\n",
       "      <th>P</th>\n",
       "      <td>180</td>\n",
       "      <td>551</td>\n",
       "      <td>619</td>\n",
       "      <td>0</td>\n",
       "      <td>363</td>\n",
       "      <td>50</td>\n",
       "      <td>1763</td>\n",
       "    </tr>\n",
       "    <tr>\n",
       "      <th>Z</th>\n",
       "      <td>278</td>\n",
       "      <td>932</td>\n",
       "      <td>1281</td>\n",
       "      <td>0</td>\n",
       "      <td>785</td>\n",
       "      <td>91</td>\n",
       "      <td>3367</td>\n",
       "    </tr>\n",
       "    <tr>\n",
       "      <th>All</th>\n",
       "      <td>17065</td>\n",
       "      <td>46140</td>\n",
       "      <td>73040</td>\n",
       "      <td>6</td>\n",
       "      <td>41981</td>\n",
       "      <td>6315</td>\n",
       "      <td>184547</td>\n",
       "    </tr>\n",
       "  </tbody>\n",
       "</table>\n",
       "</div>"
      ],
      "text/plain": [
       "BORO            BRONX  BROOKLYN  MANHATTAN  Missing  QUEENS  STATEN ISLAND  \\\n",
       "GRADE                                                                        \n",
       "A               13334     36345      58940        6   33807           5085   \n",
       "B                2402      6021       8781        0    5223            827   \n",
       "C                 663      1578       2526        0    1277            169   \n",
       "G                   0         0          3        0       0              0   \n",
       "Not Yet Graded    208       713        890        0     526             93   \n",
       "P                 180       551        619        0     363             50   \n",
       "Z                 278       932       1281        0     785             91   \n",
       "All             17065     46140      73040        6   41981           6315   \n",
       "\n",
       "BORO               All  \n",
       "GRADE                   \n",
       "A               147517  \n",
       "B                23254  \n",
       "C                 6213  \n",
       "G                    3  \n",
       "Not Yet Graded    2430  \n",
       "P                 1763  \n",
       "Z                 3367  \n",
       "All             184547  "
      ]
     },
     "execution_count": 11,
     "metadata": {},
     "output_type": "execute_result"
    }
   ],
   "source": [
    "boro_grade = pd.crosstab(df.GRADE, df.BORO, margins = True)\n",
    "boro_grade"
   ]
  },
  {
   "cell_type": "markdown",
   "metadata": {},
   "source": [
    "# Plot of grade by borough"
   ]
  },
  {
   "cell_type": "code",
   "execution_count": 12,
   "metadata": {},
   "outputs": [
    {
     "data": {
      "text/plain": [
       "Text(0.5,1,'Grade Distribution by Borough')"
      ]
     },
     "execution_count": 12,
     "metadata": {},
     "output_type": "execute_result"
    },
    {
     "data": {
      "image/png": "[encoded data removed]",
      "text/plain": [
       "<Figure size 1080x576 with 1 Axes>"
      ]
     },
     "metadata": {},
     "output_type": "display_data"
    }
   ],
   "source": [
    "\n",
    "pd.crosstab(df.BORO, df.GRADE).plot(kind=\"bar\", figsize=(15,8), stacked=True)\n",
    "plt.title('Grade Distribution by Borough', fontsize = 15)\n"
   ]
  },
  {
   "cell_type": "markdown",
   "metadata": {},
   "source": [
    "# Cuisine Analysis"
   ]
  },
  {
   "cell_type": "code",
   "execution_count": 13,
   "metadata": {},
   "outputs": [
    {
     "data": {
      "text/plain": [
       "American                                                            82508\n",
       "Chinese                                                             38313\n",
       "Latin (Cuban, Dominican, Puerto Rican, South & Central American)    16827\n",
       "Pizza                                                               16572\n",
       "CafÃ©/Coffee/Tea                                                    16336\n",
       "Italian                                                             15995\n",
       "Mexican                                                             14459\n",
       "Japanese                                                            13256\n",
       "Caribbean                                                           12698\n",
       "Bakery                                                              11199\n",
       "Spanish                                                             10921\n",
       "Pizza/Italian                                                        8042\n",
       "Chicken                                                              6252\n",
       "Indian                                                               5915\n",
       "Asian                                                                5760\n",
       "Delicatessen                                                         5756\n",
       "Donuts                                                               5572\n",
       "Jewish/Kosher                                                        5346\n",
       "Thai                                                                 4944\n",
       "Korean                                                               4834\n",
       "Hamburgers                                                           4793\n",
       "French                                                               4626\n",
       "Sandwiches                                                           4278\n",
       "Mediterranean                                                        3517\n",
       "Juice, Smoothies, Fruit Salads                                       3445\n",
       "Irish                                                                3017\n",
       "Ice Cream, Gelato, Yogurt, Ices                                      2831\n",
       "Bagels/Pretzels                                                      2777\n",
       "Other                                                                2763\n",
       "Sandwiches/Salads/Mixed Buffet                                       2748\n",
       "                                                                    ...  \n",
       "Tapas                                                                 485\n",
       "Armenian                                                              422\n",
       "Brazilian                                                             412\n",
       "Chinese/Cuban                                                         309\n",
       "Australian                                                            301\n",
       "Hotdogs                                                               282\n",
       "Hawaiian                                                              270\n",
       "Pancakes/Waffles                                                      247\n",
       "Ethiopian                                                             236\n",
       "English                                                               206\n",
       "Moroccan                                                              196\n",
       "Afghan                                                                190\n",
       "Hotdogs/Pretzels                                                      185\n",
       "Egyptian                                                              175\n",
       "Portuguese                                                            149\n",
       "Southwestern                                                          138\n",
       "Cajun                                                                 108\n",
       "Indonesian                                                            102\n",
       "Creole/Cajun                                                           92\n",
       "Not Listed/Not Applicable                                              73\n",
       "Californian                                                            67\n",
       "Scandinavian                                                           63\n",
       "Fruits/Vegetables                                                      56\n",
       "Polynesian                                                             47\n",
       "Iranian                                                                44\n",
       "Nuts/Confectionary                                                     40\n",
       "Soups                                                                  37\n",
       "Czech                                                                  33\n",
       "Chilean                                                                17\n",
       "Basque                                                                  5\n",
       "Name: CUISINE DESCRIPTION, Length: 85, dtype: int64"
      ]
     },
     "execution_count": 13,
     "metadata": {},
     "output_type": "execute_result"
    }
   ],
   "source": [
    "df['CUISINE DESCRIPTION'].value_counts()\n"
   ]
  },
  {
   "cell_type": "markdown",
   "metadata": {},
   "source": [
    "# Action Taken Analysis"
   ]
  },
  {
   "cell_type": "code",
   "execution_count": 14,
   "metadata": {},
   "outputs": [
    {
     "data": {
      "text/plain": [
       "Violations were cited in the following area(s).                                                                                        349653\n",
       "Establishment Closed by DOHMH.  Violations were cited in the following area(s) and those requiring immediate action were addressed.     10717\n",
       "No violations were recorded at the time of this inspection.                                                                              4833\n",
       "Establishment re-opened by DOHMH                                                                                                         3168\n",
       "Establishment re-closed by DOHMH                                                                                                         1215\n",
       "Name: ACTION, dtype: int64"
      ]
     },
     "execution_count": 14,
     "metadata": {},
     "output_type": "execute_result"
    }
   ],
   "source": [
    "df.ACTION.value_counts()"
   ]
  },
  {
   "cell_type": "markdown",
   "metadata": {},
   "source": [
    "# Critical Flag Analysis"
   ]
  },
  {
   "cell_type": "code",
   "execution_count": 15,
   "metadata": {},
   "outputs": [
    {
     "data": {
      "text/plain": [
       "Critical          202954\n",
       "Not Critical      160398\n",
       "Not Applicable      7552\n",
       "Name: CRITICAL FLAG, dtype: int64"
      ]
     },
     "execution_count": 15,
     "metadata": {},
     "output_type": "execute_result"
    }
   ],
   "source": [
    "df['CRITICAL FLAG'].value_counts()"
   ]
  },
  {
   "cell_type": "markdown",
   "metadata": {},
   "source": [
    "# Critical Flag by Borough"
   ]
  },
  {
   "cell_type": "code",
   "execution_count": 16,
   "metadata": {},
   "outputs": [
    {
     "data": {
      "text/plain": [
       "Text(0.5,1,'Critical Flag by Borough')"
      ]
     },
     "execution_count": 16,
     "metadata": {},
     "output_type": "execute_result"
    },
    {
     "data": {
      "image/png": "[encoded data removed]",
      "text/plain": [
       "<Figure size 1080x576 with 1 Axes>"
      ]
     },
     "metadata": {},
     "output_type": "display_data"
    }
   ],
   "source": [
    "pd.crosstab(df.BORO, df['CRITICAL FLAG']).plot(kind=\"bar\", figsize=(15,8), stacked=True)\n",
    "plt.title('Critical Flag by Borough', fontsize = 15)"
   ]
  },
  {
   "cell_type": "markdown",
   "metadata": {},
   "source": [
    "# Inspection"
   ]
  },
  {
   "cell_type": "code",
   "execution_count": 17,
   "metadata": {},
   "outputs": [
    {
     "data": {
      "text/plain": [
       "Cycle Inspection / Initial Inspection                          217406\n",
       "Cycle Inspection / Re-inspection                                87406\n",
       "Pre-permit (Operational) / Initial Inspection                   24179\n",
       "Pre-permit (Operational) / Re-inspection                        10270\n",
       "Administrative Miscellaneous / Initial Inspection                7210\n",
       "Cycle Inspection / Reopening Inspection                          3811\n",
       "Pre-permit (Non-operational) / Initial Inspection                3653\n",
       "Smoke-Free Air Act / Initial Inspection                          3322\n",
       "Administrative Miscellaneous / Re-inspection                     2354\n",
       "Trans Fat / Initial Inspection                                   2343\n",
       "Cycle Inspection / Compliance Inspection                         1234\n",
       "Calorie Posting / Initial Inspection                             1022\n",
       "Smoke-Free Air Act / Re-inspection                                981\n",
       "Inter-Agency Task Force / Initial Inspection                      956\n",
       "Pre-permit (Operational) / Compliance Inspection                  786\n",
       "Pre-permit (Operational) / Reopening Inspection                   767\n",
       "Trans Fat / Re-inspection                                         731\n",
       "Pre-permit (Non-operational) / Re-inspection                      292\n",
       "Calorie Posting / Re-inspection                                   218\n",
       "Administrative Miscellaneous / Compliance Inspection              180\n",
       "Trans Fat / Compliance Inspection                                 173\n",
       "Administrative Miscellaneous / Reopening Inspection               103\n",
       "Pre-permit (Operational) / Second Compliance Inspection            45\n",
       "Administrative Miscellaneous / Second Compliance Inspection        30\n",
       "Smoke-Free Air Act / Compliance Inspection                         28\n",
       "Cycle Inspection / Second Compliance Inspection                    25\n",
       "Pre-permit (Non-operational) / Compliance Inspection               23\n",
       "Trans Fat / Second Compliance Inspection                           16\n",
       "Calorie Posting / Compliance Inspection                            12\n",
       "Smoke-Free Air Act / Second Compliance Inspection                   5\n",
       "Smoke-Free Air Act / Limited Inspection                             2\n",
       "Trans Fat / Limited Inspection                                      1\n",
       "Pre-permit (Non-operational) / Second Compliance Inspection         1\n",
       "Inter-Agency Task Force / Re-inspection                             1\n",
       "Name: INSPECTION TYPE, dtype: int64"
      ]
     },
     "execution_count": 17,
     "metadata": {},
     "output_type": "execute_result"
    }
   ],
   "source": [
    "df['INSPECTION TYPE'].value_counts()"
   ]
  },
  {
   "cell_type": "code",
   "execution_count": null,
   "metadata": {},
   "outputs": [],
   "source": []
  },
  {
   "cell_type": "code",
   "execution_count": null,
   "metadata": {},
   "outputs": [],
   "source": []
  },
  {
   "cell_type": "code",
   "execution_count": null,
   "metadata": {},
   "outputs": [],
   "source": []
  }
 ],
 "metadata": {
  "kernelspec": {
   "display_name": "Python 3",
   "language": "python",
   "name": "python3"
  },
  "language_info": {
   "codemirror_mode": {
    "name": "ipython",
    "version": 3
   },
   "file_extension": ".py",
   "mimetype": "text/x-python",
   "name": "python",
   "nbconvert_exporter": "python",
   "pygments_lexer": "ipython3",
   "version": "3.6.5"
  }
 },
 "nbformat": 4,
 "nbformat_minor": 2
}
