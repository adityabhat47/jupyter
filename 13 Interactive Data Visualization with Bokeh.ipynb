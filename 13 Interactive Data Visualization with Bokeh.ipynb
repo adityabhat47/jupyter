{
 "cells": [
  {
   "cell_type": "markdown",
   "metadata": {},
   "source": [
    "# Basic plotting with Bokeh"
   ]
  },
  {
   "cell_type": "markdown",
   "metadata": {},
   "source": [
    "What are glyphs?\n",
    "50xp\n",
    "In Bokeh, visual properties of shapes are called glyphs. The visual properties of these glyphs such as position or color can be assigned single values, for example x=10 or fill_color='red'.\n",
    "\n",
    "What other kinds of values can glyph properties be set to in normal usage?"
   ]
  },
  {
   "cell_type": "code",
   "execution_count": null,
   "metadata": {
    "collapsed": true
   },
   "outputs": [],
   "source": [
    "# Import figure from bokeh.plotting\n",
    "from bokeh.plotting import figure\n",
    "\n",
    "# Import output_file and show from bokeh.io\n",
    "from bokeh.io import output_file, show\n",
    "\n",
    "# Create the figure: p\n",
    "p = figure(x_axis_label='fertility (children per woman)', y_axis_label='female_literacy (% population)')\n",
    "\n",
    "# Add a circle glyph to the figure p\n",
    "p.circle(fertility, female_literacy)\n",
    "\n",
    "# Call the output_file() function and specify the name of the file\n",
    "output_file('fert_lit.html')\n",
    "\n",
    "# Display the plot\n",
    "show(p)\n"
   ]
  },
  {
   "cell_type": "code",
   "execution_count": null,
   "metadata": {
    "collapsed": true
   },
   "outputs": [],
   "source": [
    "# Create the figure: p\n",
    "p = figure(x_axis_label='fertility', y_axis_label='female_literacy (% population)')\n",
    "\n",
    "# Add a circle glyph to the figure p\n",
    "p.circle(fertility_latinamerica,female_literacy_latinamerica)\n",
    "\n",
    "# Add an x glyph to the figure p\n",
    "p.x(fertility_africa,female_literacy_africa)\n",
    "\n",
    "# Specify the name of the file\n",
    "output_file('fert_lit_separate.html')\n",
    "\n",
    "# Display the plot\n",
    "show(p)\n"
   ]
  },
  {
   "cell_type": "code",
   "execution_count": null,
   "metadata": {
    "collapsed": true
   },
   "outputs": [],
   "source": [
    "# Create the figure: p\n",
    "p = figure(x_axis_label='fertility (children per woman)', y_axis_label='female_literacy (% population)')\n",
    "\n",
    "# Add a blue circle glyph to the figure p\n",
    "p.circle(fertility_latinamerica, female_literacy_latinamerica, color = 'blue', size=10, alpha=0.8)\n",
    "\n",
    "# Add a red circle glyph to the figure p\n",
    "p.circle(fertility_africa, female_literacy_africa, color = 'red', size=10, alpha=0.8)\n",
    "\n",
    "# Specify the name of the file\n",
    "output_file('fert_lit_separate_colors.html')\n",
    "\n",
    "# Display the plot\n",
    "show(p)\n"
   ]
  },
  {
   "cell_type": "code",
   "execution_count": null,
   "metadata": {
    "collapsed": true
   },
   "outputs": [],
   "source": [
    "# Import figure from bokeh.plotting\n",
    "from bokeh.plotting import figure\n",
    "\n",
    "# Create a figure with x_axis_type=\"datetime\": p\n",
    "p = figure(x_axis_type='datetime', x_axis_label='Date', y_axis_label='US Dollars')\n",
    "\n",
    "# Plot date along the x axis and price along the y axis\n",
    "p.line(date,price)\n",
    "\n",
    "# Specify the name of the output file and show the result\n",
    "output_file('line.html')\n",
    "show(p)\n"
   ]
  },
  {
   "cell_type": "code",
   "execution_count": null,
   "metadata": {
    "collapsed": true
   },
   "outputs": [],
   "source": [
    "# Import figure from bokeh.plotting\n",
    "from bokeh.plotting import figure\n",
    "\n",
    "# Create a figure with x_axis_type='datetime': p\n",
    "p = figure(x_axis_type='datetime', x_axis_label='Date', y_axis_label='US Dollars')\n",
    "\n",
    "# Plot date along the x-axis and price along the y-axis\n",
    "p.line(date,price)\n",
    "\n",
    "# With date on the x-axis and price on the y-axis, add a white circle glyph of size 4\n",
    "p.circle(date, price, fill_color='white', size=4)\n",
    "\n",
    "# Specify the name of the output file and show the result\n",
    "output_file('line.html')\n",
    "show(p)"
   ]
  },
  {
   "cell_type": "code",
   "execution_count": null,
   "metadata": {
    "collapsed": true
   },
   "outputs": [],
   "source": [
    "# Create a list of az_lons, co_lons, nm_lons and ut_lons: x\n",
    "x = [az_lons, co_lons, nm_lons, ut_lons]\n",
    "\n",
    "# Create a list of az_lats, co_lats, nm_lats and ut_lats: y\n",
    "y = [az_lats, co_lats, nm_lats,ut_lats]\n",
    "\n",
    "# Add patches to figure p with line_color=white for x and y\n",
    "p.patches(x,y,line_color='white')\n",
    "\n",
    "# Specify the name of the output file and show the result\n",
    "output_file('four_corners.html')\n",
    "show(p)"
   ]
  },
  {
   "cell_type": "code",
   "execution_count": 9,
   "metadata": {
    "collapsed": true
   },
   "outputs": [],
   "source": [
    "# Import numpy as np\n",
    "import numpy as np\n",
    "\n",
    "# Create array using np.linspace: x\n",
    "x = np.linspace(0, 5,100)\n",
    "\n",
    "# Create array using np.cos: y\n",
    "y = np.cos(x)\n",
    "\n",
    "# Add circles at x and y\n",
    "p.circle(x ,y )\n",
    "\n",
    "# Specify the name of the output file and show the result\n",
    "output_file('numpy.html')\n",
    "show(p)"
   ]
  },
  {
   "cell_type": "code",
   "execution_count": null,
   "metadata": {
    "collapsed": true
   },
   "outputs": [],
   "source": [
    "# Import pandas as pd\n",
    "import pandas as pd\n",
    "\n",
    "# Read in the CSV file: df\n",
    "df = pd.read_csv('auto.csv')\n",
    "\n",
    "# Import figure from bokeh.plotting\n",
    "from bokeh.plotting import figure\n",
    "\n",
    "# Create the figure: p\n",
    "p = figure(x_axis_label='HP', y_axis_label='MPG')\n",
    "\n",
    "# Plot mpg vs hp by color\n",
    "p.circle(df['hp'],df['mpg'],color=df['color'],size =10)\n",
    "\n",
    "# Specify the name of the output file and show the result\n",
    "output_file('auto-df.html')\n",
    "show(p)\n"
   ]
  },
  {
   "cell_type": "markdown",
   "metadata": {},
   "source": [
    "The Bokeh ColumnDataSource\n",
    "50xp\n",
    "The ColumnDataSource is a table-like data object that maps string column names to sequences (columns) of data. It is the central and most common data structure in Bokeh.\n",
    "\n",
    "Which of the following statements about ColumnDataSource objects is true?"
   ]
  },
  {
   "cell_type": "code",
   "execution_count": null,
   "metadata": {
    "collapsed": true
   },
   "outputs": [],
   "source": [
    "# Import the ColumnDataSource class from bokeh.plotting\n",
    "from bokeh.plotting import ColumnDataSource\n",
    "\n",
    "# Create a ColumnDataSource from df: source\n",
    "source = ColumnDataSource(df)\n",
    "\n",
    "# Add circle glyphs to the figure p\n",
    "p.circle('Year','Time',source=source,color='color',size=8)\n",
    "\n",
    "# Specify the name of the output file and show the result\n",
    "output_file('sprint.html')\n",
    "show(p)\n"
   ]
  },
  {
   "cell_type": "code",
   "execution_count": null,
   "metadata": {
    "collapsed": true
   },
   "outputs": [],
   "source": [
    "# Create a figure with the \"box_select\" tool: p\n",
    "p = figure(tools='box_select',x_axis_label='Year',y_axis_label='Time')\n",
    "\n",
    "# Add circle glyphs to the figure p with the selected and non-selected properties\n",
    "p.circle( x='Year',y='Time',source=source,selection_color='red',nonselection_alpha=0.1)\n",
    "\n",
    "# Specify the name of the output file and show the result\n",
    "output_file('selection_glyph.html')\n",
    "show(p)\n"
   ]
  },
  {
   "cell_type": "code",
   "execution_count": 13,
   "metadata": {
    "collapsed": true
   },
   "outputs": [],
   "source": [
    "# import the HoverTool\n",
    "from bokeh.models import HoverTool\n",
    "\n",
    "# Add circle glyphs to figure p\n",
    "p.circle(x, y, size=10,\n",
    "         fill_color='grey', alpha=0.1, line_color=None,\n",
    "         hover_fill_color='firebrick', hover_alpha=0.5,\n",
    "         hover_line_color='white')\n",
    "\n",
    "# Create a HoverTool: hover\n",
    "hover = HoverTool(tooltips=None,mode='vline')\n",
    "\n",
    "# Add the hover tool to the figure p\n",
    "p.add_tools(hover)\n",
    "\n",
    "# Specify the name of the output file and show the result\n",
    "output_file('hover_glyph.html')\n",
    "show(p)\n"
   ]
  },
  {
   "cell_type": "code",
   "execution_count": null,
   "metadata": {
    "collapsed": true
   },
   "outputs": [],
   "source": [
    "#Import CategoricalColorMapper from bokeh.models\n",
    "from bokeh.models import CategoricalColorMapper\n",
    "\n",
    "# Convert df to a ColumnDataSource: source\n",
    "source = ColumnDataSource(df)\n",
    "\n",
    "# Make a CategoricalColorMapper object: color_mapper\n",
    "color_mapper = CategoricalColorMapper(factors=['Europe', 'Asia', 'US'],\n",
    "                                      palette=['red', 'green', 'blue'])\n",
    "\n",
    "# Add a circle glyph to the figure p\n",
    "p.circle('weight', 'mpg', source=source,\n",
    "            color=dict(field='origin', transform=color_mapper),\n",
    "            legend='origin')\n",
    "\n",
    "# Specify the name of the output file and show the result\n",
    "output_file('colormap.html')\n",
    "show(p)\n"
   ]
  },
  {
   "cell_type": "markdown",
   "metadata": {},
   "source": [
    "# Layouts, Interactions, and Annotations\n"
   ]
  },
  {
   "cell_type": "code",
   "execution_count": null,
   "metadata": {
    "collapsed": true
   },
   "outputs": [],
   "source": [
    "# Import row from bokeh.layouts\n",
    "from bokeh.layouts import row\n",
    "\n",
    "# Create the first figure: p1\n",
    "p1 = figure(x_axis_label='fertility (children per woman)', y_axis_label='female_literacy (% population)')\n",
    "\n",
    "# Add a circle glyph to p1\n",
    "p1.circle('fertility' , 'female_literacy', source=source)\n",
    "\n",
    "# Create the second figure: p2\n",
    "p2 = figure(x_axis_label='population', y_axis_label='female_literacy (% population)')\n",
    "\n",
    "# Add a circle glyph to p2\n",
    "p2.circle('population','female_literacy',source=source)\n",
    "\n",
    "# Put p1 and p2 into a horizontal row: layout\n",
    "layout = row(p1,p2)\n",
    "\n",
    "# Specify the name of the output_file and show the result\n",
    "output_file('fert_row.html')\n",
    "show(layout)\n"
   ]
  },
  {
   "cell_type": "code",
   "execution_count": null,
   "metadata": {
    "collapsed": true
   },
   "outputs": [],
   "source": [
    "# Import column from the bokeh.layouts module\n",
    "from bokeh.layouts import column\n",
    "\n",
    "# Create a blank figure: p1\n",
    "p1 = figure(x_axis_label='fertility (children per woman)', y_axis_label='female_literacy (% population)')\n",
    "\n",
    "# Add circle scatter to the figure p1\n",
    "p1.circle('fertility', 'female_literacy', source=source)\n",
    "\n",
    "# Create a new blank figure: p2\n",
    "p2 = figure(x_axis_label= 'population', y_axis_label='female_literacy (% population)')\n",
    "\n",
    "# Add circle scatter to the figure p2\n",
    "p2.circle('population', 'female_literacy', source=source)\n",
    "\n",
    "# Put plots p1 and p2 in a column: layout\n",
    "layout =column(p1,p2)\n",
    "\n",
    "# Specify the name of the output_file and show the result\n",
    "output_file('fert_column.html')\n",
    "show(layout)"
   ]
  },
  {
   "cell_type": "code",
   "execution_count": null,
   "metadata": {
    "collapsed": true
   },
   "outputs": [],
   "source": [
    "# Import column and row from bokeh.layouts\n",
    "from bokeh.layouts import column, row\n",
    "\n",
    "# Make a column layout that will be used as the second row: row2\n",
    "row2 = column([mpg_hp, mpg_weight], sizing_mode='scale_width')\n",
    "\n",
    "# Make a row layout that includes the above column layout: layout\n",
    "layout = row([avg_mpg, row2], sizing_mode='scale_width')\n",
    "\n",
    "# Specify the name of the output_file and show the result\n",
    "output_file('layout_custom.html')\n",
    "show(layout)"
   ]
  },
  {
   "cell_type": "markdown",
   "metadata": {},
   "source": [
    "Investigating the layout API\n",
    "50xp\n",
    "Bokeh layouts allow for positioning items visually in the page presented to the user. What kinds of objects can be put into Bokeh layouts?\n",
    "\n",
    "Possible Answers\n",
    "Plots\n",
    "Widgets\n",
    "Other Layouts\n",
    "All of the above"
   ]
  },
  {
   "cell_type": "code",
   "execution_count": null,
   "metadata": {
    "collapsed": true
   },
   "outputs": [],
   "source": [
    "# Import gridplot from bokeh.layouts\n",
    "from bokeh.layouts import gridplot\n",
    "\n",
    "# Create a list containing plots p1 and p2: row1\n",
    "row1=[p1 ,p2]\n",
    "\n",
    "# Create a list containing plots p3 and p4: row2\n",
    "row2=[p3 ,p4]\n",
    "\n",
    "# Create a gridplot using row1 and row2: layout\n",
    "layout =  gridplot([row1 ,row2])\n",
    "\n",
    "# Specify the name of the output_file and show the result\n",
    "output_file('grid.html')\n",
    "show(layout)"
   ]
  },
  {
   "cell_type": "code",
   "execution_count": null,
   "metadata": {
    "collapsed": true
   },
   "outputs": [],
   "source": [
    "# Import Panel from bokeh.models.widgets\n",
    "from bokeh.models.widgets import Panel\n",
    "\n",
    "# Create tab1 from plot p1: tab1\n",
    "tab1 = Panel(child=p1, title ='Latin America')\n",
    "\n",
    "# Create tab2 from plot p2: tab2\n",
    "tab2 = Panel(child=p2, title ='Africa')\n",
    "\n",
    "# Create tab3 from plot p3: tab3\n",
    "tab3 = Panel(child=p3, title ='Asia')\n",
    "\n",
    "# Create tab4 from plot p4: tab4\n",
    "tab4 = Panel(child=p4, title ='Europe')\n"
   ]
  },
  {
   "cell_type": "code",
   "execution_count": null,
   "metadata": {
    "collapsed": true
   },
   "outputs": [],
   "source": [
    "# Import Tabs from bokeh.models.widgets\n",
    "from bokeh.models.widgets import Tabs\n",
    "\n",
    "# Create a Tabs layout: layout\n",
    "layout = Tabs(tabs =[tab1, tab2, tab3, tab4])\n",
    "\n",
    "# Specify the name of the output_file and show the result\n",
    "output_file('tabs.html')\n",
    "show(layout)"
   ]
  },
  {
   "cell_type": "code",
   "execution_count": null,
   "metadata": {
    "collapsed": true
   },
   "outputs": [],
   "source": [
    "# Link the x_range of p2 to p1: p2.x_range\n",
    "p2.x_range = p1.x_range\n",
    "\n",
    "# Link the y_range of p2 to p1: p2.y_range\n",
    "p2.y_range = p1.y_range\n",
    "\n",
    "# Link the x_range of p3 to p1: p3.x_range\n",
    "p3.x_range=p1.x_range\n",
    "\n",
    "# Link the y_range of p4 to p1: p4.y_range\n",
    "p4.y_range=p1.y_range\n",
    "\n",
    "# Specify the name of the output_file and show the result\n",
    "output_file('linked_range.html')\n",
    "show(layout)\n"
   ]
  },
  {
   "cell_type": "code",
   "execution_count": null,
   "metadata": {
    "collapsed": true
   },
   "outputs": [],
   "source": [
    "# Create ColumnDataSource: source\n",
    "source = ColumnDataSource(data)\n",
    "\n",
    "# Create the first figure: p1\n",
    "p1 = figure(x_axis_label ='fertility (children per woman)', y_axis_label='female literacy (% population)',\n",
    "            tools='box_select,lasso_select')\n",
    "\n",
    "# Add a circle glyph to p1\n",
    "p1.circle('fertility','female literacy',source=source)\n",
    "\n",
    "# Create the second figure: p2\n",
    "p2 = figure(x_axis_label='fertility (children per woman)', y_axis_label='population (millions)',\n",
    "            tools='box_select,lasso_select')\n",
    "\n",
    "# Add a circle glyph to p2\n",
    "p2.circle('fertility','population',source=source)\n",
    "\n",
    "# Create row layout of figures p1 and p2: layout\n",
    "layout = row(p1 ,p2)\n",
    "\n",
    "# Specify the name of the output_file and show the result\n",
    "output_file('linked_brush.html')\n",
    "show(layout)"
   ]
  },
  {
   "cell_type": "code",
   "execution_count": null,
   "metadata": {
    "collapsed": true
   },
   "outputs": [],
   "source": [
    "# Add the first circle glyph to the figure p\n",
    "p.circle('fertility', 'female_literacy', source=latin_america, size=10, color='red' , legend='Latin America')\n",
    "\n",
    "# Add the second circle glyph to the figure p\n",
    "p.circle('fertility', 'female_literacy', source=africa, size=10, color='blue', legend='Africa')\n",
    "\n",
    "# Specify the name of the output_file and show the result\n",
    "output_file('fert_lit_groups.html')\n",
    "show(p)\n"
   ]
  },
  {
   "cell_type": "code",
   "execution_count": 25,
   "metadata": {
    "collapsed": true
   },
   "outputs": [],
   "source": [
    "# Assign the legend to the bottom left: p.legend.location\n",
    "p.legend.location='bottom_left'\n",
    "\n",
    "# Fill the legend background with the color 'lightgray': p.legend.background_fill_color\n",
    "p.legend.background_fill_color = 'lightgray'\n",
    "\n",
    "# Specify the name of the output_file and show the result\n",
    "output_file('fert_lit_groups.html')\n",
    "show(p)\n"
   ]
  },
  {
   "cell_type": "markdown",
   "metadata": {},
   "source": [
    "Hover tooltips for exposing details\n",
    "50xp\n",
    "When configuring hover tools, certain pre-defined fields such as mouse position or glyph index can be accessed with $-prefixed names, for example $x, $index. But tooltips can display values from arbitrary columns in a ColumnDataSource.\n",
    "\n",
    "What is the correct format to display values from a column \"sales\" in a hover tooltip?"
   ]
  },
  {
   "cell_type": "code",
   "execution_count": 26,
   "metadata": {
    "collapsed": true
   },
   "outputs": [],
   "source": [
    "# Import HoverTool from bokeh.models\n",
    "from bokeh.models import HoverTool\n",
    "\n",
    "# Create a HoverTool object: hover\n",
    "hover = HoverTool(tooltips=[('Country','@Country')])\n",
    "\n",
    "# Add the HoverTool object to figure p\n",
    "p.add_tools(hover)\n",
    "\n",
    "# Specify the name of the output_file and show the result\n",
    "output_file('hover.html')\n",
    "show(p)\n"
   ]
  },
  {
   "cell_type": "markdown",
   "metadata": {},
   "source": [
    "# High-level Charts"
   ]
  },
  {
   "cell_type": "code",
   "execution_count": null,
   "metadata": {
    "collapsed": true
   },
   "outputs": [],
   "source": [
    "# Import Histogram, output_file, and show from bokeh.charts\n",
    "from bokeh.charts import Histogram, output_file, show \n",
    "\n",
    "# Make a Histogram: p\n",
    "p = Histogram(df, 'female_literacy', title='Female Literacy')\n",
    "\n",
    "# Set the x axis label\n",
    "p.xaxis.axis_label = 'yo'\n",
    "\n",
    "# Set the y axis label\n",
    "p.yaxis.axis_label = 'go'\n",
    "# Specify the name of the output_file and show the result\n",
    "output_file('histogram.html')\n",
    "show(p)"
   ]
  },
  {
   "cell_type": "code",
   "execution_count": null,
   "metadata": {
    "collapsed": true
   },
   "outputs": [],
   "source": [
    "# Import Histogram, output_file, and show from bokeh.charts\n",
    "from bokeh.charts import Histogram, output_file, show\n",
    "\n",
    "# Make the Histogram: p\n",
    "p = Histogram(df, 'female_literacy', title='Female Literacy', bins=40 )\n",
    "\n",
    "# Set axis labels\n",
    "p.xaxis.axis_label = 'Female Literacy (% population)'\n",
    "p.yaxis.axis_label = 'Number of Countries'\n",
    "\n",
    "# Specify the name of the output_file and show the result\n",
    "output_file('histogram.html')\n",
    "show(p)"
   ]
  },
  {
   "cell_type": "code",
   "execution_count": null,
   "metadata": {
    "collapsed": true
   },
   "outputs": [],
   "source": [
    "# Import Histogram, output_file, and show from bokeh.charts\n",
    "from bokeh.charts import Histogram, output_file, show\n",
    "\n",
    "# Make a Histogram: p\n",
    "p = Histogram(df, 'female_literacy', title='Female Literacy',\n",
    "              color='Continent', legend='top_left')\n",
    "\n",
    "# Set axis labels\n",
    "p.xaxis.axis_label = 'Female Literacy (% population)'\n",
    "p.yaxis.axis_label = 'Number of Countries'\n",
    "\n",
    "# Specify the name of the output_file and show the result\n",
    "output_file('hist_bins.html')\n",
    "show(p)"
   ]
  },
  {
   "cell_type": "code",
   "execution_count": null,
   "metadata": {
    "collapsed": true
   },
   "outputs": [],
   "source": [
    "# Import BoxPlot, output_file, and show from bokeh.charts\n",
    "from bokeh.charts import BoxPlot, output_file, show\n",
    "\n",
    "# Make a box plot: p\n",
    "p = BoxPlot(df, values='female_literacy', label='Continent',\n",
    "            title='Female Literacy (grouped by Continent)', legend='bottom_right')\n",
    "\n",
    "# Set the y axis label\n",
    "p.yaxis.axis_label = 'Female literacy (% population)'\n",
    "\n",
    "# Specify the name of the output_file and show the result\n",
    "output_file('boxplot.html')\n",
    "show(p)"
   ]
  },
  {
   "cell_type": "code",
   "execution_count": null,
   "metadata": {
    "collapsed": true
   },
   "outputs": [],
   "source": [
    "# Import BoxPlot, output_file, and show\n",
    "from bokeh.charts import BoxPlot,output_file,show\n",
    "\n",
    "# Make a box plot: p\n",
    "p = BoxPlot(df, values='female_literacy', label='Continent', color='Continent',\n",
    "            title='Female Literacy (grouped by Continent)', legend='bottom_right')\n",
    "\n",
    "# Set y-axis label\n",
    "p.yaxis.axis_label = 'Female literacy (% population)'\n",
    "\n",
    "# Specify the name of the output_file and show the result\n",
    "output_file('boxplot.html')\n",
    "show(p)"
   ]
  },
  {
   "cell_type": "markdown",
   "metadata": {},
   "source": [
    "Understanding different Bokeh APIs\n",
    "50xp\n",
    "The high level Scatter in bokeh.charts is similar to marker plots from bokeh.plotting, but differs in important ways. What is a reason to consider using Scatter?"
   ]
  },
  {
   "cell_type": "code",
   "execution_count": null,
   "metadata": {
    "collapsed": true
   },
   "outputs": [],
   "source": [
    "# Import Scatter, output_file, and show from bokeh.charts\n",
    "from bokeh.charts import Scatter, output_file, show\n",
    "\n",
    "# Make a scatter plot: p\n",
    "p = Scatter(df, x='population', y='female_literacy',\n",
    "            title='Female Literacy vs Population')\n",
    "\n",
    "# Set the x-axis label\n",
    "p.xaxis.axis_label = 'yo'\n",
    "\n",
    "# Set the y-axis label\n",
    "p.yaxis.axis_label = 'go'\n",
    "# Specify the name of the output_file and show the result\n",
    "output_file('scatterplot.html')\n",
    "show(p)"
   ]
  },
  {
   "cell_type": "code",
   "execution_count": null,
   "metadata": {
    "collapsed": true
   },
   "outputs": [],
   "source": [
    "# Import Scatter, output_file, and show from bokeh.charts\n",
    "from bokeh.charts import Scatter, output_file, show\n",
    "\n",
    "# Make a scatter plot such that each circle is colored by its continent: p\n",
    "p = Scatter(df, x='population', y='female_literacy', color='Continent',\n",
    "            title='Female Literacy vs Population')\n",
    "\n",
    "# Set x-axis and y-axis labels\n",
    "p.xaxis.axis_label = 'Population (millions)'\n",
    "p.yaxis.axis_label = 'Female literacy (% population)'\n",
    "\n",
    "# Specify the name of the output_file and show the result\n",
    "output_file('scatterplot.html')\n",
    "show(p)"
   ]
  },
  {
   "cell_type": "code",
   "execution_count": null,
   "metadata": {
    "collapsed": true
   },
   "outputs": [],
   "source": [
    "# Import Scatter, output_file, and show from bokeh.charts\n",
    "from bokeh.charts import Scatter,output_file,show\n",
    "\n",
    "# Make a scatter plot such that each continent has a different marker type: p\n",
    "p = Scatter(df,x='population', y='female_literacy',color='Continent',marker='Continent',title = 'Female Literacy vs Population')\n",
    "\n",
    "# Set x-axis and y-axis labels\n",
    "p.xaxis.axis_label = 'Population (millions)'\n",
    "p.yaxis.axis_label = 'Female literacy (% population)'\n",
    "\n",
    "# Specify the name of the output_file and show the result\n",
    "output_file('scatterplot.html')\n",
    "show(p)"
   ]
  },
  {
   "cell_type": "markdown",
   "metadata": {},
   "source": [
    "# Building interactive apps with Bokeh"
   ]
  },
  {
   "cell_type": "markdown",
   "metadata": {},
   "source": [
    "Understanding Bokeh apps\n",
    "50xp\n",
    "The main purpose of the Bokeh server is to synchronize python objects with web applications in a browser, so that rich, interactive data applications can be connected to powerful PyData libraries such as NumPy, SciPy, Pandas, and scikit-learn.\n",
    "\n",
    "What sort of properties can the Bokeh server automatically keep in sync?\n",
    "\n",
    "Possible Answers\n",
    "Only data source objects.\n",
    "Only glyph properties.\n",
    "Any property of any Bokeh object."
   ]
  },
  {
   "cell_type": "code",
   "execution_count": 35,
   "metadata": {
    "collapsed": true
   },
   "outputs": [],
   "source": [
    "# Perform necessary imports\n",
    "from bokeh.io import curdoc\n",
    "from bokeh.plotting import figure\n",
    "\n",
    "# Create a new plot: plot\n",
    "plot = figure()\n",
    "\n",
    "# Add a line to the plot\n",
    "plot.line([1,2,3,4,5],[2,5,4,6,7])\n",
    "\n",
    "# Add the plot to the current document\n",
    "curdoc().add_root(plot)"
   ]
  },
  {
   "cell_type": "code",
   "execution_count": 36,
   "metadata": {
    "collapsed": true
   },
   "outputs": [],
   "source": [
    "# Perform the necessary imports\n",
    "from bokeh.io import curdoc\n",
    "from bokeh.layouts import widgetbox\n",
    "from bokeh.models import Slider\n",
    "\n",
    "# Create a slider: slider\n",
    "slider = Slider(title='my slider', start=0, end=10, step=0.1, value=2)\n",
    "\n",
    "# Create a widgetbox layout: layout\n",
    "layout = widgetbox(slider)\n",
    "\n",
    "# Add the layout to the current document\n",
    "curdoc().add_root(layout)\n"
   ]
  },
  {
   "cell_type": "code",
   "execution_count": 37,
   "metadata": {
    "collapsed": true
   },
   "outputs": [],
   "source": [
    "# Perform necessary imports\n",
    "from bokeh.io import curdoc\n",
    "from bokeh.layouts import widgetbox\n",
    "from bokeh.models import Slider\n",
    "\n",
    "# Create first slider: slider1\n",
    "slider1 = Slider(title='slider1',start=0,end=10,step=0.1,value=2)\n",
    "\n",
    "# Create second slider: slider2\n",
    "slider2 = Slider(title='slider2',start=10,end=100,step=1,value=20)\n",
    "\n",
    "# Add slider1 and slider2 to a widgetbox\n",
    "layout = widgetbox(slider1,slider2)\n",
    "\n",
    "# Add the layout to the current document\n",
    "curdoc().add_root(layout)"
   ]
  },
  {
   "cell_type": "markdown",
   "metadata": {},
   "source": [
    "Adding callbacks to sliders\n",
    "50xp\n",
    "Callbacks are functions that a user can define, like def callback(attr, old, new), that can be called automatically when some property of a Bokeh object (e.g., the value of a Slider) changes.\n",
    "\n",
    "How are callbacks added for the value property of Slider objects?\n",
    "\n",
    "Possible Answers\n",
    "By passing a callback function to the callback method.\n",
    "By passing a callback function to the on_change method.\n",
    "By assigning the callback function to the Slider.update property."
   ]
  },
  {
   "cell_type": "code",
   "execution_count": 38,
   "metadata": {
    "collapsed": true
   },
   "outputs": [],
   "source": [
    "# Create ColumnDataSource: source\n",
    "source = ColumnDataSource(data={'x': x, 'y': y})\n",
    "\n",
    "# Add a line to the plot\n",
    "plot.line('x', 'y', source=source)\n",
    "\n",
    "# Create a column layout: layout\n",
    "layout = column(widgetbox(slider),plot)\n",
    "\n",
    "# Add the layout to the current document\n",
    "curdoc().add_root(layout)"
   ]
  },
  {
   "cell_type": "code",
   "execution_count": 39,
   "metadata": {
    "collapsed": true
   },
   "outputs": [],
   "source": [
    "# Define a callback function: callback\n",
    "def callback(attr, old, new):\n",
    "\n",
    "    # Read the current value of the slider: scale\n",
    "    scale = slider.value\n",
    "\n",
    "    # Compute the updated y using np.sin(scale/x): new_y\n",
    "    new_y = np.sin(scale/x)\n",
    "\n",
    "    # Update source with the new data values\n",
    "    source.data = {'x': x, 'y': new_y}\n",
    "\n",
    "# Attach the callback to the 'value' property of slider\n",
    "slider.on_change('value',callback)\n",
    "\n",
    "# Create layout and add to current document\n",
    "layout = column(widgetbox(slider), plot)\n",
    "curdoc().add_root(layout)"
   ]
  },
  {
   "cell_type": "code",
   "execution_count": null,
   "metadata": {
    "collapsed": true
   },
   "outputs": [],
   "source": [
    "# Perform necessary imports\n",
    "from bokeh.models import ColumnDataSource, Select\n",
    "\n",
    "# Create ColumnDataSource: source\n",
    "source = ColumnDataSource(data={\n",
    "    'x' : fertility,\n",
    "    'y' : female_literacy\n",
    "})\n",
    "\n",
    "# Create a new plot: plot\n",
    "plot = figure()\n",
    "\n",
    "# Add circles to the plot\n",
    "plot.circle('x', 'y', source=source)\n",
    "\n",
    "# Define a callback function: update_plot\n",
    "def update_plot(attr, old, new):\n",
    "    # If the new Selection is 'female_literacy', update 'y' to female_literacy\n",
    "    if new == 'female_literacy': \n",
    "        source.data = {\n",
    "            'x' : fertility,\n",
    "            'y' : female_literacy \n",
    "        }\n",
    "    # Else, update 'y' to population\n",
    "    else:\n",
    "        source.data = {\n",
    "            'x' : fertility,\n",
    "            'y' : population\n",
    "        }\n",
    "\n",
    "# Create a dropdown Select widget: select    \n",
    "select = Select(title=\"distribution\", options=['female_literacy', 'population'], value='female_literacy')\n",
    "\n",
    "# Attach the update_plot callback to the 'value' property of select\n",
    "select.on_change('value', update_plot)\n",
    "\n",
    "# Create layout and add to current document\n",
    "layout = row(select, plot)\n",
    "curdoc().add_root(layout)\n"
   ]
  },
  {
   "cell_type": "code",
   "execution_count": 41,
   "metadata": {
    "collapsed": true
   },
   "outputs": [],
   "source": [
    "# Create two dropdown Select widgets: select1, select2\n",
    "select1 = Select(title='First', options=['A', 'B'], value='A')\n",
    "select2 = Select(title='Second', options=['1', '2', '3'], value='1')\n",
    "\n",
    "# Define a callback function: callback\n",
    "def callback(attr, old, new):\n",
    "    # If select1 is 'A' \n",
    "    if select1.value == \"A\":\n",
    "        # Set select2 options to ['1', '2', '3']\n",
    "        select2.options = ['1', '2', '3']\n",
    "\n",
    "        # Set select2 value to '1'\n",
    "        select2.value = '1'\n",
    "    else:\n",
    "        # Set select2 options to ['100', '200', '300']\n",
    "        select2.options = ['100', '200', '300']\n",
    "\n",
    "        # Set select2 value to '100'\n",
    "        select2.value = '100'\n",
    "\n",
    "# Attach the callback to the 'value' property of select1\n",
    "select1.on_change('value', callback)\n",
    "\n",
    "# Create layout and add to current document\n",
    "layout = widgetbox(select1, select2)\n",
    "curdoc().add_root(layout)\n"
   ]
  },
  {
   "cell_type": "code",
   "execution_count": null,
   "metadata": {
    "collapsed": true
   },
   "outputs": [],
   "source": [
    "# Create a Button with label 'Update Data'\n",
    "button = Button(label ='Update Data')\n",
    "\n",
    "# Define an update callback with no arguments: update\n",
    "def update():\n",
    "\n",
    "    # Compute new y values: y\n",
    "    y = np.sin(x) + np.random.random(N)\n",
    "\n",
    "    # Update the ColumnDataSource data dictionary\n",
    "    source.data = {'x': x, 'y': y}\n",
    "\n",
    "# Add the update callback to the button\n",
    "button.on_click(update)\n",
    "\n",
    "# Create layout and add to current document\n",
    "layout = column(widgetbox(button), plot)\n",
    "curdoc().add_root(layout)"
   ]
  },
  {
   "cell_type": "code",
   "execution_count": 43,
   "metadata": {
    "collapsed": true
   },
   "outputs": [],
   "source": [
    "# Import CheckboxGroup, RadioGroup, Toggle from bokeh.models\n",
    "from bokeh.models import CheckboxGroup, RadioGroup, Toggle\n",
    "\n",
    "# Add a Toggle: toggle\n",
    "toggle = Toggle(button_type='success',label='Toggle button')\n",
    "\n",
    "# Add a CheckboxGroup: checkbox\n",
    "checkbox = CheckboxGroup(labels=['Option 1', 'Option 2', 'Option 3'])\n",
    "\n",
    "# Add a RadioGroup: radio\n",
    "radio = RadioGroup(labels=['Option 1', 'Option 2', 'Option 3'])\n",
    "\n",
    "# Add widgetbox(toggle, checkbox, radio) to the current document\n",
    "curdoc().add_root(widgetbox(toggle, checkbox, radio))\n"
   ]
  },
  {
   "cell_type": "markdown",
   "metadata": {},
   "source": [
    "# Putting It All Together! A Case Study\n"
   ]
  },
  {
   "cell_type": "markdown",
   "metadata": {},
   "source": [
    "Introducing the project dataset\n",
    "50xp\n",
    "For the final chapter, you'll be looking at some of the Gapminder datasets combined into one tidy file called \"gapminder_tidy.csv\". This data set is available as a pandas DataFrame under the variable name data.\n",
    "\n",
    "It is always a good idea to begin with some Exploratory Data Analysis. Pandas has a number of built-in methods that help with this. For example, data.head() displays the first five rows/entries of data, while data.tail() displays the last five rows/entries. data.shape gives you information about how many rows and columns there are in the data set. Another particularly useful method is data.info(), which provides a concise summary of data, including information about the number of entries, columns, data type of each column, and number of non-null entries in each column.\n",
    "\n",
    "Use the IPython Shell and the pandas methods mentioned above to explore this data set. How many entries and columns does this data set have?\n",
    "\n",
    "Possible Answers\n",
    "7 entries, 10111 columns.\n",
    "10111 entries, 7 columns.\n",
    "9000 entries, 7 columns."
   ]
  },
  {
   "cell_type": "code",
   "execution_count": null,
   "metadata": {
    "collapsed": true
   },
   "outputs": [],
   "source": [
    "# Perform necessary imports\n",
    "from bokeh.io import output_file, show\n",
    "from bokeh.plotting import figure\n",
    "from bokeh.models import HoverTool, ColumnDataSource\n",
    "\n",
    "# Make the ColumnDataSource: source\n",
    "source = ColumnDataSource(data ={\n",
    "    'x'       : data.loc[1970].fertility,\n",
    "    'y'       : data.loc[1970].life,\n",
    "    'country' : data.loc[1970].Country,\n",
    "})\n",
    "\n",
    "# Create the figure: p\n",
    "p = figure(title='1970', x_axis_label='Fertility (children per woman)', y_axis_label='Life Expectancy (years)',\n",
    "           plot_height=400, plot_width=700,\n",
    "           tools=[HoverTool(tooltips='@country')])\n",
    "\n",
    "# Add a circle glyph to the figure p\n",
    "p.circle(x='x', y='y', source=source)\n",
    "\n",
    "# Output the file and show the figure\n",
    "output_file('gapminder.html')\n",
    "show(p)"
   ]
  },
  {
   "cell_type": "code",
   "execution_count": null,
   "metadata": {
    "collapsed": true
   },
   "outputs": [],
   "source": [
    "# Import the necessary modules\n",
    "from bokeh.io import curdoc\n",
    "from bokeh.models import ColumnDataSource\n",
    "from bokeh.plotting import figure\n",
    "\n",
    "# Make the ColumnDataSource: source\n",
    "source = ColumnDataSource(data={\n",
    "    'x'       : data.loc[1970].fertility,\n",
    "    'y'       : data.loc[1970].life,\n",
    "    'country'      : data.loc[1970].Country,\n",
    "    'pop'      : (data.loc[1970].population / 20000000) + 2,\n",
    "    'region'      : data.loc[1970].region,\n",
    "})\n",
    "\n",
    "# Save the minimum and maximum values of the fertility column: xmin, xmax\n",
    "xmin, xmax = min(data.fertility), max(data.fertility)\n",
    "\n",
    "# Save the minimum and maximum values of the life expectancy column: ymin, ymax\n",
    "ymin, ymax = min(data.life), max(data.life)\n",
    "\n",
    "# Create the figure: plot\n",
    "plot = figure(title='Gapminder Data for 1970', plot_height=400, plot_width=700,\n",
    "              x_range=(xmin, xmax), y_range =(ymin, ymax))\n",
    "\n",
    "# Add circle glyphs to the plot\n",
    "plot.circle(x='x', y='y', fill_alpha=0.8, source=source)\n",
    "\n",
    "# Set the x-axis label\n",
    "plot.xaxis.axis_label ='Fertility (children per woman)'\n",
    "\n",
    "# Set the y-axis label\n",
    "plot.yaxis.axis_label = 'Life Expectancy (years)'\n",
    "\n",
    "# Add the plot to the current document and add a title\n",
    "curdoc().add_root(plot)\n",
    "curdoc().title = 'Gapminder'\n",
    "\n"
   ]
  },
  {
   "cell_type": "code",
   "execution_count": null,
   "metadata": {
    "collapsed": true
   },
   "outputs": [],
   "source": [
    "# Make a list of the unique values from the region column: regions_list\n",
    "regions_list = data.region.unique().tolist()\n",
    "\n",
    "# Import CategoricalColorMapper from bokeh.models and the Spectral6 palette from bokeh.palettes\n",
    "from bokeh.models import CategoricalColorMapper\n",
    "from bokeh.palettes import Spectral6\n",
    "\n",
    "# Make a color mapper: color_mapper\n",
    "color_mapper = CategoricalColorMapper(factors=regions_list, palette=Spectral6)\n",
    "\n",
    "# Add the color mapper to the circle glyph\n",
    "plot.circle(x='x', y='y', fill_alpha=0.8, source=source,\n",
    "            color=dict(field='region', transform=color_mapper), legend='region')\n",
    "\n",
    "# Set the legend.location attribute of the plot to 'top_right'\n",
    "plot.legend.location = 'top_right'\n",
    "\n",
    "# Add the plot to the current document and add the title\n",
    "curdoc().add_root(plot)\n",
    "curdoc().title = 'Gapminder'"
   ]
  },
  {
   "cell_type": "code",
   "execution_count": 47,
   "metadata": {
    "collapsed": true
   },
   "outputs": [],
   "source": [
    "# Import the necessary modules\n",
    "from bokeh.layouts import widgetbox, row\n",
    "from bokeh.models import Slider\n",
    "\n",
    "# Define the callback function: update_plot\n",
    "def update_plot(attr, old, new):\n",
    "    # set the `yr` name to `slider.value` and `source.data = new_data`\n",
    "    yr = slider.value\n",
    "    new_data = {\n",
    "        'x'       : data.loc[yr].fertility,\n",
    "        'y'       : data.loc[yr].life,\n",
    "        'country' : data.loc[yr].Country,\n",
    "        'pop'     : (data.loc[yr].population / 20000000) + 2,\n",
    "        'region'  : data.loc[yr].region,\n",
    "    }\n",
    "    source.data = new_data\n",
    "\n",
    "\n",
    "# Make a slider object: slider\n",
    "slider = Slider(start=1970,end =2010,step=1,value=1970,title='Year')\n",
    "\n",
    "# Attach the callback to the 'value' property of slider\n",
    "slider.on_change('value',update_plot)\n",
    "\n",
    "# Make a row layout of widgetbox(slider) and plot and add it to the current document\n",
    "layout = row(widgetbox(slider), plot)\n",
    "curdoc().add_root(layout)\n"
   ]
  },
  {
   "cell_type": "code",
   "execution_count": 48,
   "metadata": {
    "collapsed": true
   },
   "outputs": [],
   "source": [
    "# Define the callback function: update_plot\n",
    "def update_plot(attr, old, new):\n",
    "    # Assign the value of the slider: yr\n",
    "    yr = slider.value\n",
    "    # Set new_data\n",
    "    new_data = {\n",
    "        'x'       : data.loc[yr].fertility,\n",
    "        'y'       : data.loc[yr].life,\n",
    "        'country' : data.loc[yr].Country,\n",
    "        'pop'     : (data.loc[yr].population / 20000000) + 2,\n",
    "        'region'  : data.loc[yr].region,\n",
    "    }\n",
    "    # Assign new_data to: source.data\n",
    "    source.data = new_data\n",
    "\n",
    "    # Add title to figure: plot.title.text\n",
    "    plot.title.text = 'Gapminder data for %d' % yr\n",
    "\n",
    "# Make a slider object: slider\n",
    "slider = Slider(start=1970,end =2010,step=1,value=1970,title='Year')\n",
    "\n",
    "# Attach the callback to the 'value' property of slider\n",
    "slider.on_change('value',update_plot)\n",
    "\n",
    "# Make a row layout of widgetbox(slider) and plot and add it to the current document\n",
    "layout = row(widgetbox(slider), plot)\n",
    "curdoc().add_root(layout)\n"
   ]
  },
  {
   "cell_type": "code",
   "execution_count": 49,
   "metadata": {
    "collapsed": true
   },
   "outputs": [],
   "source": [
    "# Import HoverTool from bokeh.models\n",
    "from bokeh.models import HoverTool\n",
    "\n",
    "# Create a HoverTool: hover\n",
    "hover = HoverTool(tooltips=[('Country', '@country')])\n",
    "\n",
    "# Add the HoverTool to the plot\n",
    "plot.add_tools(hover)\n",
    "\n",
    "# Create layout: layout\n",
    "layout = row(widgetbox(slider), plot)\n",
    "\n",
    "# Add layout to current document\n",
    "curdoc().add_root(layout)\n"
   ]
  },
  {
   "cell_type": "code",
   "execution_count": 50,
   "metadata": {
    "collapsed": true
   },
   "outputs": [],
   "source": [
    "# Define the callback: update_plot\n",
    "def update_plot(attr, old, new):\n",
    "    # Read the current value off the slider and 2 dropdowns: yr, x, y\n",
    "    yr = slider.value\n",
    "    x = x_select.value\n",
    "    y = y_select.value\n",
    "    # Label axes of plot\n",
    "    plot.xaxis.axis_label = x\n",
    "    plot.yaxis.axis_label = y\n",
    "    # Set new_data\n",
    "    new_data = {\n",
    "        'x'       : data.loc[yr][x],\n",
    "        'y'       : data.loc[yr][y],\n",
    "        'country' : data.loc[yr].Country,\n",
    "        'pop'     : (data.loc[yr].population / 20000000) + 2,\n",
    "        'region'  : data.loc[yr].region,\n",
    "    }\n",
    "    # Assign new_data to source.data\n",
    "    source.data = new_data\n",
    "\n",
    "    # Set the range of all axes\n",
    "    plot.x_range.start = min(data[x])\n",
    "    plot.x_range.end = max(data[x])\n",
    "    plot.y_range.start = min(data[y])\n",
    "    plot.y_range.end = max(data[y])\n",
    "\n",
    "    # Add title to plot\n",
    "    plot.title.text = 'Gapminder data for %d' % yr\n",
    "\n",
    "# Create a dropdown slider widget: slider\n",
    "slider = Slider(start=1970, end=2010, step=1, value=1970, title='Year')\n",
    "\n",
    "# Attach the callback to the 'value' property of slider\n",
    "slider.on_change('value', update_plot)\n",
    "\n",
    "# Create a dropdown Select widget for the x data: x_select\n",
    "x_select = Select(\n",
    "    options=['fertility', 'life', 'child_mortality', 'gdp'],\n",
    "    value='fertility',\n",
    "    title='x-axis data'\n",
    ")\n",
    "\n",
    "# Attach the update_plot callback to the 'value' property of x_select\n",
    "x_select.on_change('value', update_plot)\n",
    "\n",
    "# Create a dropdown Select widget for the y data: y_select\n",
    "y_select = Select(\n",
    "    options=['fertility', 'life', 'child_mortality', 'gdp'],\n",
    "    value='life',\n",
    "    title='y-axis data'\n",
    ")\n",
    "\n",
    "# Attach the update_plot callback to the 'value' property of y_select\n",
    "y_select.on_change('value',update_plot)\n",
    "\n",
    "# Create layout and add to current document\n",
    "layout = row(widgetbox(slider, x_select, y_select), plot)\n",
    "curdoc().add_root(layout)\n"
   ]
  }
 ],
 "metadata": {
  "kernelspec": {
   "display_name": "Python 3",
   "language": "python",
   "name": "python3"
  },
  "language_info": {
   "codemirror_mode": {
    "name": "ipython",
    "version": 3
   },
   "file_extension": ".py",
   "mimetype": "text/x-python",
   "name": "python",
   "nbconvert_exporter": "python",
   "pygments_lexer": "ipython3",
   "version": "3.6.1"
  }
 },
 "nbformat": 4,
 "nbformat_minor": 2
}
