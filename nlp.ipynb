{
 "cells": [
  {
   "cell_type": "code",
   "execution_count": 6,
   "metadata": {},
   "outputs": [],
   "source": [
    "import re\n",
    "import pandas as pd\n",
    "import io\n",
    "import matplotlib.pyplot as plt\n",
    "import numpy as np\n",
    "tweets = pd.read_csv('D:/tweets.csv',encoding='ISO-8859-1',parse_dates=['created'], header=0,)\n",
    "\n",
    "\n",
    "\n"
   ]
  },
  {
   "cell_type": "code",
   "execution_count": 7,
   "metadata": {},
   "outputs": [
    {
     "data": {
      "text/html": [
       "<div>\n",
       "<style scoped>\n",
       "    .dataframe tbody tr th:only-of-type {\n",
       "        vertical-align: middle;\n",
       "    }\n",
       "\n",
       "    .dataframe tbody tr th {\n",
       "        vertical-align: top;\n",
       "    }\n",
       "\n",
       "    .dataframe thead th {\n",
       "        text-align: right;\n",
       "    }\n",
       "</style>\n",
       "<table border=\"1\" class=\"dataframe\">\n",
       "  <thead>\n",
       "    <tr style=\"text-align: right;\">\n",
       "      <th></th>\n",
       "      <th>Unnamed: 0</th>\n",
       "      <th>X</th>\n",
       "      <th>text</th>\n",
       "      <th>favorited</th>\n",
       "      <th>favoriteCount</th>\n",
       "      <th>replyToSN</th>\n",
       "      <th>created</th>\n",
       "      <th>truncated</th>\n",
       "      <th>replyToSID</th>\n",
       "      <th>id</th>\n",
       "      <th>replyToUID</th>\n",
       "      <th>statusSource</th>\n",
       "      <th>screenName</th>\n",
       "      <th>retweetCount</th>\n",
       "      <th>isRetweet</th>\n",
       "      <th>retweeted</th>\n",
       "    </tr>\n",
       "  </thead>\n",
       "  <tbody>\n",
       "    <tr>\n",
       "      <th>0</th>\n",
       "      <td>1</td>\n",
       "      <td>1</td>\n",
       "      <td>RT @rssurjewala: Critical question: Was PayTM ...</td>\n",
       "      <td>False</td>\n",
       "      <td>0</td>\n",
       "      <td>NaN</td>\n",
       "      <td>2016-11-23 18:40:00</td>\n",
       "      <td>False</td>\n",
       "      <td>NaN</td>\n",
       "      <td>8.014960e+17</td>\n",
       "      <td>NaN</td>\n",
       "      <td>&lt;a href=\"http://twitter.com/download/android\" ...</td>\n",
       "      <td>HASHTAGFARZIWAL</td>\n",
       "      <td>331</td>\n",
       "      <td>True</td>\n",
       "      <td>False</td>\n",
       "    </tr>\n",
       "    <tr>\n",
       "      <th>1</th>\n",
       "      <td>2</td>\n",
       "      <td>2</td>\n",
       "      <td>RT @Hemant_80: Did you vote on #Demonetization...</td>\n",
       "      <td>False</td>\n",
       "      <td>0</td>\n",
       "      <td>NaN</td>\n",
       "      <td>2016-11-23 18:40:00</td>\n",
       "      <td>False</td>\n",
       "      <td>NaN</td>\n",
       "      <td>8.014960e+17</td>\n",
       "      <td>NaN</td>\n",
       "      <td>&lt;a href=\"http://twitter.com/download/android\" ...</td>\n",
       "      <td>PRAMODKAUSHIK9</td>\n",
       "      <td>66</td>\n",
       "      <td>True</td>\n",
       "      <td>False</td>\n",
       "    </tr>\n",
       "    <tr>\n",
       "      <th>2</th>\n",
       "      <td>3</td>\n",
       "      <td>3</td>\n",
       "      <td>RT @roshankar: Former FinSec, RBI Dy Governor,...</td>\n",
       "      <td>False</td>\n",
       "      <td>0</td>\n",
       "      <td>NaN</td>\n",
       "      <td>2016-11-23 18:40:00</td>\n",
       "      <td>False</td>\n",
       "      <td>NaN</td>\n",
       "      <td>8.014960e+17</td>\n",
       "      <td>NaN</td>\n",
       "      <td>&lt;a href=\"http://twitter.com/download/android\" ...</td>\n",
       "      <td>rahulja13034944</td>\n",
       "      <td>12</td>\n",
       "      <td>True</td>\n",
       "      <td>False</td>\n",
       "    </tr>\n",
       "    <tr>\n",
       "      <th>3</th>\n",
       "      <td>4</td>\n",
       "      <td>4</td>\n",
       "      <td>RT @ANI_news: Gurugram (Haryana): Post office ...</td>\n",
       "      <td>False</td>\n",
       "      <td>0</td>\n",
       "      <td>NaN</td>\n",
       "      <td>2016-11-23 18:39:00</td>\n",
       "      <td>False</td>\n",
       "      <td>NaN</td>\n",
       "      <td>8.014960e+17</td>\n",
       "      <td>NaN</td>\n",
       "      <td>&lt;a href=\"http://twitter.com/download/android\" ...</td>\n",
       "      <td>deeptiyvd</td>\n",
       "      <td>338</td>\n",
       "      <td>True</td>\n",
       "      <td>False</td>\n",
       "    </tr>\n",
       "    <tr>\n",
       "      <th>4</th>\n",
       "      <td>5</td>\n",
       "      <td>5</td>\n",
       "      <td>RT @satishacharya: Reddy Wedding! @mail_today ...</td>\n",
       "      <td>False</td>\n",
       "      <td>0</td>\n",
       "      <td>NaN</td>\n",
       "      <td>2016-11-23 18:39:00</td>\n",
       "      <td>False</td>\n",
       "      <td>NaN</td>\n",
       "      <td>8.014950e+17</td>\n",
       "      <td>NaN</td>\n",
       "      <td>&lt;a href=\"http://cpimharyana.com\" rel=\"nofollow...</td>\n",
       "      <td>CPIMBadli</td>\n",
       "      <td>120</td>\n",
       "      <td>True</td>\n",
       "      <td>False</td>\n",
       "    </tr>\n",
       "  </tbody>\n",
       "</table>\n",
       "</div>"
      ],
      "text/plain": [
       "   Unnamed: 0  X                                               text  \\\n",
       "0           1  1  RT @rssurjewala: Critical question: Was PayTM ...   \n",
       "1           2  2  RT @Hemant_80: Did you vote on #Demonetization...   \n",
       "2           3  3  RT @roshankar: Former FinSec, RBI Dy Governor,...   \n",
       "3           4  4  RT @ANI_news: Gurugram (Haryana): Post office ...   \n",
       "4           5  5  RT @satishacharya: Reddy Wedding! @mail_today ...   \n",
       "\n",
       "   favorited  favoriteCount replyToSN             created  truncated  \\\n",
       "0      False              0       NaN 2016-11-23 18:40:00      False   \n",
       "1      False              0       NaN 2016-11-23 18:40:00      False   \n",
       "2      False              0       NaN 2016-11-23 18:40:00      False   \n",
       "3      False              0       NaN 2016-11-23 18:39:00      False   \n",
       "4      False              0       NaN 2016-11-23 18:39:00      False   \n",
       "\n",
       "   replyToSID            id  replyToUID  \\\n",
       "0         NaN  8.014960e+17         NaN   \n",
       "1         NaN  8.014960e+17         NaN   \n",
       "2         NaN  8.014960e+17         NaN   \n",
       "3         NaN  8.014960e+17         NaN   \n",
       "4         NaN  8.014950e+17         NaN   \n",
       "\n",
       "                                        statusSource       screenName  \\\n",
       "0  <a href=\"http://twitter.com/download/android\" ...  HASHTAGFARZIWAL   \n",
       "1  <a href=\"http://twitter.com/download/android\" ...   PRAMODKAUSHIK9   \n",
       "2  <a href=\"http://twitter.com/download/android\" ...  rahulja13034944   \n",
       "3  <a href=\"http://twitter.com/download/android\" ...        deeptiyvd   \n",
       "4  <a href=\"http://cpimharyana.com\" rel=\"nofollow...        CPIMBadli   \n",
       "\n",
       "   retweetCount  isRetweet  retweeted  \n",
       "0           331       True      False  \n",
       "1            66       True      False  \n",
       "2            12       True      False  \n",
       "3           338       True      False  \n",
       "4           120       True      False  "
      ]
     },
     "execution_count": 7,
     "metadata": {},
     "output_type": "execute_result"
    }
   ],
   "source": [
    "tweets.head()"
   ]
  },
  {
   "cell_type": "code",
   "execution_count": 8,
   "metadata": {},
   "outputs": [
    {
     "data": {
      "text/html": [
       "<div>\n",
       "<style scoped>\n",
       "    .dataframe tbody tr th:only-of-type {\n",
       "        vertical-align: middle;\n",
       "    }\n",
       "\n",
       "    .dataframe tbody tr th {\n",
       "        vertical-align: top;\n",
       "    }\n",
       "\n",
       "    .dataframe thead th {\n",
       "        text-align: right;\n",
       "    }\n",
       "</style>\n",
       "<table border=\"1\" class=\"dataframe\">\n",
       "  <thead>\n",
       "    <tr style=\"text-align: right;\">\n",
       "      <th></th>\n",
       "      <th>Unnamed: 0</th>\n",
       "      <th>X</th>\n",
       "      <th>text</th>\n",
       "      <th>favorited</th>\n",
       "      <th>favoriteCount</th>\n",
       "      <th>replyToSN</th>\n",
       "      <th>created</th>\n",
       "      <th>truncated</th>\n",
       "      <th>replyToSID</th>\n",
       "      <th>id</th>\n",
       "      <th>...</th>\n",
       "      <th>statusSource</th>\n",
       "      <th>screenName</th>\n",
       "      <th>retweetCount</th>\n",
       "      <th>isRetweet</th>\n",
       "      <th>retweeted</th>\n",
       "      <th>sentiment_compound_polarity</th>\n",
       "      <th>sentiment_neutral</th>\n",
       "      <th>sentiment_negative</th>\n",
       "      <th>sentiment_pos</th>\n",
       "      <th>sentiment_type</th>\n",
       "    </tr>\n",
       "  </thead>\n",
       "  <tbody>\n",
       "    <tr>\n",
       "      <th>0</th>\n",
       "      <td>1</td>\n",
       "      <td>1</td>\n",
       "      <td>RT @rssurjewala: Critical question: Was PayTM ...</td>\n",
       "      <td>False</td>\n",
       "      <td>0</td>\n",
       "      <td>NaN</td>\n",
       "      <td>2016-11-23 18:40:00</td>\n",
       "      <td>False</td>\n",
       "      <td>NaN</td>\n",
       "      <td>8.014960e+17</td>\n",
       "      <td>...</td>\n",
       "      <td>&lt;a href=\"http://twitter.com/download/android\" ...</td>\n",
       "      <td>HASHTAGFARZIWAL</td>\n",
       "      <td>331</td>\n",
       "      <td>True</td>\n",
       "      <td>False</td>\n",
       "      <td>0.1027</td>\n",
       "      <td>0.783</td>\n",
       "      <td>0.1</td>\n",
       "      <td>0.117</td>\n",
       "      <td>POSITIVE</td>\n",
       "    </tr>\n",
       "    <tr>\n",
       "      <th>1</th>\n",
       "      <td>2</td>\n",
       "      <td>2</td>\n",
       "      <td>RT @Hemant_80: Did you vote on #Demonetization...</td>\n",
       "      <td>False</td>\n",
       "      <td>0</td>\n",
       "      <td>NaN</td>\n",
       "      <td>2016-11-23 18:40:00</td>\n",
       "      <td>False</td>\n",
       "      <td>NaN</td>\n",
       "      <td>8.014960e+17</td>\n",
       "      <td>...</td>\n",
       "      <td>&lt;a href=\"http://twitter.com/download/android\" ...</td>\n",
       "      <td>PRAMODKAUSHIK9</td>\n",
       "      <td>66</td>\n",
       "      <td>True</td>\n",
       "      <td>False</td>\n",
       "      <td>0.0000</td>\n",
       "      <td>1.000</td>\n",
       "      <td>0.0</td>\n",
       "      <td>0.000</td>\n",
       "      <td>NEUTRAL</td>\n",
       "    </tr>\n",
       "    <tr>\n",
       "      <th>2</th>\n",
       "      <td>3</td>\n",
       "      <td>3</td>\n",
       "      <td>RT @roshankar: Former FinSec, RBI Dy Governor,...</td>\n",
       "      <td>False</td>\n",
       "      <td>0</td>\n",
       "      <td>NaN</td>\n",
       "      <td>2016-11-23 18:40:00</td>\n",
       "      <td>False</td>\n",
       "      <td>NaN</td>\n",
       "      <td>8.014960e+17</td>\n",
       "      <td>...</td>\n",
       "      <td>&lt;a href=\"http://twitter.com/download/android\" ...</td>\n",
       "      <td>rahulja13034944</td>\n",
       "      <td>12</td>\n",
       "      <td>True</td>\n",
       "      <td>False</td>\n",
       "      <td>0.0000</td>\n",
       "      <td>1.000</td>\n",
       "      <td>0.0</td>\n",
       "      <td>0.000</td>\n",
       "      <td>NEUTRAL</td>\n",
       "    </tr>\n",
       "    <tr>\n",
       "      <th>3</th>\n",
       "      <td>4</td>\n",
       "      <td>4</td>\n",
       "      <td>RT @ANI_news: Gurugram (Haryana): Post office ...</td>\n",
       "      <td>False</td>\n",
       "      <td>0</td>\n",
       "      <td>NaN</td>\n",
       "      <td>2016-11-23 18:39:00</td>\n",
       "      <td>False</td>\n",
       "      <td>NaN</td>\n",
       "      <td>8.014960e+17</td>\n",
       "      <td>...</td>\n",
       "      <td>&lt;a href=\"http://twitter.com/download/android\" ...</td>\n",
       "      <td>deeptiyvd</td>\n",
       "      <td>338</td>\n",
       "      <td>True</td>\n",
       "      <td>False</td>\n",
       "      <td>0.0000</td>\n",
       "      <td>1.000</td>\n",
       "      <td>0.0</td>\n",
       "      <td>0.000</td>\n",
       "      <td>NEUTRAL</td>\n",
       "    </tr>\n",
       "    <tr>\n",
       "      <th>4</th>\n",
       "      <td>5</td>\n",
       "      <td>5</td>\n",
       "      <td>RT @satishacharya: Reddy Wedding! @mail_today ...</td>\n",
       "      <td>False</td>\n",
       "      <td>0</td>\n",
       "      <td>NaN</td>\n",
       "      <td>2016-11-23 18:39:00</td>\n",
       "      <td>False</td>\n",
       "      <td>NaN</td>\n",
       "      <td>8.014950e+17</td>\n",
       "      <td>...</td>\n",
       "      <td>&lt;a href=\"http://cpimharyana.com\" rel=\"nofollow...</td>\n",
       "      <td>CPIMBadli</td>\n",
       "      <td>120</td>\n",
       "      <td>True</td>\n",
       "      <td>False</td>\n",
       "      <td>0.0000</td>\n",
       "      <td>1.000</td>\n",
       "      <td>0.0</td>\n",
       "      <td>0.000</td>\n",
       "      <td>NEUTRAL</td>\n",
       "    </tr>\n",
       "  </tbody>\n",
       "</table>\n",
       "<p>5 rows × 21 columns</p>\n",
       "</div>"
      ],
      "text/plain": [
       "   Unnamed: 0  X                                               text  \\\n",
       "0           1  1  RT @rssurjewala: Critical question: Was PayTM ...   \n",
       "1           2  2  RT @Hemant_80: Did you vote on #Demonetization...   \n",
       "2           3  3  RT @roshankar: Former FinSec, RBI Dy Governor,...   \n",
       "3           4  4  RT @ANI_news: Gurugram (Haryana): Post office ...   \n",
       "4           5  5  RT @satishacharya: Reddy Wedding! @mail_today ...   \n",
       "\n",
       "   favorited  favoriteCount replyToSN             created  truncated  \\\n",
       "0      False              0       NaN 2016-11-23 18:40:00      False   \n",
       "1      False              0       NaN 2016-11-23 18:40:00      False   \n",
       "2      False              0       NaN 2016-11-23 18:40:00      False   \n",
       "3      False              0       NaN 2016-11-23 18:39:00      False   \n",
       "4      False              0       NaN 2016-11-23 18:39:00      False   \n",
       "\n",
       "   replyToSID            id       ...        \\\n",
       "0         NaN  8.014960e+17       ...         \n",
       "1         NaN  8.014960e+17       ...         \n",
       "2         NaN  8.014960e+17       ...         \n",
       "3         NaN  8.014960e+17       ...         \n",
       "4         NaN  8.014950e+17       ...         \n",
       "\n",
       "                                        statusSource       screenName  \\\n",
       "0  <a href=\"http://twitter.com/download/android\" ...  HASHTAGFARZIWAL   \n",
       "1  <a href=\"http://twitter.com/download/android\" ...   PRAMODKAUSHIK9   \n",
       "2  <a href=\"http://twitter.com/download/android\" ...  rahulja13034944   \n",
       "3  <a href=\"http://twitter.com/download/android\" ...        deeptiyvd   \n",
       "4  <a href=\"http://cpimharyana.com\" rel=\"nofollow...        CPIMBadli   \n",
       "\n",
       "  retweetCount  isRetweet  retweeted  sentiment_compound_polarity  \\\n",
       "0          331       True      False                       0.1027   \n",
       "1           66       True      False                       0.0000   \n",
       "2           12       True      False                       0.0000   \n",
       "3          338       True      False                       0.0000   \n",
       "4          120       True      False                       0.0000   \n",
       "\n",
       "   sentiment_neutral  sentiment_negative  sentiment_pos  sentiment_type  \n",
       "0              0.783                 0.1          0.117        POSITIVE  \n",
       "1              1.000                 0.0          0.000         NEUTRAL  \n",
       "2              1.000                 0.0          0.000         NEUTRAL  \n",
       "3              1.000                 0.0          0.000         NEUTRAL  \n",
       "4              1.000                 0.0          0.000         NEUTRAL  \n",
       "\n",
       "[5 rows x 21 columns]"
      ]
     },
     "execution_count": 8,
     "metadata": {},
     "output_type": "execute_result"
    }
   ],
   "source": [
    "from nltk.sentiment.vader import SentimentIntensityAnalyzer\n",
    "from nltk.sentiment.util import *\n",
    "\n",
    "from nltk import tokenize\n",
    "\n",
    "sid = SentimentIntensityAnalyzer()\n",
    "\n",
    "tweets['sentiment_compound_polarity']=tweets.text.apply(lambda x:sid.polarity_scores(x)['compound'])\n",
    "tweets['sentiment_neutral']=tweets.text.apply(lambda x:sid.polarity_scores(x)['neu'])\n",
    "tweets['sentiment_negative']=tweets.text.apply(lambda x:sid.polarity_scores(x)['neg'])\n",
    "tweets['sentiment_pos']=tweets.text.apply(lambda x:sid.polarity_scores(x)['pos'])\n",
    "tweets['sentiment_type']=''\n",
    "tweets.loc[tweets.sentiment_compound_polarity>0,'sentiment_type']='POSITIVE'\n",
    "tweets.loc[tweets.sentiment_compound_polarity==0,'sentiment_type']='NEUTRAL'\n",
    "tweets.loc[tweets.sentiment_compound_polarity<0,'sentiment_type']='NEGATIVE'\n",
    "tweets.head()"
   ]
  },
  {
   "cell_type": "markdown",
   "metadata": {},
   "source": [
    "# 1  Percentage of tweets is negative, positive or neutral?"
   ]
  },
  {
   "cell_type": "code",
   "execution_count": 9,
   "metadata": {},
   "outputs": [
    {
     "data": {
      "text/plain": [
       "Text(0.5,1,'Sentiment Analysis 2')"
      ]
     },
     "execution_count": 9,
     "metadata": {},
     "output_type": "execute_result"
    },
    {
     "data": {
      "image/png": "[encoded data removed]",
      "text/plain": [
       "<matplotlib.figure.Figure at 0x204a7e74cf8>"
      ]
     },
     "metadata": {},
     "output_type": "display_data"
    }
   ],
   "source": [
    "import matplotlib\n",
    "matplotlib.style.use('ggplot')\n",
    "\n",
    "tweets_sentiment = tweets.groupby(['sentiment_type'])['sentiment_neutral'].count()\n",
    "tweets_sentiment.rename(\"\",inplace=True)\n",
    "explode = (0, 0, 1.0)\n",
    "plt.subplot(221)\n",
    "tweets_sentiment.transpose().plot(kind='barh',figsize=(10, 6))\n",
    "plt.title('Sentiment Analysis 1', bbox={'facecolor':'0.8', 'pad':0})\n",
    "plt.subplot(222)\n",
    "tweets_sentiment.plot(kind='pie',figsize=(10, 6),autopct='%1.1f%%',shadow=True,explode=explode)\n",
    "plt.legend(bbox_to_anchor=(1, 1), loc=3, borderaxespad=0.)\n",
    "plt.title('Sentiment Analysis 2', bbox={'facecolor':'0.8', 'pad':0})"
   ]
  },
  {
   "cell_type": "markdown",
   "metadata": {},
   "source": [
    "# 2 What are the most famous/re-tweeted tweets?"
   ]
  },
  {
   "cell_type": "code",
   "execution_count": 10,
   "metadata": {},
   "outputs": [
    {
     "name": "stdout",
     "output_type": "stream",
     "text": [
      "            screenName                                               text  \\\n",
      "1900       anilkohli54  Rare sight corrupt queue up to confess their c...   \n",
      "2676       Joydeep_911  Calling all Nationalists to join...\\r\\nWalk fo...   \n",
      "2940       ModiBharosa  Huge support for PM @narendramodi s #demoneti...   \n",
      "4086       ModiBharosa  Putting Nation over Party Politics #nitishkuma...   \n",
      "4340     gauravcsawant  Rs 40 lakh looted from a bank in Kishtwar in J...   \n",
      "4375         PIB_India  Watch briefing on #Demonetization by DEA Secy ...   \n",
      "6054            Joydas  Question in Narendra Modi App where PM is taki...   \n",
      "6594         ashu3page  Man ends life over fund shortage ahead of daug...   \n",
      "7029           ippatel  Retaining all seats of LS and state in Byelect...   \n",
      "8592           5Forty3  We suspect that the positive economic impact o...   \n",
      "8672           5Forty3  From Jan Dhan to Ujjwala to Neem coated Urea t...   \n",
      "11104      steve_hanke  ATMs across #India running out of cash once ag...   \n",
      "11304      RoflGandhi_  Seeing Munaf Patel back after ages <ed><U+00A0...   \n",
      "12362  URautelaForever  Dear @evanspiegel \\r\\nIndia is so rich that PM...   \n",
      "12982          Timcast  Youtube flags my videos for demonetization the...   \n",
      "13987     rahulroushan  By-polls result today will prove if there's an...   \n",
      "14220  PiyushGoyalOffc  We believe good economics makes good politics....   \n",
      "14630    attomeybharti  Headline blames demonetization, report says la...   \n",
      "14871    ATEKAssetScan  Riffin' on demonetization https://t.co/rLPk6LPfv3   \n",
      "\n",
      "       isRetweet  retweetCount  \n",
      "1900       False           134  \n",
      "2676       False           112  \n",
      "2940       False           270  \n",
      "4086       False           275  \n",
      "4340       False           637  \n",
      "4375       False           105  \n",
      "6054       False           120  \n",
      "6594       False           132  \n",
      "7029       False           123  \n",
      "8592       False           104  \n",
      "8672       False           203  \n",
      "11104      False           197  \n",
      "11304      False           165  \n",
      "12362      False          1333  \n",
      "12982      False           147  \n",
      "13987      False           171  \n",
      "14220      False           102  \n",
      "14630      False           106  \n",
      "14871      False           124  \n"
     ]
    }
   ],
   "source": [
    "np_dataFrame = tweets.loc[:,['screenName','text','isRetweet','retweetCount']]\n",
    "np_populor = np_dataFrame[np.logical_and(np_dataFrame['retweetCount']>=100, np_dataFrame['isRetweet']==False)]\n",
    "\n",
    "print(np_populor)"
   ]
  },
  {
   "cell_type": "markdown",
   "metadata": {},
   "source": [
    "# 3 stacked chart (Retweets, Total Tweets) showing “‘Hour of the Day Trends” TweetCount Vs Hour"
   ]
  },
  {
   "cell_type": "code",
   "execution_count": 11,
   "metadata": {
    "scrolled": true
   },
   "outputs": [
    {
     "data": {
      "text/html": [
       "<div>\n",
       "<style scoped>\n",
       "    .dataframe tbody tr th:only-of-type {\n",
       "        vertical-align: middle;\n",
       "    }\n",
       "\n",
       "    .dataframe tbody tr th {\n",
       "        vertical-align: top;\n",
       "    }\n",
       "\n",
       "    .dataframe thead th {\n",
       "        text-align: right;\n",
       "    }\n",
       "</style>\n",
       "<table border=\"1\" class=\"dataframe\">\n",
       "  <thead>\n",
       "    <tr style=\"text-align: right;\">\n",
       "      <th></th>\n",
       "      <th>hour</th>\n",
       "      <th>date</th>\n",
       "      <th>count</th>\n",
       "      <th>retweetCount</th>\n",
       "    </tr>\n",
       "  </thead>\n",
       "  <tbody>\n",
       "    <tr>\n",
       "      <th>0</th>\n",
       "      <td>18</td>\n",
       "      <td>2016-11-23</td>\n",
       "      <td>1</td>\n",
       "      <td>331</td>\n",
       "    </tr>\n",
       "    <tr>\n",
       "      <th>1</th>\n",
       "      <td>18</td>\n",
       "      <td>2016-11-23</td>\n",
       "      <td>1</td>\n",
       "      <td>66</td>\n",
       "    </tr>\n",
       "  </tbody>\n",
       "</table>\n",
       "</div>"
      ],
      "text/plain": [
       "   hour        date  count  retweetCount\n",
       "0    18  2016-11-23      1           331\n",
       "1    18  2016-11-23      1            66"
      ]
     },
     "execution_count": 11,
     "metadata": {},
     "output_type": "execute_result"
    }
   ],
   "source": [
    "tweets['hour'] = pd.DatetimeIndex(tweets['created']).hour\n",
    "tweets['date'] = pd.DatetimeIndex(tweets['created']).date\n",
    "tweets['count'] = 1\n",
    "tweets_filtered = tweets[['hour', 'date', 'count', 'retweetCount']]\n",
    "tweets_filtered.head(2)"
   ]
  },
  {
   "cell_type": "code",
   "execution_count": 12,
   "metadata": {
    "scrolled": true
   },
   "outputs": [
    {
     "data": {
      "text/html": [
       "<div>\n",
       "<style scoped>\n",
       "    .dataframe tbody tr th:only-of-type {\n",
       "        vertical-align: middle;\n",
       "    }\n",
       "\n",
       "    .dataframe tbody tr th {\n",
       "        vertical-align: top;\n",
       "    }\n",
       "\n",
       "    .dataframe thead th {\n",
       "        text-align: right;\n",
       "    }\n",
       "</style>\n",
       "<table border=\"1\" class=\"dataframe\">\n",
       "  <thead>\n",
       "    <tr style=\"text-align: right;\">\n",
       "      <th></th>\n",
       "      <th>hour</th>\n",
       "      <th>count</th>\n",
       "      <th>retweetCount</th>\n",
       "    </tr>\n",
       "  </thead>\n",
       "  <tbody>\n",
       "    <tr>\n",
       "      <th>0</th>\n",
       "      <td>0</td>\n",
       "      <td>222</td>\n",
       "      <td>31868</td>\n",
       "    </tr>\n",
       "    <tr>\n",
       "      <th>1</th>\n",
       "      <td>1</td>\n",
       "      <td>307</td>\n",
       "      <td>65764</td>\n",
       "    </tr>\n",
       "  </tbody>\n",
       "</table>\n",
       "</div>"
      ],
      "text/plain": [
       "   hour  count  retweetCount\n",
       "0     0    222         31868\n",
       "1     1    307         65764"
      ]
     },
     "execution_count": 12,
     "metadata": {},
     "output_type": "execute_result"
    }
   ],
   "source": [
    "tweets_hourly = tweets_filtered.groupby([\"hour\"]).sum().reset_index()\n",
    "tweets_hourly.head(2)"
   ]
  },
  {
   "cell_type": "code",
   "execution_count": 13,
   "metadata": {},
   "outputs": [
    {
     "data": {
      "text/plain": [
       "<matplotlib.axes._subplots.AxesSubplot at 0x204a94836d8>"
      ]
     },
     "execution_count": 13,
     "metadata": {},
     "output_type": "execute_result"
    },
    {
     "data": {
      "image/png": "[encoded data removed]",
      "text/plain": [
       "<matplotlib.figure.Figure at 0x204a958c5c0>"
      ]
     },
     "metadata": {},
     "output_type": "display_data"
    }
   ],
   "source": [
    "tweets_hourly.groupby('retweetCount').sum().plot(kind='bar',  stacked=True, )"
   ]
  },
  {
   "cell_type": "markdown",
   "metadata": {},
   "source": [
    "# 4 Bar chart (Sentiment Analysis) showing percentage of emotions (trust, disgust, surprise, sadness, joy, fear, anger, anticipation) \n",
    "\n",
    "\n",
    "\n"
   ]
  },
  {
   "cell_type": "code",
   "execution_count": 14,
   "metadata": {},
   "outputs": [
    {
     "data": {
      "text/plain": [
       "Text(0.5,0,\"('fear', 'disgust', 'anticipation', 'sadness', 'surpris', 'anger', 'sadness', 'joy')\")"
      ]
     },
     "execution_count": 14,
     "metadata": {},
     "output_type": "execute_result"
    },
    {
     "data": {
      "image/png": "[encoded data removed]",
      "text/plain": [
       "<matplotlib.figure.Figure at 0x204a853ca58>"
      ]
     },
     "metadata": {},
     "output_type": "display_data"
    }
   ],
   "source": [
    "\n",
    "\n",
    "\n",
    "\n",
    "\n",
    "# create the histogram''\n",
    "plt.hist(tweets.sentiment_compound_polarity,bins=8, align='left')\n",
    "\n",
    "\n",
    "xlabel=('fear','disgust','anticipation','sadness','surpris','anger','sadness','joy')\n",
    "plt.xlabel(xlabel)\n"
   ]
  },
  {
   "cell_type": "markdown",
   "metadata": {},
   "source": [
    "# 5 Bar chart showing Tweet counts Device wise (twitter for Android, twitter Web client, Twitter for iPhone, Facebook, Twitter for iPad, etc.)"
   ]
  },
  {
   "cell_type": "code",
   "execution_count": 15,
   "metadata": {},
   "outputs": [
    {
     "data": {
      "text/plain": [
       "array(['Android', 'CPIMBadli', 'Client', nan, 'iPhone', 'Phone', 'IFTTT',\n",
       "       'Facebook', 'Windows', 'TweetDeck', 'iPad', 'Hootsuite',\n",
       "       'RoundTeam', 'Google', 'BlackBerry', 'com', 'i', 'SocialNewsXYZ',\n",
       "       'Drivespark', 'Instagram', 'it', 'Social', 'Buffer', 'Mac', 'AI',\n",
       "       'Ads', 'HubSpot', 'SocialOomph', 'Twitter', 'Peregrine',\n",
       "       'NetCatNews', 'in', 'GrabInbox', 'MetroTwit', 'Widget',\n",
       "       'HeaderLabs', 'LinkedIn', 'cryptohawk', 'Update', 'bitcoinagile',\n",
       "       'iOS', 'IEFX', 'li', 'TwixxyBot', 'bot', 'Echofon', 'Nuzzel',\n",
       "       'Junction', 'Dabr', 'RealEstateBot', 'Studio', 'Singapore', 'Buzz',\n",
       "       'Lite', 'growth', 'Post', 'co', 'YoruFukurou', 'cmssocialservice',\n",
       "       'TwitterTrafficMachine', 'Klout', 'trump', 'Big', 'Twitterrific',\n",
       "       'App', 'SCBotBackend', 'CoSchedule', 'Integration', 'easypybot',\n",
       "       'PostBeyond', 'Sprinklr', 'agileminderbot', 'Publisher', 'Quora',\n",
       "       'IEHIAutoPost', 'Pluggio', 'OccuWorld', 'SocioAdvocacy', 'Edgar',\n",
       "       'InvestmentWatch', 'Countdown', 'Tweets', 'Willow', 'Customer',\n",
       "       'app', 'AgendaOfEvil', 'NGO', 'StockmarketStar', 'BotByROP',\n",
       "       'salutcavaouiettoibienoubien', 'BitcoinBtcNews', 'retweet',\n",
       "       'mounds', 'VoiceStorm', 'php', 'tweethunk', 'petyushin',\n",
       "       'Conversocial', 'TwitBot', 'Jr', 'IT', 'SocialFlow', 'News',\n",
       "       'ebooks'], dtype=object)"
      ]
     },
     "execution_count": 15,
     "metadata": {},
     "output_type": "execute_result"
    }
   ],
   "source": [
    "tweets['Phone_use'] = tweets['statusSource'].str.extract('([A-Za-z]+\\<)', expand = False)\n",
    "tweets['Phone_use'] = tweets['Phone_use'].str.extract('([A-Za-z]+)', expand = True)\n",
    "tweets.Phone_use.unique() "
   ]
  },
  {
   "cell_type": "code",
   "execution_count": 16,
   "metadata": {},
   "outputs": [],
   "source": [
    "replace_words =['CPIMBadli','Facebook','SocialNewsXYZ','Instagram',\n",
    "'AI','NGO','Junction', 'Dabr', 'RealEstateBot', 'Studio', 'Singapore', 'Buzz',\n",
    "'TwitterTrafficMachine', 'Klout', 'trump', 'Big', 'Twitterrific','Lite','growth', 'Post', 'co', 'YoruFukurou', 'cmssocialservice','IFTTT', 'TweetDeck', 'Hootsuite', 'RoundTeam', 'Google','com', 'Drivespark', 'it', 'Social', 'Buffer','Ads', 'HubSpot','GrabInbox', 'MetroTwit', 'Widget', 'HeaderLabs', 'LinkedIn',\n",
    " 'cryptohawk', 'Update', 'bitcoinagile', 'iOS', 'IEFX', 'li','TwixxyBot', 'bot', 'Echofon', 'Nuzzel', 'App', 'SCBotBackend',\n",
    " 'easypybot', 'PostBeyond', 'Sprinklr', 'agileminderbot','Publisher', 'Quora', 'IEHIAutoPost', 'Pluggio', 'OccuWorld',\n",
    "'SocioAdvocacy', 'Edgar', 'InvestmentWatch', 'Countdown', 'Tweets','Willow', 'Customer', 'app', 'AgendaOfEvil', 'StockmarketStar',\n",
    "'BotByROP', 'salutcavaouiettoibienoubien', 'BitcoinBtcNews','retweet', 'mounds', 'VoiceStorm', 'php', 'tweethunk', 'petyushin',\n",
    "'Conversocial', 'TwitBot', 'Jr', 'IT', 'SocialFlow', 'News','Peregrine', 'NetCatNews', 'in', 'CoSchedule', 'Integration',\n",
    "'ebooks','SocialOomph','Twitter']\n",
    "\n",
    "\n",
    "tweets['Phone_use'] = tweets['Phone_use'].replace(['Facebook'],'Facebook')\n",
    "tweets['Phone_use'] = tweets['Phone_use'].replace(['iPad','Mac','i'],'Twitter for iPad')\n",
    "tweets['Phone_use'] = tweets['Phone_use'].replace(['iPhone'],'Twitter for iPhone')\n",
    "tweets['Phone_use'] = tweets['Phone_use'].replace(['Client','via_website'],'twitter Web client')\n",
    "tweets['Phone_use'] = tweets['Phone_use'].replace(['Android'],'twitter for Android')\n",
    "tweets['Phone_use'] = tweets['Phone_use'].replace([replace_words],'Other')\n",
    "\n"
   ]
  },
  {
   "cell_type": "code",
   "execution_count": 17,
   "metadata": {},
   "outputs": [
    {
     "data": {
      "image/png": "[encoded data removed]",
      "text/plain": [
       "<matplotlib.figure.Figure at 0x204a86b7940>"
      ]
     },
     "metadata": {},
     "output_type": "display_data"
    }
   ],
   "source": [
    "import seaborn as sns\n",
    "\n",
    "plt.figure(figsize=[12,5])\n",
    "sns.countplot(x='Phone_use', data= tweets)\n",
    "plt.show()"
   ]
  },
  {
   "cell_type": "markdown",
   "metadata": {},
   "source": [
    "# 6 Most Popular 10 User "
   ]
  },
  {
   "cell_type": "markdown",
   "metadata": {},
   "source": [
    "\n",
    "\n",
    "tweets.columns.tolist \n",
    "<bound method IndexOpsMixin.tolist of Index(['Unnamed: 0', 'X', 'text', 'favorited', 'favoriteCount', 'replyToSN',\n",
    "       'created', 'truncated', 'replyToSID', 'id', 'replyToUID',\n",
    "       'statusSource', 'screenName', 'retweetCount', 'isRetweet', 'retweeted',\n",
    "       'sentiment_compound_polarity', 'sentiment_neutral',\n",
    "       'sentiment_negative', 'sentiment_pos', 'sentiment_type', 'hour', 'date',\n",
    "       'count', 'Phone_use', 'Text_os', 'yearly_rank'],\n",
    "      dtype='object')"
   ]
  },
  {
   "cell_type": "code",
   "execution_count": 20,
   "metadata": {},
   "outputs": [
    {
     "data": {
      "text/html": [
       "<div>\n",
       "<style scoped>\n",
       "    .dataframe tbody tr th:only-of-type {\n",
       "        vertical-align: middle;\n",
       "    }\n",
       "\n",
       "    .dataframe tbody tr th {\n",
       "        vertical-align: top;\n",
       "    }\n",
       "\n",
       "    .dataframe thead th {\n",
       "        text-align: right;\n",
       "    }\n",
       "</style>\n",
       "<table border=\"1\" class=\"dataframe\">\n",
       "  <thead>\n",
       "    <tr style=\"text-align: right;\">\n",
       "      <th></th>\n",
       "      <th>retweetCount</th>\n",
       "      <th>screenName</th>\n",
       "    </tr>\n",
       "  </thead>\n",
       "  <tbody>\n",
       "    <tr>\n",
       "      <th>10109</th>\n",
       "      <td>5170</td>\n",
       "      <td>rayyat9tfoi</td>\n",
       "    </tr>\n",
       "    <tr>\n",
       "      <th>8693</th>\n",
       "      <td>5170</td>\n",
       "      <td>apoliceshanigm2</td>\n",
       "    </tr>\n",
       "    <tr>\n",
       "      <th>8182</th>\n",
       "      <td>5170</td>\n",
       "      <td>1SunnyElias</td>\n",
       "    </tr>\n",
       "    <tr>\n",
       "      <th>13720</th>\n",
       "      <td>5170</td>\n",
       "      <td>Krishna20977027</td>\n",
       "    </tr>\n",
       "    <tr>\n",
       "      <th>9358</th>\n",
       "      <td>5170</td>\n",
       "      <td>sxP6DbxfufguCc0</td>\n",
       "    </tr>\n",
       "    <tr>\n",
       "      <th>11397</th>\n",
       "      <td>5170</td>\n",
       "      <td>subhashjsr</td>\n",
       "    </tr>\n",
       "    <tr>\n",
       "      <th>9466</th>\n",
       "      <td>3754</td>\n",
       "      <td>naveennehra01</td>\n",
       "    </tr>\n",
       "    <tr>\n",
       "      <th>9408</th>\n",
       "      <td>3754</td>\n",
       "      <td>SurenderBalu1</td>\n",
       "    </tr>\n",
       "    <tr>\n",
       "      <th>9483</th>\n",
       "      <td>3754</td>\n",
       "      <td>SahilBalu456</td>\n",
       "    </tr>\n",
       "    <tr>\n",
       "      <th>10451</th>\n",
       "      <td>2092</td>\n",
       "      <td>AnkitSa44603749</td>\n",
       "    </tr>\n",
       "  </tbody>\n",
       "</table>\n",
       "</div>"
      ],
      "text/plain": [
       "       retweetCount       screenName\n",
       "10109          5170      rayyat9tfoi\n",
       "8693           5170  apoliceshanigm2\n",
       "8182           5170      1SunnyElias\n",
       "13720          5170  Krishna20977027\n",
       "9358           5170  sxP6DbxfufguCc0\n",
       "11397          5170       subhashjsr\n",
       "9466           3754    naveennehra01\n",
       "9408           3754    SurenderBalu1\n",
       "9483           3754     SahilBalu456\n",
       "10451          2092  AnkitSa44603749"
      ]
     },
     "execution_count": 20,
     "metadata": {},
     "output_type": "execute_result"
    }
   ],
   "source": [
    "t1= tweets[['retweetCount','screenName']]\n",
    "\n",
    "t1.loc[t1.groupby('screenName')['retweetCount'].idxmax()].sort_values('retweetCount', ascending=False).head(10)\n"
   ]
  },
  {
   "cell_type": "markdown",
   "metadata": {},
   "source": [
    "# 7 Top 10 Users whose tweets generated most replies"
   ]
  },
  {
   "cell_type": "code",
   "execution_count": 26,
   "metadata": {},
   "outputs": [],
   "source": [
    "name =['narendramodi','SushmaSwaraj','PMOIndia','RBI','arunjaitley','OfficeOfRG',\n",
    "       'ArvindKejriwal','MamataOfficial','SitaramYechury','FinMinIndia','DasShaktikanta',\n",
    "       'smritiirani','ShashiTharoor']\n",
    "Total = []\n",
    "\n",
    "\n",
    "for i in name:\n",
    "    name_find = tweets[(tweets['text'] == i) & (tweets['date'])]\n",
    "    name_find_total = name_find.text.count()\n",
    "    Total.append(name_find_total)\n",
    "    \n"
   ]
  },
  {
   "cell_type": "code",
   "execution_count": 27,
   "metadata": {},
   "outputs": [],
   "source": [
    "new_name = []\n",
    "new_total = []\n",
    "\n",
    "for i in name:\n",
    "    new_name.append(i)\n",
    "for k in Total_nov:\n",
    "    new_total.append(k)"
   ]
  },
  {
   "cell_type": "markdown",
   "metadata": {},
   "source": [
    "dn = {'Name' : pd.Series(new_name),\n",
    "    'Total_tweets': pd.Series(new_total)}\n",
    "dfn = pd.DataFrame(dn)\n",
    "print (dfn)"
   ]
  },
  {
   "cell_type": "code",
   "execution_count": 28,
   "metadata": {},
   "outputs": [
    {
     "name": "stdout",
     "output_type": "stream",
     "text": [
      "              Name  Total_tweets\n",
      "0     narendramodi           NaN\n",
      "1     SushmaSwaraj           NaN\n",
      "2         PMOIndia           NaN\n",
      "3              RBI           NaN\n",
      "4      arunjaitley           NaN\n",
      "5       OfficeOfRG           NaN\n",
      "6   ArvindKejriwal           NaN\n",
      "7   MamataOfficial           NaN\n",
      "8   SitaramYechury           NaN\n",
      "9      FinMinIndia           NaN\n",
      "10  DasShaktikanta           NaN\n",
      "11     smritiirani           NaN\n",
      "12   ShashiTharoor           NaN\n"
     ]
    }
   ],
   "source": [
    "dn = {'Name' : pd.Series(new_name),\n",
    "    'Total_tweets': pd.Series(new_total)}\n",
    "dfn = pd.DataFrame(dn)\n",
    "print (dfn)"
   ]
  },
  {
   "cell_type": "code",
   "execution_count": null,
   "metadata": {},
   "outputs": [],
   "source": []
  }
 ],
 "metadata": {
  "kernelspec": {
   "display_name": "Python 3",
   "language": "python",
   "name": "python3"
  },
  "language_info": {
   "codemirror_mode": {
    "name": "ipython",
    "version": 3
   },
   "file_extension": ".py",
   "mimetype": "text/x-python",
   "name": "python",
   "nbconvert_exporter": "python",
   "pygments_lexer": "ipython3",
   "version": "3.6.4"
  }
 },
 "nbformat": 4,
 "nbformat_minor": 2
}
