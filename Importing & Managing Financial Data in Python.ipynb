{
 "cells": [
  {
   "cell_type": "markdown",
   "metadata": {},
   "source": [
    "# Importing stock listing data from Excel"
   ]
  },
  {
   "cell_type": "code",
   "execution_count": 1,
   "metadata": {},
   "outputs": [
    {
     "name": "stdout",
     "output_type": "stream",
     "text": [
      "  Stock Symbol           Company Name  Last Sale  Market Capitalization  \\\n",
      "0         AAPL             Apple Inc.     141.05           7.400000e+11   \n",
      "1        GOOGL          Alphabet Inc.     840.18           5.810000e+11   \n",
      "2         GOOG          Alphabet Inc.     823.56           5.690000e+11   \n",
      "3         MSFT  Microsoft Corporation      64.95           5.020000e+11   \n",
      "4         AMZN       Amazon.com, Inc.     884.67           4.220000e+11   \n",
      "5           FB         Facebook, Inc.     139.39           4.030000e+11   \n",
      "6        CMCSA    Comcast Corporation      37.14           1.760000e+11   \n",
      "7         INTC      Intel Corporation      35.25           1.660000e+11   \n",
      "8         CSCO    Cisco Systems, Inc.      32.42           1.620000e+11   \n",
      "9         AMGN             Amgen Inc.     161.61           1.190000e+11   \n",
      "\n",
      "  IPO Year             Sector  \\\n",
      "0     1980         Technology   \n",
      "1      NAN         Technology   \n",
      "2     2004         Technology   \n",
      "3     1986         Technology   \n",
      "4     1997  Consumer Services   \n",
      "5     2012         Technology   \n",
      "6      NAN  Consumer Services   \n",
      "7      NAN         Technology   \n",
      "8     1990         Technology   \n",
      "9     1983        Health Care   \n",
      "\n",
      "                                            Industry Last Update  \n",
      "0                             Computer Manufacturing     4/26/17  \n",
      "1    Computer Software: Programming, Data Processing     4/24/17  \n",
      "2    Computer Software: Programming, Data Processing     4/23/17  \n",
      "3            Computer Software: Prepackaged Software     4/26/17  \n",
      "4                     Catalog/Specialty Distribution     4/24/17  \n",
      "5    Computer Software: Programming, Data Processing     4/26/17  \n",
      "6                                Television Services     4/26/17  \n",
      "7                                     Semiconductors     4/23/17  \n",
      "8                  Computer Communications Equipment     4/23/17  \n",
      "9  Biotechnology: Biological Products (No Diagnos...     4/24/17  \n",
      "<class 'pandas.core.frame.DataFrame'>\n",
      "RangeIndex: 1115 entries, 0 to 1114\n",
      "Data columns (total 8 columns):\n",
      "Stock Symbol             1115 non-null object\n",
      "Company Name             1115 non-null object\n",
      "Last Sale                1115 non-null float64\n",
      "Market Capitalization    1115 non-null float64\n",
      "IPO Year                 1115 non-null object\n",
      "Sector                   1115 non-null object\n",
      "Industry                 1115 non-null object\n",
      "Last Update              1115 non-null object\n",
      "dtypes: float64(2), object(6)\n",
      "memory usage: 43.6+ KB\n"
     ]
    }
   ],
   "source": [
    "# Import pandas library\n",
    "import pandas as pd\n",
    "\n",
    "# Import the data\n",
    "nasdaq = pd.read_csv('C:/Users/aditya/Desktop/py/nasdaq-listings.csv')\n",
    "\n",
    "# Display first 10 rows\n",
    "print(nasdaq.head(10))\n",
    "\n",
    "# Inspect nasdaq\n",
    "nasdaq.info()"
   ]
  },
  {
   "cell_type": "markdown",
   "metadata": {},
   "source": [
    "## How to fix the data import?\n",
    "\n",
    "Two optional arguments that you can add to .read_csv() to better represent the data from an external file are:\n",
    "\n",
    "na_values: Converts a given string to np.nan, defaults to None\n",
    "parse_dates: Reads the data in a list of given columns as dtype datetime64, defaults to False\n"
   ]
  },
  {
   "cell_type": "code",
   "execution_count": 2,
   "metadata": {},
   "outputs": [
    {
     "name": "stdout",
     "output_type": "stream",
     "text": [
      "  Stock Symbol           Company Name  Last Sale  Market Capitalization  \\\n",
      "0         AAPL             Apple Inc.     141.05           7.400000e+11   \n",
      "1        GOOGL          Alphabet Inc.     840.18           5.810000e+11   \n",
      "2         GOOG          Alphabet Inc.     823.56           5.690000e+11   \n",
      "3         MSFT  Microsoft Corporation      64.95           5.020000e+11   \n",
      "4         AMZN       Amazon.com, Inc.     884.67           4.220000e+11   \n",
      "\n",
      "   IPO Year             Sector  \\\n",
      "0    1980.0         Technology   \n",
      "1       NaN         Technology   \n",
      "2    2004.0         Technology   \n",
      "3    1986.0         Technology   \n",
      "4    1997.0  Consumer Services   \n",
      "\n",
      "                                          Industry Last Update  \n",
      "0                           Computer Manufacturing  2017-04-26  \n",
      "1  Computer Software: Programming, Data Processing  2017-04-24  \n",
      "2  Computer Software: Programming, Data Processing  2017-04-23  \n",
      "3          Computer Software: Prepackaged Software  2017-04-26  \n",
      "4                   Catalog/Specialty Distribution  2017-04-24  \n",
      "<class 'pandas.core.frame.DataFrame'>\n",
      "RangeIndex: 1115 entries, 0 to 1114\n",
      "Data columns (total 8 columns):\n",
      "Stock Symbol             1115 non-null object\n",
      "Company Name             1115 non-null object\n",
      "Last Sale                1115 non-null float64\n",
      "Market Capitalization    1115 non-null float64\n",
      "IPO Year                 593 non-null float64\n",
      "Sector                   1036 non-null object\n",
      "Industry                 1036 non-null object\n",
      "Last Update              1115 non-null datetime64[ns]\n",
      "dtypes: datetime64[ns](1), float64(3), object(4)\n",
      "memory usage: 52.3+ KB\n"
     ]
    }
   ],
   "source": [
    "# Import the data\n",
    "nasdaq = pd.read_csv('C:/Users/aditya/Desktop/py/nasdaq-listings.csv', na_values='NAN', parse_dates=['Last Update'])\n",
    "\n",
    "# Display the head of the data\n",
    "print(nasdaq.head())\n",
    "\n",
    "# Inspect the data\n",
    "nasdaq.info()"
   ]
  },
  {
   "cell_type": "code",
   "execution_count": 3,
   "metadata": {},
   "outputs": [
    {
     "name": "stdout",
     "output_type": "stream",
     "text": [
      "  Stock Symbol            Company Name  Last Sale  Market Capitalization  \\\n",
      "0          DDD  3D Systems Corporation      14.48           1.647165e+09   \n",
      "1          MMM              3M Company     188.65           1.127366e+11   \n",
      "2         WBAI         500.com Limited      13.96           5.793129e+08   \n",
      "3         WUBA             58.com Inc.      36.11           5.225238e+09   \n",
      "4          AHC   A.H. Belo Corporation       6.20           1.347351e+08   \n",
      "\n",
      "   IPO Year             Sector  \\\n",
      "0       NaN         Technology   \n",
      "1       NaN        Health Care   \n",
      "2    2013.0  Consumer Services   \n",
      "3    2013.0         Technology   \n",
      "4       NaN  Consumer Services   \n",
      "\n",
      "                                          Industry  \n",
      "0          Computer Software: Prepackaged Software  \n",
      "1                       Medical/Dental Instruments  \n",
      "2            Services-Misc. Amusement & Recreation  \n",
      "3  Computer Software: Programming, Data Processing  \n",
      "4                             Newspapers/Magazines  \n",
      "<class 'pandas.core.frame.DataFrame'>\n",
      "RangeIndex: 3147 entries, 0 to 3146\n",
      "Data columns (total 7 columns):\n",
      "Stock Symbol             3147 non-null object\n",
      "Company Name             3147 non-null object\n",
      "Last Sale                3079 non-null float64\n",
      "Market Capitalization    3147 non-null float64\n",
      "IPO Year                 1361 non-null float64\n",
      "Sector                   2177 non-null object\n",
      "Industry                 2177 non-null object\n",
      "dtypes: float64(3), object(4)\n",
      "memory usage: 123.0+ KB\n"
     ]
    }
   ],
   "source": [
    "# Import the data\n",
    "nyse = pd.read_excel('C:/Users/aditya/Desktop/py/listings.xlsx', sheetname='nyse', na_values='n/a')\n",
    "\n",
    "# Display the head of the data\n",
    "print(nyse.head())\n",
    "\n",
    "# Inspect the data\n",
    "nyse.info()"
   ]
  },
  {
   "cell_type": "code",
   "execution_count": 4,
   "metadata": {},
   "outputs": [
    {
     "name": "stdout",
     "output_type": "stream",
     "text": [
      "<class 'pandas.core.frame.DataFrame'>\n",
      "RangeIndex: 3167 entries, 0 to 3166\n",
      "Data columns (total 7 columns):\n",
      "Stock Symbol             3167 non-null object\n",
      "Company Name             3167 non-null object\n",
      "Last Sale                3165 non-null float64\n",
      "Market Capitalization    3167 non-null float64\n",
      "IPO Year                 1386 non-null float64\n",
      "Sector                   2767 non-null object\n",
      "Industry                 2767 non-null object\n",
      "dtypes: float64(3), object(4)\n",
      "memory usage: 123.8+ KB\n"
     ]
    }
   ],
   "source": [
    "# Create pd.ExcelFile() object\n",
    "xls = pd.ExcelFile('C:/Users/aditya/Desktop/py/listings.xlsx')\n",
    "\n",
    "# Extract sheet names and store in exchanges\n",
    "exchanges = xls.sheet_names\n",
    "\n",
    "# Create listings dictionary with all sheet data\n",
    "listings = pd.read_excel(xls, sheetname=exchanges, na_values='n/a')\n",
    "\n",
    "# Inspect NASDAQ listings\n",
    "listings['nasdaq'].info()"
   ]
  },
  {
   "cell_type": "code",
   "execution_count": 5,
   "metadata": {},
   "outputs": [
    {
     "name": "stdout",
     "output_type": "stream",
     "text": [
      "<class 'pandas.core.frame.DataFrame'>\n",
      "RangeIndex: 3147 entries, 0 to 3146\n",
      "Data columns (total 7 columns):\n",
      "Stock Symbol             3147 non-null object\n",
      "Company Name             3147 non-null object\n",
      "Last Sale                3079 non-null float64\n",
      "Market Capitalization    3147 non-null float64\n",
      "IPO Year                 1361 non-null float64\n",
      "Sector                   2177 non-null object\n",
      "Industry                 2177 non-null object\n",
      "dtypes: float64(3), object(4)\n",
      "memory usage: 123.0+ KB\n",
      "<class 'pandas.core.frame.DataFrame'>\n",
      "RangeIndex: 3167 entries, 0 to 3166\n",
      "Data columns (total 7 columns):\n",
      "Stock Symbol             3167 non-null object\n",
      "Company Name             3167 non-null object\n",
      "Last Sale                3165 non-null float64\n",
      "Market Capitalization    3167 non-null float64\n",
      "IPO Year                 1386 non-null float64\n",
      "Sector                   2767 non-null object\n",
      "Industry                 2767 non-null object\n",
      "dtypes: float64(3), object(4)\n",
      "memory usage: 123.8+ KB\n"
     ]
    }
   ],
   "source": [
    "# Import the NYSE and NASDAQ listings\n",
    "nyse = pd.read_excel('C:/Users/aditya/Desktop/py/listings.xlsx', sheetname='nyse', na_values='n/a')\n",
    "nasdaq = pd.read_excel('C:/Users/aditya/Desktop/py/listings.xlsx', sheetname='nasdaq', na_values='n/a')\n",
    "\n",
    "# Inspect nyse and nasdaq\n",
    "nyse.info()\n",
    "nasdaq.info()\n",
    "\n",
    "# Add Exchange reference columns\n",
    "nyse['Exchange'] = 'NYSE'\n",
    "nasdaq['Exchange'] = 'NASDAQ'\n",
    "\n",
    "# Concatenate DataFrames  \n",
    "combined_listings = pd.concat([nyse, nasdaq])"
   ]
  },
  {
   "cell_type": "code",
   "execution_count": 6,
   "metadata": {},
   "outputs": [
    {
     "name": "stdout",
     "output_type": "stream",
     "text": [
      "<class 'pandas.core.frame.DataFrame'>\n",
      "Int64Index: 6674 entries, 0 to 3146\n",
      "Data columns (total 8 columns):\n",
      "Stock Symbol             6674 non-null object\n",
      "Company Name             6674 non-null object\n",
      "Last Sale                6590 non-null float64\n",
      "Market Capitalization    6674 non-null float64\n",
      "IPO Year                 2852 non-null float64\n",
      "Sector                   5182 non-null object\n",
      "Industry                 5182 non-null object\n",
      "Exchange                 6674 non-null object\n",
      "dtypes: float64(3), object(5)\n",
      "memory usage: 338.9+ KB\n"
     ]
    }
   ],
   "source": [
    "# Create the pd.ExcelFile() object\n",
    "xls = pd.ExcelFile('C:/Users/aditya/Desktop/py/listings.xlsx')\n",
    "\n",
    "# Extract the sheet names from xls\n",
    "exchanges = xls.sheet_names\n",
    "\n",
    "# Create an empty list: listings\n",
    "listings = []\n",
    "\n",
    "# Import the data\n",
    "for exchange in exchanges:\n",
    "    listing = pd.read_excel(xls, sheetname=exchange, na_values='n/a')\n",
    "    listing['Exchange'] = exchange\n",
    "    listings.append(listing)\n",
    "\n",
    "# Concatenate the listings: listing_data\n",
    "listing_data = pd.concat(listings)\n",
    "\n",
    "# Inspect the results\n",
    "listing_data.info()"
   ]
  },
  {
   "cell_type": "markdown",
   "metadata": {},
   "source": [
    "# Importing financial data from the "
   ]
  },
  {
   "cell_type": "code",
   "execution_count": 10,
   "metadata": {},
   "outputs": [
    {
     "name": "stdout",
     "output_type": "stream",
     "text": [
      "              Open    High     Low   Close    Volume\n",
      "Date                                                \n",
      "2016-10-05  113.40  113.66  112.69  113.05  21453089\n",
      "2016-10-06  113.70  114.34  113.13  113.89  28779313\n",
      "2016-10-07  114.31  114.56  113.51  114.06  24358443\n",
      "2016-10-10  115.02  116.75  114.72  116.05  36235956\n",
      "2016-10-11  117.70  118.69  116.20  116.30  64041043\n",
      "<class 'pandas.core.frame.DataFrame'>\n",
      "DatetimeIndex: 251 entries, 2016-10-05 to 2017-10-03\n",
      "Data columns (total 5 columns):\n",
      "Open      251 non-null float64\n",
      "High      251 non-null float64\n",
      "Low       251 non-null float64\n",
      "Close     251 non-null float64\n",
      "Volume    251 non-null int64\n",
      "dtypes: float64(4), int64(1)\n",
      "memory usage: 11.8 KB\n"
     ]
    }
   ],
   "source": [
    "# Import DataReader\n",
    "from pandas_datareader.data import DataReader\n",
    "\n",
    "# Import date\n",
    "from datetime import date\n",
    "\n",
    "# Set start and end dates\n",
    "start = date(2016, 1, 1)\n",
    "end = date(2016, 12, 31)\n",
    "\n",
    "# Set the ticker\n",
    "ticker = 'AAPL'\n",
    "\n",
    "# Set the data source\n",
    "data_source = 'google'\n",
    "\n",
    "# Import the stock prices\n",
    "stock_prices = DataReader(ticker, data_source, start, end)\n",
    "\n",
    "# Display and inspect the result\n",
    "print(stock_prices.head())\n",
    "stock_prices.info()"
   ]
  },
  {
   "cell_type": "code",
   "execution_count": 11,
   "metadata": {},
   "outputs": [
    {
     "data": {
      "image/png": "[encoded data removed]",
      "text/plain": [
       "<matplotlib.figure.Figure at 0x84e4f70>"
      ]
     },
     "metadata": {},
     "output_type": "display_data"
    }
   ],
   "source": [
    "# Import matplotlib.pyplot\n",
    "import matplotlib.pyplot as plt\n",
    "\n",
    "# Set start and end dates\n",
    "start = date(2016, 1, 1)\n",
    "end = date(2016, 12, 31)\n",
    "\n",
    "# Set the ticker and data_source\n",
    "ticker = 'FB'\n",
    "data_source = 'google'\n",
    "\n",
    "# Import the data using DataReader\n",
    "stock_prices = DataReader(ticker, data_source, start, end)\n",
    "\n",
    "# Plot Close\n",
    "stock_prices['Close'].plot(title=ticker)\n",
    "\n",
    "# Show the plot\n",
    "plt.show()"
   ]
  },
  {
   "cell_type": "code",
   "execution_count": 12,
   "metadata": {},
   "outputs": [
    {
     "name": "stdout",
     "output_type": "stream",
     "text": [
      "<class 'pandas.core.frame.DataFrame'>\n",
      "DatetimeIndex: 12917 entries, 1968-04-01 to 2017-10-03\n",
      "Data columns (total 1 columns):\n",
      "GOLDAMGBD228NLBM    12519 non-null float64\n",
      "dtypes: float64(1)\n",
      "memory usage: 201.8 KB\n"
     ]
    },
    {
     "data": {
      "image/png": "[encoded data removed]",
      "text/plain": [
       "<matplotlib.figure.Figure at 0x84f6af0>"
      ]
     },
     "metadata": {},
     "output_type": "display_data"
    }
   ],
   "source": [
    "# Set start date\n",
    "start = date(1968, 1, 1)\n",
    "\n",
    "series = 'GOLDAMGBD228NLBM'\n",
    "\n",
    "# Import the data\n",
    "gold_price = DataReader(series, 'fred', start=start)\n",
    "\n",
    "# Inspect the price of gold\n",
    "gold_price.info()\n",
    "\n",
    "# Plot the price of gold\n",
    "gold_price.plot(title='Gold Price')\n",
    "\n",
    "# Show the plot\n",
    "plt.show()"
   ]
  },
  {
   "cell_type": "code",
   "execution_count": 13,
   "metadata": {},
   "outputs": [
    {
     "data": {
      "image/png": "[encoded data removed]",
      "text/plain": [
       "<matplotlib.figure.Figure at 0x777c470>"
      ]
     },
     "metadata": {},
     "output_type": "display_data"
    }
   ],
   "source": [
    "# Set the start date\n",
    "start = date(1950, 1, 1)\n",
    "\n",
    "# Define the series code\n",
    "series = ['UNRATE', 'CIVPART']\n",
    "\n",
    "# Import the data\n",
    "econ_data = DataReader(series, 'fred', start)\n",
    "\n",
    "# Assign new column labels\n",
    "econ_data.columns = ['Unemployment Rate', 'Participation Rate']\n",
    "\n",
    "# Plot econ_data\n",
    "econ_data.plot(subplots=True, title='Labor Market')\n",
    "\n",
    "# Show the plot\n",
    "plt.show()"
   ]
  },
  {
   "cell_type": "code",
   "execution_count": 14,
   "metadata": {},
   "outputs": [
    {
     "data": {
      "image/png": "[encoded data removed]",
      "text/plain": [
       "<matplotlib.figure.Figure at 0x778ae10>"
      ]
     },
     "metadata": {},
     "output_type": "display_data"
    }
   ],
   "source": [
    "# Set the start date\n",
    "start = date(2008, 1, 1)\n",
    "\n",
    "# Set the series code\n",
    "series = ['BAMLHYH0A0HYM2TRIV', 'SP500']\n",
    "\n",
    "# Import the data\n",
    "data = DataReader(series, 'fred', start)\n",
    "\n",
    "# Plot the results\n",
    "data.plot(subplots=True, title='Performance Comparison')\n",
    "\n",
    "# Show the plot\n",
    "plt.show()"
   ]
  },
  {
   "cell_type": "code",
   "execution_count": null,
   "metadata": {
    "collapsed": true
   },
   "outputs": [],
   "source": [
    "listings = pd.ExcelFile('C:/Users/aditya/Desktop/py/listings.xlsx')\n",
    "# Select companies in Consumer Services\n",
    "consumer_services = listings[listings.Sector == 'Consumer Services']\n",
    "\n",
    "# Sort consumer_services by market cap\n",
    "consumer_services2 = consumer_services.sort_values('Market Capitalization', ascending=False)\n",
    "\n",
    "# Display first 5 rows of designated columns\n",
    "print(consumer_services2[['Company Name', 'Exchange', 'Market Capitalization']].head())"
   ]
  },
  {
   "cell_type": "code",
   "execution_count": null,
   "metadata": {
    "collapsed": true
   },
   "outputs": [],
   "source": [
    "# Set the index of listings to Stock Symbol\n",
    "listings = listings.set_index('Stock Symbol')\n",
    "\n",
    "# Get ticker of the largest Consumer Services company\n",
    "ticker = listings.loc[listings.Sector == 'Consumer Services', 'Market Capitalization'].idxmax()\n",
    "\n",
    "# Set the start date\n",
    "start = date(2012, 1, 1)\n",
    "\n",
    "# Import the stock data\n",
    "data = DataReader(ticker, 'google', start)\n",
    "\n",
    "# Plot Close and Volume\n",
    "data[['Close', 'Volume']].plot(secondary_y='Volume', title=ticker)\n",
    "\n",
    "# Show the plot\n",
    "plt.show()"
   ]
  },
  {
   "cell_type": "code",
   "execution_count": null,
   "metadata": {
    "collapsed": true
   },
   "outputs": [],
   "source": [
    "# Set Stock Symbol as the index\n",
    "listings = listings.set_index('Stock Symbol')\n",
    "\n",
    "# Get ticker of the largest consumer services company listed after 1997\n",
    "ticker = listings.loc[(listings.Sector == 'Consumer Services') & (listings['IPO Year'] > 1998), 'Market Capitalization'].idxmax()\n",
    "\n",
    "# Set the start date\n",
    "start = date(1998, 1, 1)\n",
    "\n",
    "# Import the stock data\n",
    "data = DataReader(ticker, 'google', start)\n",
    "\n",
    "# Plot Close and Volume\n",
    "data[['Close', 'Volume']].plot(secondary_y='Volume', title=ticker)\n",
    "\n",
    "# Show the plot\n",
    "plt.show()"
   ]
  },
  {
   "cell_type": "code",
   "execution_count": null,
   "metadata": {
    "collapsed": true
   },
   "outputs": [],
   "source": [
    "# Set Stock Symbol as the index\n",
    "listings = listings.set_index('Stock Symbol')\n",
    "\n",
    "# Get ticker of 3 largest finance companies\n",
    "top_3_companies = listings.loc[listings.Sector == 'Finance', 'Market Capitalization'].nlargest(n=3)\n",
    "\n",
    "# Convert index to list\n",
    "top_3_tickers = top_3_companies.index.tolist()\n",
    "\n",
    "# Set start date\n",
    "start = date(2012, 1, 1)\n",
    "\n",
    "# Import stock data\n",
    "data = DataReader(top_3_tickers, 'google', start)\n",
    "data2 = data.to_frame()\n",
    "\n",
    "# Unstack and inspect result\n",
    "data2['Close'].unstack().info()"
   ]
  },
  {
   "cell_type": "markdown",
   "metadata": {},
   "source": [
    "# Summarizing your data and visuali"
   ]
  },
  {
   "cell_type": "code",
   "execution_count": 21,
   "metadata": {},
   "outputs": [
    {
     "name": "stdout",
     "output_type": "stream",
     "text": [
      "<class 'pandas.core.frame.DataFrame'>\n",
      "RangeIndex: 184 entries, 0 to 183\n",
      "Data columns (total 2 columns):\n",
      "Country              184 non-null object\n",
      "Income per Capita    184 non-null float64\n",
      "dtypes: float64(1), object(1)\n",
      "memory usage: 2.2+ KB\n",
      "               Country  Income per Capita\n",
      "133              Qatar       141542.66280\n",
      "97    Macao SAR, China       111496.62940\n",
      "96          Luxembourg       102051.68030\n",
      "144          Singapore        85382.30227\n",
      "23   Brunei Darussalam        78369.29102\n",
      "                      Country  Income per Capita\n",
      "121                     Niger         955.483324\n",
      "94                    Liberia         835.366935\n",
      "37           Congo, Dem. Rep.         784.365232\n",
      "26                    Burundi         727.150789\n",
      "31   Central African Republic         618.752859\n"
     ]
    }
   ],
   "source": [
    "# Import the data\n",
    "income = pd.read_csv('C:/Users/aditya/Desktop/py/per_capita_income.csv')\n",
    "\n",
    "# Inspect the result\n",
    "income.info()\n",
    "\n",
    "# Sort the data by income\n",
    "income = income.sort_values('Income per Capita', ascending=False)\n",
    "\n",
    "# Display the first and last five rows\n",
    "print(income.head())\n",
    "print(income.tail())"
   ]
  },
  {
   "cell_type": "code",
   "execution_count": 22,
   "metadata": {},
   "outputs": [
    {
     "name": "stdout",
     "output_type": "stream",
     "text": [
      "19469.41956573694\n",
      "11620.932519999998\n"
     ]
    },
    {
     "data": {
      "text/plain": [
       "0    1.0\n",
       "dtype: float64"
      ]
     },
     "execution_count": 22,
     "metadata": {},
     "output_type": "execute_result"
    }
   ],
   "source": [
    "# Calculate the mean\n",
    "print(income['Income per Capita'].mean())\n",
    "\n",
    "# Calculate the median\n",
    "print(income['Income per Capita'].median())\n",
    "\n",
    "# Create the new column\n",
    "income['Income per Capita (,000)'] = income['Income per Capita'] // 1000\n",
    "\n",
    "# Calculate the mode of the new column\n",
    "income['Income per Capita (,000)'].mode()"
   ]
  },
  {
   "cell_type": "code",
   "execution_count": 23,
   "metadata": {},
   "outputs": [
    {
     "name": "stdout",
     "output_type": "stream",
     "text": [
      "[-2497.441641469137, 41436.28077294301]\n",
      "0.25     3922.35894\n",
      "0.75    26558.75467\n",
      "Name: Income per Capita, dtype: float64\n",
      "22636.39573\n"
     ]
    }
   ],
   "source": [
    "# Calculate mean\n",
    "mean = income['Income per Capita'].mean()\n",
    "\n",
    "# Calculate standard deviation \n",
    "std = income['Income per Capita'].std()\n",
    "\n",
    "# Calculate and print lower and upper bounds\n",
    "bounds = [mean - std, mean + std]\n",
    "print(bounds)\n",
    "\n",
    "# Calculate and print first and third quartiles\n",
    "quantiles = income['Income per Capita'].quantile([.25, .75])\n",
    "print(quantiles)\n",
    "\n",
    "# Calculate and print IQR\n",
    "iqr = quantiles[.75] - quantiles[.25]\n",
    "print(iqr)"
   ]
  },
  {
   "cell_type": "code",
   "execution_count": 25,
   "metadata": {},
   "outputs": [
    {
     "name": "stdout",
     "output_type": "stream",
     "text": [
      "[ 0.1  0.2  0.3  0.4  0.5  0.6  0.7  0.8  0.9]\n",
      "0.1     1805.906426\n",
      "0.2     3177.255688\n",
      "0.3     5506.323195\n",
      "0.4     8510.729683\n",
      "0.5    11620.932520\n",
      "0.6    15790.369076\n",
      "0.7    22563.075646\n",
      "0.8    32517.693902\n",
      "0.9    47377.886804\n",
      "Name: Income per Capita, dtype: float64\n"
     ]
    },
    {
     "data": {
      "image/png": "[encoded data removed]",
      "text/plain": [
       "<matplotlib.figure.Figure at 0x62f9b70>"
      ]
     },
     "metadata": {},
     "output_type": "display_data"
    }
   ],
   "source": [
    "import numpy as np\n",
    "# Generate range of deciles\n",
    "quantiles = np.arange(.1, .91, .1)\n",
    "\n",
    "# Print them\n",
    "print(quantiles)\n",
    "\n",
    "# Calculate deciles for 'Income per Capita'\n",
    "deciles = income['Income per Capita'].quantile(quantiles)\n",
    "\n",
    "# Print them\n",
    "print(deciles)\n",
    "\n",
    "# Plot deciles as a bar chart\n",
    "deciles.plot(kind='bar', title='Global Income per Capita - Deciles')\n",
    "\n",
    "# Make sure to use the tight layout!\n",
    "plt.tight_layout()\n",
    "\n",
    "# Show the plot\n",
    "plt.show()"
   ]
  },
  {
   "cell_type": "markdown",
   "metadata": {},
   "source": [
    "## Getting all the statistics\n",
    "50xp\n",
    "You can retrieve all major central tendency, dispersion, and shape statistics of a distribution at once with the pandas .describe() method. The default value of its optional percentiles argument corresponds with quartiles, but you can supply your own list of percentiles, as instead:\n",
    "\n",
    "DataFrame.describe(percentiles=[.25, .5, .75])\n",
    "The outputs of .describe() also include the total number of entries in the given series (which can be calculated with .count()), minimum value in the series (which can be calculated with .min()), and maximum value in the series (which can be calculated with .max()).\n",
    "\n",
    "This exercise will test your knowledge of the metrics and functions covered so far. Which of the following statements regarding the data in the 'Income per Capita' column in income is false?\n",
    "\n",
    "pandas as pd and numpy as np have been imported for you, and the income DataFrame from the previous exercise is available in your workspace."
   ]
  },
  {
   "cell_type": "code",
   "execution_count": 26,
   "metadata": {},
   "outputs": [
    {
     "name": "stdout",
     "output_type": "stream",
     "text": [
      "       Income per Capita  Income per Capita (,000)\n",
      "count         184.000000                184.000000\n",
      "mean        19469.419566                 18.967391\n",
      "std         21966.861207                 21.975869\n",
      "min           618.752859                  0.000000\n",
      "25%          3922.358940                  3.000000\n",
      "50%         11620.932520                 11.000000\n",
      "75%         26558.754670                 26.000000\n",
      "max        141542.662800                141.000000\n"
     ]
    },
    {
     "data": {
      "image/png": "[encoded data removed]",
      "text/plain": [
       "<matplotlib.figure.Figure at 0x90f56f0>"
      ]
     },
     "metadata": {},
     "output_type": "display_data"
    },
    {
     "data": {
      "image/png": "[encoded data removed]",
      "text/plain": [
       "<matplotlib.figure.Figure at 0x75358d0>"
      ]
     },
     "metadata": {},
     "output_type": "display_data"
    }
   ],
   "source": [
    "# Import seaborn and matplotlib\n",
    "import seaborn as sns\n",
    "\n",
    "# Import matplotlib\n",
    "import matplotlib.pyplot as plt\n",
    "\n",
    "# Show the summary statistics for income\n",
    "print(income.describe())\n",
    "\n",
    "# Plot a basic histogram of income per capita\n",
    "sns.distplot(income['Income per Capita'])\n",
    "\n",
    "# Show the plot\n",
    "plt.show()\n",
    "\n",
    "# Plot a rugplot\n",
    "sns.distplot(income['Income per Capita'], bins=50, kde=False, rug=True)\n",
    "\n",
    "# Show the plot\n",
    "plt.show()"
   ]
  },
  {
   "cell_type": "code",
   "execution_count": 27,
   "metadata": {},
   "outputs": [
    {
     "data": {
      "image/png": "[encoded data removed]",
      "text/plain": [
       "<matplotlib.figure.Figure at 0x939c4b0>"
      ]
     },
     "metadata": {},
     "output_type": "display_data"
    }
   ],
   "source": [
    "# Load the file into growth\n",
    "growth = pd.read_csv('C:/Users/aditya/Desktop/py/income_growth.csv', parse_dates=['DATE']).set_index('DATE')\n",
    "\n",
    "# Inspect the summary statistics for the growth rates\n",
    "growth.describe()\n",
    "\n",
    "# Iterate over the three columns\n",
    "for column in growth.columns:\n",
    "    sns.distplot(growth[column], hist=False, label=column)\n",
    "    \n",
    "# Show the plot\n",
    "plt.show()"
   ]
  },
  {
   "cell_type": "code",
   "execution_count": 28,
   "metadata": {},
   "outputs": [
    {
     "data": {
      "image/png": "[encoded data removed]",
      "text/plain": [
       "<matplotlib.figure.Figure at 0x9520a30>"
      ]
     },
     "metadata": {},
     "output_type": "display_data"
    }
   ],
   "source": [
    "# Create inc_per_capita\n",
    "inc_per_capita = income['Income per Capita']\n",
    "\n",
    "# Filter out incomes above the 95th percentile\n",
    "inc_per_capita = inc_per_capita[inc_per_capita < inc_per_capita.quantile(.95)]\n",
    "\n",
    "# Plot histogram and assign to ax\n",
    "ax = sns.distplot(inc_per_capita)\n",
    "\n",
    "# Highlight mean\n",
    "ax.axvline(inc_per_capita.mean(), color='b')\n",
    "\n",
    "# Highlight median\n",
    "ax.axvline(inc_per_capita.median(), color='g')\n",
    "\n",
    "# Show the plot\n",
    "plt.show()"
   ]
  },
  {
   "cell_type": "code",
   "execution_count": null,
   "metadata": {
    "collapsed": true
   },
   "outputs": [],
   "source": [
    "# Create the list exchanges\n",
    "exchanges = ['amex', 'nasdaq', 'nyse']\n",
    "\n",
    "# Iterate over exchanges then plot and show result\n",
    "for exchange in exchanges:\n",
    "    sectors = listings[exchange].Sector.value_counts()\n",
    "    # Sort in descending order and plot\n",
    "    sectors.sort_values(ascending=False).plot(kind='bar')\n",
    "    # Show the plot\n",
    "    plt.show()"
   ]
  },
  {
   "cell_type": "code",
   "execution_count": null,
   "metadata": {
    "collapsed": true
   },
   "outputs": [],
   "source": [
    "# Create lists\n",
    "exchanges = ['amex', 'nasdaq', 'nyse']\n",
    "all_listings = []\n",
    "\n",
    "# Use for loop to create listing_data\n",
    "for exchange in exchanges:\n",
    "    all_listings.append(listings[exchange])\n",
    "    \n",
    "# Combine DataFrames\n",
    "listing_data = pd.concat(all_listings)\n",
    "\n",
    "# Select tech companies\n",
    "tech_companies = listing_data[listing_data.Sector == 'Technology']\n",
    "\n",
    "# Create ipo_years\n",
    "ipo_years = tech_companies['IPO Year']\n",
    "\n",
    "# Drop missing values and convert to int\n",
    "ipo_years = ipo_years.dropna().astype(int)\n",
    "\n",
    "# Count values, sort by year, and create a bar plot\n",
    "ipo_years.value_counts().plot(kind='bar', title='Tech IPOs by Year')\n",
    "\n",
    "# Rotate xticks and show result\n",
    "plt.xticks(rotation=45)\n",
    "\n",
    "# Show the plot\n",
    "plt.show()"
   ]
  },
  {
   "cell_type": "markdown",
   "metadata": {},
   "source": [
    "# Aggregating and describing your "
   ]
  },
  {
   "cell_type": "code",
   "execution_count": 31,
   "metadata": {},
   "outputs": [
    {
     "name": "stdout",
     "output_type": "stream",
     "text": [
      "<class 'pandas.core.frame.DataFrame'>\n",
      "RangeIndex: 3147 entries, 0 to 3146\n",
      "Data columns (total 8 columns):\n",
      "Stock Symbol             3147 non-null object\n",
      "Company Name             3147 non-null object\n",
      "Last Sale                3079 non-null float64\n",
      "Market Capitalization    3147 non-null float64\n",
      "IPO Year                 1361 non-null float64\n",
      "Sector                   2177 non-null object\n",
      "Industry                 2177 non-null object\n",
      "Exchange                 3147 non-null object\n",
      "dtypes: float64(3), object(5)\n",
      "memory usage: 135.3+ KB\n"
     ]
    },
    {
     "data": {
      "image/png": "[encoded data removed]",
      "text/plain": [
       "<matplotlib.figure.Figure at 0x9405110>"
      ]
     },
     "metadata": {},
     "output_type": "display_data"
    }
   ],
   "source": [
    "# Inspect NYSE data\n",
    "nyse.info()\n",
    "\n",
    "# Create market_cap_m\n",
    "nyse['market_cap_m'] = nyse['Market Capitalization'].div(1e6)\n",
    "\n",
    "# Drop market cap column\n",
    "nyse = nyse.drop('Market Capitalization', axis=1)\n",
    "\n",
    "# Group nyse by sector\n",
    "mcap_by_sector = nyse.groupby('Sector')\n",
    "\n",
    "# Calculate median\n",
    "median_mcap_by_sector = mcap_by_sector.market_cap_m.median()\n",
    "\n",
    "# Plot and show as horizontal bar chart\n",
    "median_mcap_by_sector.plot(kind='barh', title='NYSE - Median Market Capitalization')\n",
    "\n",
    "# Add the label\n",
    "plt.xlabel('USD mn')\n",
    "\n",
    "# Show the plot\n",
    "plt.show()"
   ]
  },
  {
   "cell_type": "code",
   "execution_count": null,
   "metadata": {
    "collapsed": true
   },
   "outputs": [],
   "source": [
    "# Inspect listings\n",
    "listings.info()\n",
    "\n",
    "# Show listings head\n",
    "print(listings.head())\n",
    "\n",
    "# Create market_cap_m\n",
    "listings['market_cap_m'] = listings['Market Capitalization'].div(1e6)\n",
    "\n",
    "# Select companies with IPO after 1985\n",
    "listings = listings[listings['IPO Year'] > 1985]\n",
    "\n",
    "# Drop missing values and convert to integers\n",
    "listings['IPO Year'] = listings['IPO Year'].dropna().astype(int)\n",
    "\n",
    "# Calculate the median market cap by IPO Year and sort the index\n",
    "ipo_by_year = listings.groupby('IPO Year').market_cap_m.median().sort_index()\n",
    "\n",
    "# Plot results as a bar chart\n",
    "ipo_by_year.plot(kind='bar')\n",
    "\n",
    "# Show the plot\n",
    "plt.show()"
   ]
  },
  {
   "cell_type": "code",
   "execution_count": 33,
   "metadata": {},
   "outputs": [
    {
     "name": "stdout",
     "output_type": "stream",
     "text": [
      "<class 'pandas.core.frame.DataFrame'>\n",
      "RangeIndex: 3167 entries, 0 to 3166\n",
      "Data columns (total 8 columns):\n",
      "Stock Symbol             3167 non-null object\n",
      "Company Name             3167 non-null object\n",
      "Last Sale                3165 non-null float64\n",
      "Market Capitalization    3167 non-null float64\n",
      "IPO Year                 1386 non-null float64\n",
      "Sector                   2767 non-null object\n",
      "Industry                 2767 non-null object\n",
      "Exchange                 3167 non-null object\n",
      "dtypes: float64(3), object(5)\n",
      "memory usage: 136.1+ KB\n",
      "                      IPO Year                                           \\\n",
      "                         count         mean        std     min      25%   \n",
      "Sector                                                                    \n",
      "Basic Industries          30.0  2000.766667  12.516701  1972.0  1993.25   \n",
      "Capital Goods             77.0  2001.324675  10.593495  1972.0  1993.00   \n",
      "Consumer Durables         36.0  2003.222222   9.908470  1983.0  1994.75   \n",
      "Consumer Non-Durables     41.0  2000.609756  11.060918  1972.0  1993.00   \n",
      "Consumer Services        153.0  2004.104575   9.100436  1981.0  1996.00   \n",
      "Energy                    29.0  2008.034483   8.217937  1983.0  2006.00   \n",
      "Finance                  218.0  2010.321101   8.404389  1981.0  2009.25   \n",
      "Health Care              391.0  2009.240409   8.556210  1981.0  2005.00   \n",
      "Miscellaneous             42.0  2004.333333   7.162459  1987.0  1999.00   \n",
      "Public Utilities          25.0  2006.040000   9.016097  1981.0  1999.00   \n",
      "Technology               274.0  2002.653285   9.613799  1972.0  1996.00   \n",
      "Transportation            21.0  1997.809524   9.190316  1986.0  1991.00   \n",
      "\n",
      "                                               Last Sale             \\\n",
      "                          50%      75%     max     count       mean   \n",
      "Sector                                                                \n",
      "Basic Industries       1996.5  2011.75  2016.0      78.0  21.597679   \n",
      "Capital Goods          2000.0  2012.00  2016.0     172.0  26.188681   \n",
      "Consumer Durables      2002.5  2013.00  2015.0      88.0  24.363391   \n",
      "Consumer Non-Durables  1998.0  2011.00  2016.0     103.0  25.749565   \n",
      "Consumer Services      2005.0  2013.00  2017.0     348.0  34.917318   \n",
      "Energy                 2011.0  2016.00  2017.0      65.0  15.496834   \n",
      "Finance                2014.0  2015.00  2017.0     627.0  29.644242   \n",
      "Health Care            2014.0  2015.00  2017.0     645.0  19.462531   \n",
      "Miscellaneous          2005.0  2010.75  2016.0      89.0  46.094369   \n",
      "Public Utilities       2007.0  2014.00  2016.0      66.0  18.643705   \n",
      "Technology             2001.5  2012.00  2017.0     433.0  31.100317   \n",
      "Transportation         1997.0  2006.00  2013.0      52.0  28.096758   \n",
      "\n",
      "                           ...                         market_cap_m  \\\n",
      "                           ...            75%      max        count   \n",
      "Sector                     ...                                        \n",
      "Basic Industries           ...        22.4800   114.80         78.0   \n",
      "Capital Goods              ...        33.5400   304.00        172.0   \n",
      "Consumer Durables          ...        30.6525   354.00         88.0   \n",
      "Consumer Non-Durables      ...        34.8600   202.18        103.0   \n",
      "Consumer Services          ...        37.5250   884.67        348.0   \n",
      "Energy                     ...        17.9800   114.10         66.0   \n",
      "Finance                    ...        32.7000  1367.00        627.0   \n",
      "Health Care                ...        19.3800   764.79        645.0   \n",
      "Miscellaneous              ...        34.3300  1738.77         89.0   \n",
      "Public Utilities           ...        25.3150   104.46         66.0   \n",
      "Technology                 ...        37.9500   840.18        433.0   \n",
      "Transportation             ...        43.5950   152.05         52.0   \n",
      "\n",
      "                                                                               \\\n",
      "                               mean           std  min        25%         50%   \n",
      "Sector                                                                          \n",
      "Basic Industries         724.899934   1445.544949  0.0  42.870409  150.385214   \n",
      "Capital Goods           1511.237373   4829.846757  0.0  68.473978  293.801019   \n",
      "Consumer Durables        839.802607   1907.604606  0.0  41.234061  177.593858   \n",
      "Consumer Non-Durables   3104.051206  12998.094858  0.0  47.795651  229.930660   \n",
      "Consumer Services       5582.344175  26492.247636  0.0  79.944770  524.151914   \n",
      "Energy                   826.607608   1568.869627  0.0  53.604112  182.427776   \n",
      "Finance                 1044.090205   2874.795862  0.0  49.512344  205.476633   \n",
      "Health Care             1758.709197   8767.258744  0.0  38.034797  173.823325   \n",
      "Miscellaneous           3445.655935  11461.047175  0.0  63.958819  228.096175   \n",
      "Public Utilities        2357.865315   8729.065471  0.0  91.844332  378.995786   \n",
      "Technology             10883.434214  62279.404522  0.0  85.609828  600.720995   \n",
      "Transportation          2869.660007   6915.407403  0.0  68.539669  479.777469   \n",
      "\n",
      "                                                   \n",
      "                               75%            max  \n",
      "Sector                                             \n",
      "Basic Industries        721.203429    7976.835456  \n",
      "Capital Goods          1031.733122   49614.832848  \n",
      "Consumer Durables       669.007612   13620.922869  \n",
      "Consumer Non-Durables  1149.085989  111367.949216  \n",
      "Consumer Services      2463.643810  422138.530626  \n",
      "Energy                  728.108863    9468.718827  \n",
      "Finance                 732.083620   39372.418940  \n",
      "Health Care             662.945151  118927.210535  \n",
      "Miscellaneous          1544.483369   85496.045967  \n",
      "Public Utilities       1115.589226   52930.713577  \n",
      "Technology             2464.720340  740024.467000  \n",
      "Transportation         1724.087196   43005.669415  \n",
      "\n",
      "[12 rows x 24 columns]\n",
      "                     Sector               \n",
      "IPO Year      count  Basic Industries             30.000000\n",
      "                     Capital Goods                77.000000\n",
      "                     Consumer Durables            36.000000\n",
      "                     Consumer Non-Durables        41.000000\n",
      "                     Consumer Services           153.000000\n",
      "                     Energy                       29.000000\n",
      "                     Finance                     218.000000\n",
      "                     Health Care                 391.000000\n",
      "                     Miscellaneous                42.000000\n",
      "                     Public Utilities             25.000000\n",
      "                     Technology                  274.000000\n",
      "                     Transportation               21.000000\n",
      "              mean   Basic Industries           2000.766667\n",
      "                     Capital Goods              2001.324675\n",
      "                     Consumer Durables          2003.222222\n",
      "                     Consumer Non-Durables      2000.609756\n",
      "                     Consumer Services          2004.104575\n",
      "                     Energy                     2008.034483\n",
      "                     Finance                    2010.321101\n",
      "                     Health Care                2009.240409\n",
      "                     Miscellaneous              2004.333333\n",
      "                     Public Utilities           2006.040000\n",
      "                     Technology                 2002.653285\n",
      "                     Transportation             1997.809524\n",
      "              std    Basic Industries             12.516701\n",
      "                     Capital Goods                10.593495\n",
      "                     Consumer Durables             9.908470\n",
      "                     Consumer Non-Durables        11.060918\n",
      "                     Consumer Services             9.100436\n",
      "                     Energy                        8.217937\n",
      "                                                  ...      \n",
      "market_cap_m  50%    Finance                     205.476633\n",
      "                     Health Care                 173.823325\n",
      "                     Miscellaneous               228.096175\n",
      "                     Public Utilities            378.995786\n",
      "                     Technology                  600.720995\n",
      "                     Transportation              479.777469\n",
      "              75%    Basic Industries            721.203429\n",
      "                     Capital Goods              1031.733122\n",
      "                     Consumer Durables           669.007612\n",
      "                     Consumer Non-Durables      1149.085989\n",
      "                     Consumer Services          2463.643810\n",
      "                     Energy                      728.108863\n",
      "                     Finance                     732.083620\n",
      "                     Health Care                 662.945151\n",
      "                     Miscellaneous              1544.483369\n",
      "                     Public Utilities           1115.589226\n",
      "                     Technology                 2464.720340\n",
      "                     Transportation             1724.087196\n",
      "              max    Basic Industries           7976.835456\n",
      "                     Capital Goods             49614.832848\n",
      "                     Consumer Durables         13620.922869\n",
      "                     Consumer Non-Durables    111367.949216\n",
      "                     Consumer Services        422138.530626\n",
      "                     Energy                     9468.718827\n",
      "                     Finance                   39372.418940\n",
      "                     Health Care              118927.210535\n",
      "                     Miscellaneous             85496.045967\n",
      "                     Public Utilities          52930.713577\n",
      "                     Technology               740024.467000\n",
      "                     Transportation            43005.669415\n",
      "Length: 288, dtype: float64\n"
     ]
    }
   ],
   "source": [
    "# Inspect NASDAQ data\n",
    "nasdaq.info()\n",
    "\n",
    "# Create market_cap_m\n",
    "nasdaq['market_cap_m'] = nasdaq['Market Capitalization'].div(1e6)\n",
    "\n",
    "# Drop the Market Capitalization column\n",
    "nasdaq.drop('Market Capitalization', axis=1, inplace=True)\n",
    "\n",
    "# Group nasdaq by Sector\n",
    "nasdaq_by_sector = nasdaq.groupby('Sector')\n",
    "\n",
    "# Create summary statistics by sector\n",
    "summary = nasdaq_by_sector.describe()\n",
    "\n",
    "# Print the summary\n",
    "print(summary)\n",
    "\n",
    "# Unstack \n",
    "summary = summary.unstack()\n",
    "\n",
    "# Print the summary again\n",
    "print(summary)"
   ]
  },
  {
   "cell_type": "code",
   "execution_count": null,
   "metadata": {
    "collapsed": true
   },
   "outputs": [],
   "source": [
    "# Group listings by Sector and Exchange\n",
    "by_sector_exchange = listings.groupby(['Sector', 'Exchange'])\n",
    "\n",
    "# Calculate the median market cap\n",
    "mcap_by_sector_exchange = by_sector_exchange.market_cap_m.median()\n",
    "\n",
    "# Display the head of the result\n",
    "print(mcap_by_sector_exchange.head())\n",
    "\n",
    "# Unstack mcap_by_sector_exchange\n",
    "mcap_unstacked = mcap_by_sector_exchange.unstack()\n",
    "\n",
    "# Plot as a bar chart\n",
    "mcap_unstacked.plot(kind='bar', title='Median Market Capitalization by Exchange')\n",
    "\n",
    "# Set the x label\n",
    "plt.xlabel('USD mn')\n",
    "\n",
    "# Show the plot\n",
    "plt.show()"
   ]
  },
  {
   "cell_type": "code",
   "execution_count": null,
   "metadata": {
    "collapsed": true
   },
   "outputs": [],
   "source": [
    "# Create market_cap_m\n",
    "listings['market_cap_m'] = listings['Market Capitalization'].div(1e6)\n",
    "\n",
    "# Group listing by both Sector and Exchange\n",
    "by_sector_exchange = listings.groupby(['Sector', 'Exchange'])\n",
    "\n",
    "# Subset market_cap_m of by_sector_exchange\n",
    "bse_mcm = by_sector_exchange['market_cap_m']\n",
    "\n",
    "# Calculate mean, median, and std in summary\n",
    "summary = bse_mcm.agg({'Average': 'mean', 'Median': 'median', 'Standard Deviation': 'std'})\n",
    "\n",
    "# Print the summary\n",
    "print(summary)"
   ]
  },
  {
   "cell_type": "code",
   "execution_count": null,
   "metadata": {
    "collapsed": true
   },
   "outputs": [],
   "source": [
    "# Select IPOs after 2000\n",
    "listings = listings[listings['IPO Year'] > 2000]\n",
    "\n",
    "# Convert IPO Year to integer\n",
    "listings['IPO Year'] = listings['IPO Year'].astype(int)\n",
    "\n",
    "# Create a countplot\n",
    "sns.countplot(x='IPO Year', hue='Exchange', data=listings)\n",
    "\n",
    "# Rotate xticks and show result\n",
    "plt.xticks(rotation=45)\n",
    "\n",
    "# Show the plot\n",
    "plt.show()"
   ]
  },
  {
   "cell_type": "code",
   "execution_count": null,
   "metadata": {
    "collapsed": true
   },
   "outputs": [],
   "source": [
    "# Inspect the data\n",
    "income_trend.info()\n",
    "\n",
    "# Create barplot\n",
    "sns.barplot(x='Year', y='Income per Capita', data=income_trend)\n",
    "\n",
    "# Rotate xticks\n",
    "plt.xticks(rotation=45)\n",
    "\n",
    "# Show the plot\n",
    "plt.show()\n",
    "\n",
    "# Close the plot\n",
    "plt.close()\n",
    "\n",
    "# Create second barplot\n",
    "sns.barplot(x='Year', y='Income per Capita', data=income_trend, estimator=np.median)\n",
    "\n",
    "# Rotate xticks\n",
    "plt.xticks(rotation=45)\n",
    "\n",
    "# Show the plot\n",
    "plt.show()"
   ]
  },
  {
   "cell_type": "code",
   "execution_count": null,
   "metadata": {
    "collapsed": true
   },
   "outputs": [],
   "source": [
    "# Import the seaborn library as sns\n",
    "import seaborn as sns\n",
    "\n",
    "# Exclude IPOs before 2000 and from the 'amex'\n",
    "listings = listings[(listings['IPO Year'] > 2000) & (listings.Exchange != 'amex')]\n",
    "\n",
    "# Convert IPO Year to integer\n",
    "listings['IPO Year'] = listings['IPO Year'].astype(int)\n",
    "\n",
    "# Create market_cap_m\n",
    "listings['market_cap_m'] = listings['Market Capitalization'].div(1e6)\n",
    "\n",
    "# Exclude outliers\n",
    "listings = listings[listings.market_cap_m < listings.market_cap_m.quantile(.95)]\n",
    "\n",
    "# Create the pointplot\n",
    "sns.pointplot(x='IPO Year', y='market_cap_m', hue='Exchange', data=listings)\n",
    "\n",
    "# Rotate xticks\n",
    "plt.xticks(rotation=45)\n",
    "\n",
    "# Show the plot\n",
    "plt.show()"
   ]
  },
  {
   "cell_type": "code",
   "execution_count": null,
   "metadata": {
    "collapsed": true
   },
   "outputs": [],
   "source": [
    "# Inspect the inflation data\n",
    "inflation.info()\n",
    "\n",
    "# Create inflation_by_country\n",
    "inflation_by_country = inflation.groupby('Country')\n",
    "\n",
    "# Iterate over inflation_by_country and plot the inflation time series per country\n",
    "for country, data in inflation_by_country:\n",
    "    # Plot the data\n",
    "    data.plot(title=country)\n",
    "    # Show the plot\n",
    "    plt.show()"
   ]
  },
  {
   "cell_type": "code",
   "execution_count": null,
   "metadata": {
    "collapsed": true
   },
   "outputs": [],
   "source": [
    "# Create boxplot\n",
    "sns.boxplot(x='Country', y='Inflation', data=inflation)\n",
    "\n",
    "# Show the plot\n",
    "plt.show()\n",
    "\n",
    "# Close the plot\n",
    "plt.close()\n",
    "\n",
    "# Create swarmplot\n",
    "sns.swarmplot(x='Country', y='Inflation', data=inflation)\n",
    "\n",
    "# Show the plot\n",
    "plt.show()"
   ]
  },
  {
   "cell_type": "code",
   "execution_count": null,
   "metadata": {
    "collapsed": true
   },
   "outputs": [],
   "source": []
  }
 ],
 "metadata": {
  "kernelspec": {
   "display_name": "Python 3",
   "language": "python",
   "name": "python3"
  },
  "language_info": {
   "codemirror_mode": {
    "name": "ipython",
    "version": 3
   },
   "file_extension": ".py",
   "mimetype": "text/x-python",
   "name": "python",
   "nbconvert_exporter": "python",
   "pygments_lexer": "ipython3",
   "version": "3.6.1"
  }
 },
 "nbformat": 4,
 "nbformat_minor": 2
}
