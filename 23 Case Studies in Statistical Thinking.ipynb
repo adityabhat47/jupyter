{
 "cells": [
  {
   "cell_type": "markdown",
   "metadata": {},
   "source": [
    "# Fish sleep and bacteria growth: A review of Statistical Thinking I and II"
   ]
  },
  {
   "cell_type": "code",
   "execution_count": 2,
   "metadata": {},
   "outputs": [
    {
     "ename": "ModuleNotFoundError",
     "evalue": "No module named 'dc_stat_think'",
     "output_type": "error",
     "traceback": [
      "\u001b[1;31m---------------------------------------------------------------------------\u001b[0m",
      "\u001b[1;31mModuleNotFoundError\u001b[0m                       Traceback (most recent call last)",
      "\u001b[1;32m<ipython-input-2-8ed976d36336>\u001b[0m in \u001b[0;36m<module>\u001b[1;34m()\u001b[0m\n\u001b[0;32m      1\u001b[0m \u001b[1;31m# Import the dc_stat_think module as dcst\u001b[0m\u001b[1;33m\u001b[0m\u001b[1;33m\u001b[0m\u001b[0m\n\u001b[1;32m----> 2\u001b[1;33m \u001b[1;32mimport\u001b[0m \u001b[0mdc_stat_think\u001b[0m \u001b[1;32mas\u001b[0m \u001b[0mdcst\u001b[0m\u001b[1;33m\u001b[0m\u001b[0m\n\u001b[0m\u001b[0;32m      3\u001b[0m \u001b[1;33m\u001b[0m\u001b[0m\n\u001b[0;32m      4\u001b[0m \u001b[1;31m# Generate x and y values for plotting ECDFs\u001b[0m\u001b[1;33m\u001b[0m\u001b[1;33m\u001b[0m\u001b[0m\n\u001b[0;32m      5\u001b[0m \u001b[0mx_wt\u001b[0m\u001b[1;33m,\u001b[0m \u001b[0my_wt\u001b[0m \u001b[1;33m=\u001b[0m \u001b[0mdcst\u001b[0m\u001b[1;33m.\u001b[0m\u001b[0mecdf\u001b[0m\u001b[1;33m(\u001b[0m\u001b[0mbout_lengths_wt\u001b[0m\u001b[1;33m)\u001b[0m\u001b[1;33m\u001b[0m\u001b[0m\n",
      "\u001b[1;31mModuleNotFoundError\u001b[0m: No module named 'dc_stat_think'"
     ]
    }
   ],
   "source": [
    "# Import the dc_stat_think module as dcst\n",
    "import dc_stat_think as dcst\n",
    "\n",
    "# Generate x and y values for plotting ECDFs\n",
    "x_wt, y_wt = dcst.ecdf(bout_lengths_wt)\n",
    "x_mut, y_mut = dcst.ecdf(bout_lengths_mut)\n",
    "\n",
    "# Plot the ECDFs\n",
    "_ = plt.plot(x_wt, y_wt, marker='.', linestyle='none')\n",
    "_ = plt.plot(x_mut, y_mut, marker='.', linestyle='none')\n",
    "\n",
    "# Make a legend, label axes, and show plot\n",
    "_ = plt.legend(('wt', 'mut'))\n",
    "_ = plt.xlabel('active bout length (min)')\n",
    "_ = plt.ylabel('ECDF')\n",
    "plt.show()\n"
   ]
  },
  {
   "cell_type": "code",
   "execution_count": 4,
   "metadata": {},
   "outputs": [
    {
     "ename": "NameError",
     "evalue": "name 'bout_lengths_wt' is not defined",
     "output_type": "error",
     "traceback": [
      "\u001b[1;31m---------------------------------------------------------------------------\u001b[0m",
      "\u001b[1;31mNameError\u001b[0m                                 Traceback (most recent call last)",
      "\u001b[1;32m<ipython-input-4-b579bbbf9eac>\u001b[0m in \u001b[0;36m<module>\u001b[1;34m()\u001b[0m\n\u001b[0;32m      1\u001b[0m \u001b[1;32mimport\u001b[0m \u001b[0mnumpy\u001b[0m \u001b[1;32mas\u001b[0m \u001b[0mnp\u001b[0m\u001b[1;33m\u001b[0m\u001b[0m\n\u001b[0;32m      2\u001b[0m \u001b[1;31m# Compute mean active bout length\u001b[0m\u001b[1;33m\u001b[0m\u001b[1;33m\u001b[0m\u001b[0m\n\u001b[1;32m----> 3\u001b[1;33m \u001b[0mmean_wt\u001b[0m \u001b[1;33m=\u001b[0m \u001b[0mnp\u001b[0m\u001b[1;33m.\u001b[0m\u001b[0mmean\u001b[0m\u001b[1;33m(\u001b[0m\u001b[0mbout_lengths_wt\u001b[0m\u001b[1;33m)\u001b[0m\u001b[1;33m\u001b[0m\u001b[0m\n\u001b[0m\u001b[0;32m      4\u001b[0m \u001b[0mmean_mut\u001b[0m \u001b[1;33m=\u001b[0m \u001b[0mnp\u001b[0m\u001b[1;33m.\u001b[0m\u001b[0mmean\u001b[0m\u001b[1;33m(\u001b[0m\u001b[0mbout_lengths_mut\u001b[0m\u001b[1;33m)\u001b[0m\u001b[1;33m\u001b[0m\u001b[0m\n\u001b[0;32m      5\u001b[0m \u001b[1;33m\u001b[0m\u001b[0m\n",
      "\u001b[1;31mNameError\u001b[0m: name 'bout_lengths_wt' is not defined"
     ]
    }
   ],
   "source": [
    "import numpy as np\n",
    "# Compute mean active bout length\n",
    "mean_wt = np.mean(bout_lengths_wt)\n",
    "mean_mut = np.mean(bout_lengths_mut)\n",
    "\n",
    "# Draw bootstrap replicates\n",
    "bs_reps_wt = dcst.draw_bs_reps(bout_lengths_wt, np.mean, size=10000)\n",
    "bs_reps_mut = dcst.draw_bs_reps(bout_lengths_mut, np.mean, size=10000)\n",
    "\n",
    "# Compute 95% confidence intervals\n",
    "conf_int_wt = np.percentile(bs_reps_wt, [2.5, 97.5])\n",
    "conf_int_mut = np.percentile(bs_reps_mut, [2.5, 97.5])\n",
    "\n",
    "# Print the results\n",
    "print(\"\"\"\n",
    "wt:  mean = {0:.3f} min., conf. int. = [{1:.1f}, {2:.1f}] min.\n",
    "mut: mean = {3:.3f} min., conf. int. = [{4:.1f}, {5:.1f}] min.\n",
    "\"\"\".format(mean_wt, *conf_int_wt, mean_mut, *conf_int_mut))"
   ]
  },
  {
   "cell_type": "code",
   "execution_count": null,
   "metadata": {
    "collapsed": true
   },
   "outputs": [],
   "source": [
    "# Compute the difference of means: diff_means_exp\n",
    "diff_means_exp = np.mean(bout_lengths_het) - np.mean(bout_lengths_wt)\n",
    "\n",
    "# Draw permutation replicates: perm_reps\n",
    "perm_reps = dcst.draw_perm_reps(bout_lengths_het, bout_lengths_wt, \n",
    "                               dcst.diff_of_means, size=10000)\n",
    "\n",
    "# Compute the p-value: p_val\n",
    "p_val = np.sum(perm_reps >= diff_means_exp) / len(perm_reps)\n",
    "\n",
    "# Print the result\n",
    "print('p =', p_val)"
   ]
  },
  {
   "cell_type": "code",
   "execution_count": null,
   "metadata": {
    "collapsed": true
   },
   "outputs": [],
   "source": [
    "# Concatenate arrays: bout_lengths_concat\n",
    "bout_lengths_concat = np.concatenate((bout_lengths_wt, bout_lengths_het))\n",
    "\n",
    "# Compute mean of all bout_lengths: mean_bout_length\n",
    "mean_bout_length = np.mean(bout_lengths_concat)\n",
    "\n",
    "# Generate shifted arrays\n",
    "wt_shifted = bout_lengths_wt - np.mean(bout_lengths_wt) + mean_bout_length\n",
    "het_shifted = bout_lengths_het - np.mean(bout_lengths_het) + mean_bout_length\n",
    "\n",
    "# Compute 10,000 bootstrap replicates from shifted arrays\n",
    "bs_reps_wt = dcst.draw_bs_reps(wt_shifted, np.mean, size=10000)\n",
    "bs_reps_het = dcst.draw_bs_reps(het_shifted, np.mean, size=10000)\n",
    "\n",
    "# Get replicates of difference of means: bs_reps\n",
    "bs_reps = bs_reps_het - bs_reps_wt\n",
    "\n",
    "# Compute and print p-value: p\n",
    "p = np.sum(bs_reps >= diff_means_exp) / len(bs_reps)\n",
    "print('p-value =', p)"
   ]
  },
  {
   "cell_type": "code",
   "execution_count": null,
   "metadata": {
    "collapsed": true
   },
   "outputs": [],
   "source": [
    "# Compute logarithm of the bacterial area\n",
    "log_bac_area = np.log(bac_area)\n",
    "\n",
    "# Compute the slope and intercept: growth_rate, log_a0\n",
    "growth_rate, log_a0 = np.polyfit(t, log_bac_area, 1)\n",
    "\n",
    "# Draw 10,000 pairs bootstrap replicates: growth_rate_bs_reps, log_a0_bs_reps\n",
    "growth_rate_bs_reps, log_a0_bs_reps = \\\n",
    "            dcst.draw_bs_pairs_linreg(t, log_bac_area, size=10000)\n",
    "    \n",
    "# Compute confidence intervals: growth_rate_conf_int\n",
    "growth_rate_conf_int = np.percentile(growth_rate_bs_reps, [2.5, 97.5])\n",
    "\n",
    "# Print the result to the screen\n",
    "print(\"\"\"\n",
    "Growth rate: {0:.4f} sq. µm/hour\n",
    "95% conf int: [{1:.4f}, {2:.4f}] sq. µm/hour\n",
    "\"\"\".format(growth_rate, *growth_rate_conf_int))"
   ]
  },
  {
   "cell_type": "code",
   "execution_count": 10,
   "metadata": {},
   "outputs": [
    {
     "ename": "NameError",
     "evalue": "name 't' is not defined",
     "output_type": "error",
     "traceback": [
      "\u001b[1;31m---------------------------------------------------------------------------\u001b[0m",
      "\u001b[1;31mNameError\u001b[0m                                 Traceback (most recent call last)",
      "\u001b[1;32m<ipython-input-10-dbe3ef973bb8>\u001b[0m in \u001b[0;36m<module>\u001b[1;34m()\u001b[0m\n\u001b[0;32m      1\u001b[0m \u001b[1;32mimport\u001b[0m \u001b[0mmatplotlib\u001b[0m\u001b[1;33m.\u001b[0m\u001b[0mpyplot\u001b[0m \u001b[1;32mas\u001b[0m \u001b[0mplt\u001b[0m\u001b[1;33m\u001b[0m\u001b[0m\n\u001b[0;32m      2\u001b[0m \u001b[1;31m# Plot data points in a semilog-y plot with axis labeles\u001b[0m\u001b[1;33m\u001b[0m\u001b[1;33m\u001b[0m\u001b[0m\n\u001b[1;32m----> 3\u001b[1;33m \u001b[0m_\u001b[0m \u001b[1;33m=\u001b[0m \u001b[0mplt\u001b[0m\u001b[1;33m.\u001b[0m\u001b[0msemilogy\u001b[0m\u001b[1;33m(\u001b[0m\u001b[0mt\u001b[0m\u001b[1;33m,\u001b[0m \u001b[0mbac_area\u001b[0m\u001b[1;33m,\u001b[0m \u001b[0mmarker\u001b[0m\u001b[1;33m=\u001b[0m\u001b[1;34m'.'\u001b[0m\u001b[1;33m,\u001b[0m \u001b[0mlinestyle\u001b[0m\u001b[1;33m=\u001b[0m\u001b[1;34m'none'\u001b[0m\u001b[1;33m)\u001b[0m\u001b[1;33m\u001b[0m\u001b[0m\n\u001b[0m\u001b[0;32m      4\u001b[0m \u001b[1;33m\u001b[0m\u001b[0m\n\u001b[0;32m      5\u001b[0m \u001b[1;31m# Generate x-values for the bootstrap lines: t_bs\u001b[0m\u001b[1;33m\u001b[0m\u001b[1;33m\u001b[0m\u001b[0m\n",
      "\u001b[1;31mNameError\u001b[0m: name 't' is not defined"
     ]
    }
   ],
   "source": [
    "import matplotlib.pyplot as plt   \n",
    "# Plot data points in a semilog-y plot with axis labeles\n",
    "_ = plt.semilogy(t, bac_area, marker='.', linestyle='none')\n",
    "\n",
    "# Generate x-values for the bootstrap lines: t_bs\n",
    "t_bs = np.array([0, 14])\n",
    "\n",
    "# Plot the first 100 bootstrap lines\n",
    "for i in range(100):\n",
    "    y = np.exp(growth_rate_bs_reps[i] * t_bs + log_a0_bs_reps[i])\n",
    "    _ = plt.semilogy(t_bs, y, linewidth=0.5, alpha=0.05, color='red')\n",
    "    \n",
    "# Label axes and show plot\n",
    "_ = plt.xlabel('time (hr)')\n",
    "_ = plt.ylabel('area (sq. µm)')\n",
    "plt.show()"
   ]
  },
  {
   "cell_type": "markdown",
   "metadata": {},
   "source": [
    "# Analysis of results of the 2015 FINA World Swimming Championships"
   ]
  },
  {
   "cell_type": "code",
   "execution_count": 11,
   "metadata": {},
   "outputs": [
    {
     "ename": "NameError",
     "evalue": "name 'dcst' is not defined",
     "output_type": "error",
     "traceback": [
      "\u001b[1;31m---------------------------------------------------------------------------\u001b[0m",
      "\u001b[1;31mNameError\u001b[0m                                 Traceback (most recent call last)",
      "\u001b[1;32m<ipython-input-11-e19cdf2f84bf>\u001b[0m in \u001b[0;36m<module>\u001b[1;34m()\u001b[0m\n\u001b[0;32m      1\u001b[0m \u001b[1;31m# Generate x and y values for ECDF\u001b[0m\u001b[1;33m\u001b[0m\u001b[1;33m\u001b[0m\u001b[0m\n\u001b[1;32m----> 2\u001b[1;33m \u001b[0mx\u001b[0m\u001b[1;33m,\u001b[0m \u001b[0my\u001b[0m \u001b[1;33m=\u001b[0m \u001b[0mdcst\u001b[0m\u001b[1;33m.\u001b[0m\u001b[0mecdf\u001b[0m\u001b[1;33m(\u001b[0m\u001b[0mmens_200_free_heats\u001b[0m\u001b[1;33m)\u001b[0m\u001b[1;33m\u001b[0m\u001b[0m\n\u001b[0m\u001b[0;32m      3\u001b[0m \u001b[1;33m\u001b[0m\u001b[0m\n\u001b[0;32m      4\u001b[0m \u001b[1;31m# Plot the ECDF as dots\u001b[0m\u001b[1;33m\u001b[0m\u001b[1;33m\u001b[0m\u001b[0m\n\u001b[0;32m      5\u001b[0m \u001b[0m_\u001b[0m \u001b[1;33m=\u001b[0m \u001b[0mplt\u001b[0m\u001b[1;33m.\u001b[0m\u001b[0mplot\u001b[0m\u001b[1;33m(\u001b[0m\u001b[0mx\u001b[0m\u001b[1;33m,\u001b[0m \u001b[0my\u001b[0m\u001b[1;33m,\u001b[0m \u001b[0mmarker\u001b[0m\u001b[1;33m=\u001b[0m\u001b[1;34m'.'\u001b[0m\u001b[1;33m,\u001b[0m \u001b[0mlinestyle\u001b[0m\u001b[1;33m=\u001b[0m\u001b[1;34m'none'\u001b[0m\u001b[1;33m)\u001b[0m\u001b[1;33m\u001b[0m\u001b[0m\n",
      "\u001b[1;31mNameError\u001b[0m: name 'dcst' is not defined"
     ]
    }
   ],
   "source": [
    "# Generate x and y values for ECDF\n",
    "x, y = dcst.ecdf(mens_200_free_heats)\n",
    "\n",
    "# Plot the ECDF as dots\n",
    "_ = plt.plot(x, y, marker='.', linestyle='none')\n",
    "\n",
    "# Label axes and show plot\n",
    "_ = plt.xlabel('time (s)')\n",
    "_ = plt.ylabel('ECDF')\n",
    "plt.show()\n"
   ]
  },
  {
   "cell_type": "code",
   "execution_count": 12,
   "metadata": {},
   "outputs": [
    {
     "ename": "NameError",
     "evalue": "name 'mens_200_free_heats' is not defined",
     "output_type": "error",
     "traceback": [
      "\u001b[1;31m---------------------------------------------------------------------------\u001b[0m",
      "\u001b[1;31mNameError\u001b[0m                                 Traceback (most recent call last)",
      "\u001b[1;32m<ipython-input-12-5ab3ff175800>\u001b[0m in \u001b[0;36m<module>\u001b[1;34m()\u001b[0m\n\u001b[0;32m      1\u001b[0m \u001b[1;31m# Compute mean and median swim times\u001b[0m\u001b[1;33m\u001b[0m\u001b[1;33m\u001b[0m\u001b[0m\n\u001b[1;32m----> 2\u001b[1;33m \u001b[0mmean_time\u001b[0m \u001b[1;33m=\u001b[0m \u001b[0mnp\u001b[0m\u001b[1;33m.\u001b[0m\u001b[0mmean\u001b[0m\u001b[1;33m(\u001b[0m\u001b[0mmens_200_free_heats\u001b[0m\u001b[1;33m)\u001b[0m\u001b[1;33m\u001b[0m\u001b[0m\n\u001b[0m\u001b[0;32m      3\u001b[0m \u001b[0mmedian_time\u001b[0m \u001b[1;33m=\u001b[0m \u001b[0mnp\u001b[0m\u001b[1;33m.\u001b[0m\u001b[0mmedian\u001b[0m\u001b[1;33m(\u001b[0m\u001b[0mmens_200_free_heats\u001b[0m\u001b[1;33m)\u001b[0m\u001b[1;33m\u001b[0m\u001b[0m\n\u001b[0;32m      4\u001b[0m \u001b[1;33m\u001b[0m\u001b[0m\n\u001b[0;32m      5\u001b[0m \u001b[1;31m# Draw 10,000 bootstrap replicates of the mean and median\u001b[0m\u001b[1;33m\u001b[0m\u001b[1;33m\u001b[0m\u001b[0m\n",
      "\u001b[1;31mNameError\u001b[0m: name 'mens_200_free_heats' is not defined"
     ]
    }
   ],
   "source": [
    "# Compute mean and median swim times\n",
    "mean_time = np.mean(mens_200_free_heats)\n",
    "median_time = np.median(mens_200_free_heats)\n",
    "\n",
    "# Draw 10,000 bootstrap replicates of the mean and median\n",
    "bs_reps_mean = dcst.draw_bs_reps(mens_200_free_heats, np.mean, size=10000)\n",
    "bs_reps_median = dcst.draw_bs_reps(mens_200_free_heats, np.median, size=10000)\n",
    "\n",
    "\n",
    "# Compute the 95% confidence intervals\n",
    "conf_int_mean = np.percentile(bs_reps_mean, [2.5, 97.5])\n",
    "conf_int_median = np.percentile(bs_reps_median, [2.5, 97.5])\n",
    "\n",
    "# Print the result to the screen\n",
    "print(\"\"\"\n",
    "mean time: {0:.2f} sec.\n",
    "95% conf int of mean: [{1:.2f}, {2:.2f}] sec.\n",
    "\n",
    "median time: {3:.2f} sec.\n",
    "95% conf int of median: [{4:.2f}, {5:.2f}] sec.\n",
    "\"\"\".format(mean_time, *conf_int_mean, median_time, *conf_int_median))"
   ]
  },
  {
   "cell_type": "code",
   "execution_count": 13,
   "metadata": {},
   "outputs": [
    {
     "ename": "NameError",
     "evalue": "name 'semi_times' is not defined",
     "output_type": "error",
     "traceback": [
      "\u001b[1;31m---------------------------------------------------------------------------\u001b[0m",
      "\u001b[1;31mNameError\u001b[0m                                 Traceback (most recent call last)",
      "\u001b[1;32m<ipython-input-13-1866bc15e2e3>\u001b[0m in \u001b[0;36m<module>\u001b[1;34m()\u001b[0m\n\u001b[0;32m      1\u001b[0m \u001b[1;31m# Compute fractional difference in time between finals and semis\u001b[0m\u001b[1;33m\u001b[0m\u001b[1;33m\u001b[0m\u001b[0m\n\u001b[1;32m----> 2\u001b[1;33m \u001b[0mf\u001b[0m \u001b[1;33m=\u001b[0m \u001b[1;33m(\u001b[0m\u001b[0msemi_times\u001b[0m \u001b[1;33m-\u001b[0m \u001b[0mfinal_times\u001b[0m\u001b[1;33m)\u001b[0m \u001b[1;33m/\u001b[0m \u001b[0msemi_times\u001b[0m\u001b[1;33m\u001b[0m\u001b[0m\n\u001b[0m\u001b[0;32m      3\u001b[0m \u001b[1;33m\u001b[0m\u001b[0m\n\u001b[0;32m      4\u001b[0m \u001b[1;31m# Generate x and y values for the ECDF: x, y\u001b[0m\u001b[1;33m\u001b[0m\u001b[1;33m\u001b[0m\u001b[0m\n\u001b[0;32m      5\u001b[0m \u001b[0mx\u001b[0m\u001b[1;33m,\u001b[0m \u001b[0my\u001b[0m \u001b[1;33m=\u001b[0m \u001b[0mdcst\u001b[0m\u001b[1;33m.\u001b[0m\u001b[0mecdf\u001b[0m\u001b[1;33m(\u001b[0m\u001b[0mf\u001b[0m\u001b[1;33m)\u001b[0m\u001b[1;33m\u001b[0m\u001b[0m\n",
      "\u001b[1;31mNameError\u001b[0m: name 'semi_times' is not defined"
     ]
    }
   ],
   "source": [
    "# Compute fractional difference in time between finals and semis\n",
    "f = (semi_times - final_times) / semi_times\n",
    "\n",
    "# Generate x and y values for the ECDF: x, y\n",
    "x, y = dcst.ecdf(f)\n",
    "\n",
    "# Make a plot of the ECDF\n",
    "_ = plt.plot(x, y, marker='.', linestyle='none')\n",
    "\n",
    "# Label axes and show plot\n",
    "_ = plt.xlabel('f')\n",
    "_ = plt.ylabel('ECDF')\n",
    "plt.show()\n"
   ]
  },
  {
   "cell_type": "code",
   "execution_count": 14,
   "metadata": {},
   "outputs": [
    {
     "ename": "NameError",
     "evalue": "name 'f' is not defined",
     "output_type": "error",
     "traceback": [
      "\u001b[1;31m---------------------------------------------------------------------------\u001b[0m",
      "\u001b[1;31mNameError\u001b[0m                                 Traceback (most recent call last)",
      "\u001b[1;32m<ipython-input-14-afadd6c657b5>\u001b[0m in \u001b[0;36m<module>\u001b[1;34m()\u001b[0m\n\u001b[0;32m      1\u001b[0m \u001b[1;31m# Mean fractional time difference: f_mean\u001b[0m\u001b[1;33m\u001b[0m\u001b[1;33m\u001b[0m\u001b[0m\n\u001b[1;32m----> 2\u001b[1;33m \u001b[0mf_mean\u001b[0m \u001b[1;33m=\u001b[0m \u001b[0mnp\u001b[0m\u001b[1;33m.\u001b[0m\u001b[0mmean\u001b[0m\u001b[1;33m(\u001b[0m\u001b[0mf\u001b[0m\u001b[1;33m)\u001b[0m\u001b[1;33m\u001b[0m\u001b[0m\n\u001b[0m\u001b[0;32m      3\u001b[0m \u001b[1;33m\u001b[0m\u001b[0m\n\u001b[0;32m      4\u001b[0m \u001b[1;31m# Get bootstrap reps of mean: bs_reps\u001b[0m\u001b[1;33m\u001b[0m\u001b[1;33m\u001b[0m\u001b[0m\n\u001b[0;32m      5\u001b[0m \u001b[0mbs_reps\u001b[0m \u001b[1;33m=\u001b[0m \u001b[0mdcst\u001b[0m\u001b[1;33m.\u001b[0m\u001b[0mdraw_bs_reps\u001b[0m\u001b[1;33m(\u001b[0m\u001b[0mf\u001b[0m\u001b[1;33m,\u001b[0m \u001b[0mnp\u001b[0m\u001b[1;33m.\u001b[0m\u001b[0mmean\u001b[0m\u001b[1;33m,\u001b[0m \u001b[0msize\u001b[0m\u001b[1;33m=\u001b[0m\u001b[1;36m10000\u001b[0m\u001b[1;33m)\u001b[0m\u001b[1;33m\u001b[0m\u001b[0m\n",
      "\u001b[1;31mNameError\u001b[0m: name 'f' is not defined"
     ]
    }
   ],
   "source": [
    "# Mean fractional time difference: f_mean\n",
    "f_mean = np.mean(f)\n",
    "\n",
    "# Get bootstrap reps of mean: bs_reps\n",
    "bs_reps = dcst.draw_bs_reps(f, np.mean, size=10000)\n",
    "\n",
    "# Compute confidence intervals: conf_int\n",
    "conf_int = np.percentile(bs_reps, [2.5, 97.5])\n",
    "\n",
    "# Report\n",
    "print(\"\"\"\n",
    "mean frac. diff.: {0:.5f}\n",
    "95% conf int of mean frac. diff.: [{1:.5f}, {2:.5f}]\"\"\".format(f_mean, *conf_int))\n"
   ]
  },
  {
   "cell_type": "markdown",
   "metadata": {},
   "source": [
    "## How to do the permutation test\n",
    "50xp\n",
    "Based on our EDA and parameter estimates, it is tough to discern improvement from the semifinals to finals. In the next exercise, you will test the hypothesis that there is no difference in performance between the semifinals and finals. A permutation test is fitting for this. We will use the mean value of f as the test statistic. Which of the following simulates getting the test statistic under the null hypothesis?\n",
    "\n",
    "Strategy 1\n",
    "Take an array of semifinal times and an array of final times for each swimmer for each stroke/distance pair.\n",
    "Go through each array, and for each index, swap the entry in the respective final and semifinal array with a 50% probability.\n",
    "Use the resulting final and semifinal arrays to compute f and then the mean of f.\n",
    "Strategy 2\n",
    "Take an array of semifinal times and an array of final times for each swimmer for each stroke/distance pair and concatenate them, giving a total of 96 entries.\n",
    "Scramble the concatenated array using the np.permutation() function. Assign the first 48 entries in the scrambled array to be \"semifinal\" and the last 48 entries to be \"final.\"\n",
    "Compute f from these new semifinal and final arrays, and then compute the mean of f.\n",
    "Strategy 3\n",
    "Take the array f we used in the last exercise.\n",
    "Multiply each entry of f by either 1 or -1 with equal probability.\n",
    "Compute the mean of this new array to get the test statistic.\n",
    "Strategy 4\n",
    "Define a function with signature compute_f(semi_times, final_times) to compute f from inputted swim time arrays.\n",
    "Draw a permutation replicate using dcst.draw_perm_reps(semi_times, final_times, compute_f)."
   ]
  },
  {
   "cell_type": "code",
   "execution_count": 15,
   "metadata": {
    "collapsed": true
   },
   "outputs": [],
   "source": [
    "def swap_random(a, b):\n",
    "    \"\"\"Randomly swap entries in two arrays.\"\"\"\n",
    "    # Indices to swap\n",
    "    swap_inds = np.random.random(size=len(a)) < 0.5\n",
    "    \n",
    "    # Make copies of arrays a and b for output\n",
    "    a_out = np.copy(a)\n",
    "    b_out = np.copy(b)\n",
    "    \n",
    "    # Swap values\n",
    "    a_out[swap_inds] = b[swap_inds]\n",
    "    b_out[swap_inds] = a[swap_inds]\n",
    "\n",
    "    return a_out, b_out"
   ]
  },
  {
   "cell_type": "code",
   "execution_count": 16,
   "metadata": {},
   "outputs": [
    {
     "ename": "NameError",
     "evalue": "name 'semi_times' is not defined",
     "output_type": "error",
     "traceback": [
      "\u001b[1;31m---------------------------------------------------------------------------\u001b[0m",
      "\u001b[1;31mNameError\u001b[0m                                 Traceback (most recent call last)",
      "\u001b[1;32m<ipython-input-16-d74d25928982>\u001b[0m in \u001b[0;36m<module>\u001b[1;34m()\u001b[0m\n\u001b[0;32m      4\u001b[0m \u001b[1;32mfor\u001b[0m \u001b[0mi\u001b[0m \u001b[1;32min\u001b[0m \u001b[0mrange\u001b[0m\u001b[1;33m(\u001b[0m\u001b[1;36m1000\u001b[0m\u001b[1;33m)\u001b[0m\u001b[1;33m:\u001b[0m\u001b[1;33m\u001b[0m\u001b[0m\n\u001b[0;32m      5\u001b[0m     \u001b[1;31m# Generate a permutation sample\u001b[0m\u001b[1;33m\u001b[0m\u001b[1;33m\u001b[0m\u001b[0m\n\u001b[1;32m----> 6\u001b[1;33m     \u001b[0msemi_perm\u001b[0m\u001b[1;33m,\u001b[0m \u001b[0mfinal_perm\u001b[0m \u001b[1;33m=\u001b[0m \u001b[0mswap_random\u001b[0m\u001b[1;33m(\u001b[0m\u001b[0msemi_times\u001b[0m\u001b[1;33m,\u001b[0m \u001b[0mfinal_times\u001b[0m\u001b[1;33m)\u001b[0m\u001b[1;33m\u001b[0m\u001b[0m\n\u001b[0m\u001b[0;32m      7\u001b[0m \u001b[1;33m\u001b[0m\u001b[0m\n\u001b[0;32m      8\u001b[0m     \u001b[1;31m# Compute f from the permutation sample\u001b[0m\u001b[1;33m\u001b[0m\u001b[1;33m\u001b[0m\u001b[0m\n",
      "\u001b[1;31mNameError\u001b[0m: name 'semi_times' is not defined"
     ]
    }
   ],
   "source": [
    "# Set up array of permutation replicates\n",
    "perm_reps = np.empty(1000)\n",
    "\n",
    "for i in range(1000):\n",
    "    # Generate a permutation sample\n",
    "    semi_perm, final_perm = swap_random(semi_times, final_times)\n",
    "    \n",
    "    # Compute f from the permutation sample\n",
    "    f = (semi_perm - final_perm) / semi_perm\n",
    "    \n",
    "    # Compute and store permutation replicate\n",
    "    perm_reps[i] = np.mean(f)\n",
    "\n",
    "# Compute and print p-value\n",
    "print('p =', np.sum(perm_reps >= f_mean) / 1000)"
   ]
  },
  {
   "cell_type": "code",
   "execution_count": 17,
   "metadata": {},
   "outputs": [
    {
     "ename": "NameError",
     "evalue": "name 'splits' is not defined",
     "output_type": "error",
     "traceback": [
      "\u001b[1;31m---------------------------------------------------------------------------\u001b[0m",
      "\u001b[1;31mNameError\u001b[0m                                 Traceback (most recent call last)",
      "\u001b[1;32m<ipython-input-17-ddd8a51b7781>\u001b[0m in \u001b[0;36m<module>\u001b[1;34m()\u001b[0m\n\u001b[0;32m      1\u001b[0m \u001b[1;31m# Plot the splits for each swimmer\u001b[0m\u001b[1;33m\u001b[0m\u001b[1;33m\u001b[0m\u001b[0m\n\u001b[1;32m----> 2\u001b[1;33m \u001b[1;32mfor\u001b[0m \u001b[0msplitset\u001b[0m \u001b[1;32min\u001b[0m \u001b[0msplits\u001b[0m\u001b[1;33m:\u001b[0m\u001b[1;33m\u001b[0m\u001b[0m\n\u001b[0m\u001b[0;32m      3\u001b[0m     \u001b[0m_\u001b[0m \u001b[1;33m=\u001b[0m \u001b[0mplt\u001b[0m\u001b[1;33m.\u001b[0m\u001b[0mplot\u001b[0m\u001b[1;33m(\u001b[0m\u001b[0msplit_number\u001b[0m\u001b[1;33m,\u001b[0m \u001b[0msplitset\u001b[0m\u001b[1;33m,\u001b[0m \u001b[0mlinewidth\u001b[0m\u001b[1;33m=\u001b[0m\u001b[1;36m1\u001b[0m\u001b[1;33m,\u001b[0m \u001b[0mcolor\u001b[0m\u001b[1;33m=\u001b[0m\u001b[1;34m'lightgray'\u001b[0m\u001b[1;33m)\u001b[0m\u001b[1;33m\u001b[0m\u001b[0m\n\u001b[0;32m      4\u001b[0m \u001b[1;33m\u001b[0m\u001b[0m\n\u001b[0;32m      5\u001b[0m \u001b[1;31m# Compute the mean split times\u001b[0m\u001b[1;33m\u001b[0m\u001b[1;33m\u001b[0m\u001b[0m\n",
      "\u001b[1;31mNameError\u001b[0m: name 'splits' is not defined"
     ]
    }
   ],
   "source": [
    "# Plot the splits for each swimmer\n",
    "for splitset in splits:\n",
    "    _ = plt.plot(split_number, splitset, linewidth=1, color='lightgray')\n",
    "\n",
    "# Compute the mean split times\n",
    "mean_splits = np.mean(splits, axis=0)\n",
    "\n",
    "# Plot the mean split times\n",
    "_ = plt.plot(split_number, mean_splits, marker='.', linewidth=3, markersize=12)\n",
    "\n",
    "# Label axes and show plot\n",
    "_ = plt.xlabel('split number')\n",
    "_ = plt.ylabel('split time (s)')\n",
    "plt.show()"
   ]
  },
  {
   "cell_type": "code",
   "execution_count": 18,
   "metadata": {},
   "outputs": [
    {
     "ename": "NameError",
     "evalue": "name 'split_number' is not defined",
     "output_type": "error",
     "traceback": [
      "\u001b[1;31m---------------------------------------------------------------------------\u001b[0m",
      "\u001b[1;31mNameError\u001b[0m                                 Traceback (most recent call last)",
      "\u001b[1;32m<ipython-input-18-624344cc328a>\u001b[0m in \u001b[0;36m<module>\u001b[1;34m()\u001b[0m\n\u001b[0;32m      1\u001b[0m \u001b[1;31m# Perform regression\u001b[0m\u001b[1;33m\u001b[0m\u001b[1;33m\u001b[0m\u001b[0m\n\u001b[1;32m----> 2\u001b[1;33m \u001b[0mslowdown\u001b[0m\u001b[1;33m,\u001b[0m \u001b[0msplit_3\u001b[0m \u001b[1;33m=\u001b[0m \u001b[0mnp\u001b[0m\u001b[1;33m.\u001b[0m\u001b[0mpolyfit\u001b[0m\u001b[1;33m(\u001b[0m\u001b[0msplit_number\u001b[0m\u001b[1;33m,\u001b[0m \u001b[0mmean_splits\u001b[0m\u001b[1;33m,\u001b[0m \u001b[1;36m1\u001b[0m\u001b[1;33m)\u001b[0m\u001b[1;33m\u001b[0m\u001b[0m\n\u001b[0m\u001b[0;32m      3\u001b[0m \u001b[1;33m\u001b[0m\u001b[0m\n\u001b[0;32m      4\u001b[0m \u001b[1;31m# Compute pairs bootstrap\u001b[0m\u001b[1;33m\u001b[0m\u001b[1;33m\u001b[0m\u001b[0m\n\u001b[0;32m      5\u001b[0m \u001b[0mbs_reps\u001b[0m\u001b[1;33m,\u001b[0m \u001b[0m_\u001b[0m \u001b[1;33m=\u001b[0m \u001b[0mdcst\u001b[0m\u001b[1;33m.\u001b[0m\u001b[0mdraw_bs_pairs_linreg\u001b[0m\u001b[1;33m(\u001b[0m\u001b[0msplit_number\u001b[0m\u001b[1;33m,\u001b[0m \u001b[0mmean_splits\u001b[0m\u001b[1;33m,\u001b[0m \u001b[0msize\u001b[0m\u001b[1;33m=\u001b[0m\u001b[1;36m10000\u001b[0m\u001b[1;33m)\u001b[0m\u001b[1;33m\u001b[0m\u001b[0m\n",
      "\u001b[1;31mNameError\u001b[0m: name 'split_number' is not defined"
     ]
    }
   ],
   "source": [
    "# Perform regression\n",
    "slowdown, split_3 = np.polyfit(split_number, mean_splits, 1)\n",
    "\n",
    "# Compute pairs bootstrap\n",
    "bs_reps, _ = dcst.draw_bs_pairs_linreg(split_number, mean_splits, size=10000)\n",
    "\n",
    "# Compute confidence interval\n",
    "conf_int = np.percentile(bs_reps, [2.5, 97.5])\n",
    "\n",
    "# Plot the data with regressions line\n",
    "_ = plt.plot(split_number, mean_splits, marker='.', linestyle='none')\n",
    "_ = plt.plot(split_number, slowdown * split_number + split_3, '-')\n",
    "\n",
    "# Label axes and show plot\n",
    "_ = plt.xlabel('split number')\n",
    "_ = plt.ylabel('split time (s)')\n",
    "plt.show()\n",
    "\n",
    "# Print the slowdown per split\n",
    "print(\"\"\"\n",
    "mean slowdown: {0:.3f} sec./split\n",
    "95% conf int of mean slowdown: [{1:.3f}, {2:.3f}] sec./split\"\"\".format(\n",
    "    slowdown, *conf_int))\n"
   ]
  },
  {
   "cell_type": "code",
   "execution_count": 19,
   "metadata": {},
   "outputs": [
    {
     "ename": "NameError",
     "evalue": "name 'dcst' is not defined",
     "output_type": "error",
     "traceback": [
      "\u001b[1;31m---------------------------------------------------------------------------\u001b[0m",
      "\u001b[1;31mNameError\u001b[0m                                 Traceback (most recent call last)",
      "\u001b[1;32m<ipython-input-19-5672e380e2e3>\u001b[0m in \u001b[0;36m<module>\u001b[1;34m()\u001b[0m\n\u001b[0;32m      1\u001b[0m \u001b[1;31m# Observed correlation\u001b[0m\u001b[1;33m\u001b[0m\u001b[1;33m\u001b[0m\u001b[0m\n\u001b[1;32m----> 2\u001b[1;33m \u001b[0mrho\u001b[0m \u001b[1;33m=\u001b[0m \u001b[0mdcst\u001b[0m\u001b[1;33m.\u001b[0m\u001b[0mpearson_r\u001b[0m\u001b[1;33m(\u001b[0m\u001b[0msplit_number\u001b[0m\u001b[1;33m,\u001b[0m \u001b[0mmean_splits\u001b[0m\u001b[1;33m)\u001b[0m\u001b[1;33m\u001b[0m\u001b[0m\n\u001b[0m\u001b[0;32m      3\u001b[0m \u001b[1;33m\u001b[0m\u001b[0m\n\u001b[0;32m      4\u001b[0m \u001b[1;31m# Initialize permutation reps\u001b[0m\u001b[1;33m\u001b[0m\u001b[1;33m\u001b[0m\u001b[0m\n\u001b[0;32m      5\u001b[0m \u001b[0mperm_reps_rho\u001b[0m \u001b[1;33m=\u001b[0m \u001b[0mnp\u001b[0m\u001b[1;33m.\u001b[0m\u001b[0mempty\u001b[0m\u001b[1;33m(\u001b[0m\u001b[1;36m10000\u001b[0m\u001b[1;33m)\u001b[0m\u001b[1;33m\u001b[0m\u001b[0m\n",
      "\u001b[1;31mNameError\u001b[0m: name 'dcst' is not defined"
     ]
    }
   ],
   "source": [
    "# Observed correlation\n",
    "rho = dcst.pearson_r(split_number, mean_splits)\n",
    "\n",
    "# Initialize permutation reps\n",
    "perm_reps_rho = np.empty(10000)\n",
    "\n",
    "# Make permutation reps\n",
    "for i in range(10000):\n",
    "    # Scramble the split number array\n",
    "    scrambled_split_number = np.random.permutation(split_number)\n",
    "    \n",
    "    # Compute the Person correlation coefficient\n",
    "    perm_reps_rho[i] = dcst.pearson_r(scrambled_split_number, mean_splits)\n",
    "    \n",
    "# Compute and print p-value\n",
    "p_val = np.sum(perm_reps_rho >= rho) / 10000\n",
    "print('p =', p_val)"
   ]
  },
  {
   "cell_type": "markdown",
   "metadata": {},
   "source": [
    "# The \"Current Controversy\" of the 2013 World Championships"
   ]
  },
  {
   "cell_type": "markdown",
   "metadata": {},
   "source": [
    "## A metric for improvement\n",
    "50xp\n",
    "In your first analysis, you will investigate how times of swimmers in 50 m events change as they move between low numbered lanes (1-3) to high numbered lanes (6-8) in the semifinals and finals. We showed in the previous chapter that there is little difference between semifinal and final performance, so you will neglect any differences due to it being the final versus the semifinal.\n",
    "\n",
    "You want to use as much data as you can, so use all four strokes for both the men's and women's competitions. As such, what would be a good metric for improvement from one round to the next for an individual swimmer, where ta is the swim time in a low numbered lane and tb is the swim time in a high numbered lane?"
   ]
  },
  {
   "cell_type": "code",
   "execution_count": 20,
   "metadata": {},
   "outputs": [
    {
     "ename": "NameError",
     "evalue": "name 'swimtime_low_lanes' is not defined",
     "output_type": "error",
     "traceback": [
      "\u001b[1;31m---------------------------------------------------------------------------\u001b[0m",
      "\u001b[1;31mNameError\u001b[0m                                 Traceback (most recent call last)",
      "\u001b[1;32m<ipython-input-20-0c53986b1c46>\u001b[0m in \u001b[0;36m<module>\u001b[1;34m()\u001b[0m\n\u001b[0;32m      1\u001b[0m \u001b[1;31m# Compute the fractional improvement of being in high lane: f\u001b[0m\u001b[1;33m\u001b[0m\u001b[1;33m\u001b[0m\u001b[0m\n\u001b[1;32m----> 2\u001b[1;33m \u001b[0mf\u001b[0m \u001b[1;33m=\u001b[0m \u001b[1;33m(\u001b[0m\u001b[0mswimtime_low_lanes\u001b[0m \u001b[1;33m-\u001b[0m \u001b[0mswimtime_high_lanes\u001b[0m\u001b[1;33m)\u001b[0m \u001b[1;33m/\u001b[0m \u001b[0mswimtime_low_lanes\u001b[0m\u001b[1;33m\u001b[0m\u001b[0m\n\u001b[0m\u001b[0;32m      3\u001b[0m \u001b[1;33m\u001b[0m\u001b[0m\n\u001b[0;32m      4\u001b[0m \u001b[1;31m# Make x and y values for ECDF: x, y\u001b[0m\u001b[1;33m\u001b[0m\u001b[1;33m\u001b[0m\u001b[0m\n\u001b[0;32m      5\u001b[0m \u001b[0mx\u001b[0m\u001b[1;33m,\u001b[0m \u001b[0my\u001b[0m \u001b[1;33m=\u001b[0m \u001b[0mdcst\u001b[0m\u001b[1;33m.\u001b[0m\u001b[0mecdf\u001b[0m\u001b[1;33m(\u001b[0m\u001b[0mf\u001b[0m\u001b[1;33m)\u001b[0m\u001b[1;33m\u001b[0m\u001b[0m\n",
      "\u001b[1;31mNameError\u001b[0m: name 'swimtime_low_lanes' is not defined"
     ]
    }
   ],
   "source": [
    "# Compute the fractional improvement of being in high lane: f\n",
    "f = (swimtime_low_lanes - swimtime_high_lanes) / swimtime_low_lanes\n",
    "\n",
    "# Make x and y values for ECDF: x, y\n",
    "x, y = dcst.ecdf(f)\n",
    "\n",
    "# Plot the ECDFs as dots\n",
    "_ = plt.plot(x, y, marker='.', linestyle='none')\n",
    "\n",
    "# Label the axes and show the plot\n",
    "_ = plt.xlabel('f')\n",
    "_ = plt.ylabel('ECDF')\n",
    "plt.show()"
   ]
  },
  {
   "cell_type": "code",
   "execution_count": 21,
   "metadata": {},
   "outputs": [
    {
     "ename": "NameError",
     "evalue": "name 'f' is not defined",
     "output_type": "error",
     "traceback": [
      "\u001b[1;31m---------------------------------------------------------------------------\u001b[0m",
      "\u001b[1;31mNameError\u001b[0m                                 Traceback (most recent call last)",
      "\u001b[1;32m<ipython-input-21-329a7fc4e152>\u001b[0m in \u001b[0;36m<module>\u001b[1;34m()\u001b[0m\n\u001b[0;32m      1\u001b[0m \u001b[1;31m# Compute the mean difference: f_mean\u001b[0m\u001b[1;33m\u001b[0m\u001b[1;33m\u001b[0m\u001b[0m\n\u001b[1;32m----> 2\u001b[1;33m \u001b[0mf_mean\u001b[0m \u001b[1;33m=\u001b[0m \u001b[0mnp\u001b[0m\u001b[1;33m.\u001b[0m\u001b[0mmean\u001b[0m\u001b[1;33m(\u001b[0m\u001b[0mf\u001b[0m\u001b[1;33m)\u001b[0m\u001b[1;33m\u001b[0m\u001b[0m\n\u001b[0m\u001b[0;32m      3\u001b[0m \u001b[1;33m\u001b[0m\u001b[0m\n\u001b[0;32m      4\u001b[0m \u001b[1;31m# Draw 10,000 bootstrap replicates: bs_reps\u001b[0m\u001b[1;33m\u001b[0m\u001b[1;33m\u001b[0m\u001b[0m\n\u001b[0;32m      5\u001b[0m \u001b[0mbs_reps\u001b[0m \u001b[1;33m=\u001b[0m \u001b[0mdcst\u001b[0m\u001b[1;33m.\u001b[0m\u001b[0mdraw_bs_reps\u001b[0m\u001b[1;33m(\u001b[0m\u001b[0mf\u001b[0m\u001b[1;33m,\u001b[0m \u001b[0mnp\u001b[0m\u001b[1;33m.\u001b[0m\u001b[0mmean\u001b[0m\u001b[1;33m,\u001b[0m \u001b[0msize\u001b[0m\u001b[1;33m=\u001b[0m\u001b[1;36m10000\u001b[0m\u001b[1;33m)\u001b[0m\u001b[1;33m\u001b[0m\u001b[0m\n",
      "\u001b[1;31mNameError\u001b[0m: name 'f' is not defined"
     ]
    }
   ],
   "source": [
    "# Compute the mean difference: f_mean\n",
    "f_mean = np.mean(f)\n",
    "\n",
    "# Draw 10,000 bootstrap replicates: bs_reps\n",
    "bs_reps = dcst.draw_bs_reps(f, np.mean, size=10000)\n",
    "\n",
    "# Compute 95% confidence interval: conf_int\n",
    "conf_int = np.percentile(bs_reps, [2.5, 97.5])\n",
    "\n",
    "# Print the result\n",
    "print(\"\"\"\n",
    "mean frac. diff.: {0:.5f}\n",
    "95% conf int of mean frac. diff.: [{1:.5f}, {2:.5f}]\"\"\".format(f_mean, *conf_int))"
   ]
  },
  {
   "cell_type": "code",
   "execution_count": 22,
   "metadata": {},
   "outputs": [
    {
     "ename": "NameError",
     "evalue": "name 'f' is not defined",
     "output_type": "error",
     "traceback": [
      "\u001b[1;31m---------------------------------------------------------------------------\u001b[0m",
      "\u001b[1;31mNameError\u001b[0m                                 Traceback (most recent call last)",
      "\u001b[1;32m<ipython-input-22-a81edde93a4e>\u001b[0m in \u001b[0;36m<module>\u001b[1;34m()\u001b[0m\n\u001b[0;32m      1\u001b[0m \u001b[1;31m# Shift f: f_shift\u001b[0m\u001b[1;33m\u001b[0m\u001b[1;33m\u001b[0m\u001b[0m\n\u001b[1;32m----> 2\u001b[1;33m \u001b[0mf_shift\u001b[0m \u001b[1;33m=\u001b[0m \u001b[0mf\u001b[0m \u001b[1;33m-\u001b[0m \u001b[0mf_mean\u001b[0m\u001b[1;33m\u001b[0m\u001b[0m\n\u001b[0m\u001b[0;32m      3\u001b[0m \u001b[1;33m\u001b[0m\u001b[0m\n\u001b[0;32m      4\u001b[0m \u001b[1;31m# Draw 100,000 bootstrap replicates of the mean: bs_reps\u001b[0m\u001b[1;33m\u001b[0m\u001b[1;33m\u001b[0m\u001b[0m\n\u001b[0;32m      5\u001b[0m \u001b[0mbs_reps\u001b[0m \u001b[1;33m=\u001b[0m \u001b[0mdcst\u001b[0m\u001b[1;33m.\u001b[0m\u001b[0mdraw_bs_reps\u001b[0m\u001b[1;33m(\u001b[0m\u001b[0mf_shift\u001b[0m\u001b[1;33m,\u001b[0m \u001b[0mnp\u001b[0m\u001b[1;33m.\u001b[0m\u001b[0mmean\u001b[0m\u001b[1;33m,\u001b[0m \u001b[0msize\u001b[0m\u001b[1;33m=\u001b[0m\u001b[1;36m100000\u001b[0m\u001b[1;33m)\u001b[0m\u001b[1;33m\u001b[0m\u001b[0m\n",
      "\u001b[1;31mNameError\u001b[0m: name 'f' is not defined"
     ]
    }
   ],
   "source": [
    "# Shift f: f_shift\n",
    "f_shift = f - f_mean\n",
    "\n",
    "# Draw 100,000 bootstrap replicates of the mean: bs_reps\n",
    "bs_reps = dcst.draw_bs_reps(f_shift, np.mean, size=100000)\n",
    "\n",
    "# Compute and report the p-value\n",
    "p_val = np.sum(bs_reps >= f_mean) / 100000\n",
    "print('p =', p_val)"
   ]
  },
  {
   "cell_type": "code",
   "execution_count": 23,
   "metadata": {},
   "outputs": [
    {
     "ename": "NameError",
     "evalue": "name 'swimtime_low_lanes_15' is not defined",
     "output_type": "error",
     "traceback": [
      "\u001b[1;31m---------------------------------------------------------------------------\u001b[0m",
      "\u001b[1;31mNameError\u001b[0m                                 Traceback (most recent call last)",
      "\u001b[1;32m<ipython-input-23-acb5836d2994>\u001b[0m in \u001b[0;36m<module>\u001b[1;34m()\u001b[0m\n\u001b[0;32m      1\u001b[0m \u001b[1;31m# Compute f and its mean\u001b[0m\u001b[1;33m\u001b[0m\u001b[1;33m\u001b[0m\u001b[0m\n\u001b[1;32m----> 2\u001b[1;33m \u001b[0mf\u001b[0m \u001b[1;33m=\u001b[0m \u001b[1;33m(\u001b[0m\u001b[0mswimtime_low_lanes_15\u001b[0m \u001b[1;33m-\u001b[0m \u001b[0mswimtime_high_lanes_15\u001b[0m\u001b[1;33m)\u001b[0m \u001b[1;33m/\u001b[0m \u001b[0mswimtime_low_lanes_15\u001b[0m\u001b[1;33m\u001b[0m\u001b[0m\n\u001b[0m\u001b[0;32m      3\u001b[0m \u001b[0mf_mean\u001b[0m \u001b[1;33m=\u001b[0m \u001b[0mnp\u001b[0m\u001b[1;33m.\u001b[0m\u001b[0mmean\u001b[0m\u001b[1;33m(\u001b[0m\u001b[0mf\u001b[0m\u001b[1;33m)\u001b[0m\u001b[1;33m\u001b[0m\u001b[0m\n\u001b[0;32m      4\u001b[0m \u001b[1;33m\u001b[0m\u001b[0m\n\u001b[0;32m      5\u001b[0m \u001b[1;31m# Draw 10,000 bootstrap replicates\u001b[0m\u001b[1;33m\u001b[0m\u001b[1;33m\u001b[0m\u001b[0m\n",
      "\u001b[1;31mNameError\u001b[0m: name 'swimtime_low_lanes_15' is not defined"
     ]
    }
   ],
   "source": [
    "# Compute f and its mean\n",
    "f = (swimtime_low_lanes_15 - swimtime_high_lanes_15) / swimtime_low_lanes_15\n",
    "f_mean = np.mean(f)\n",
    "\n",
    "# Draw 10,000 bootstrap replicates\n",
    "bs_reps = dcst.draw_bs_reps(f, np.mean, size=10000)\n",
    "\n",
    "# Compute 95% confidence interval\n",
    "conf_int = np.percentile(bs_reps, [2.5, 97.5])\n",
    "\n",
    "# Shift f\n",
    "f_shift = f - f_mean\n",
    "\n",
    "# Draw 100,000 bootstrap replicates of the mean\n",
    "bs_reps = dcst.draw_bs_reps(f_shift, np.mean, size=100000)\n",
    "\n",
    "# Compute the p-value\n",
    "p_val = np.sum(bs_reps >= f_mean) / 100000\n",
    "\n",
    "# Print the results\n",
    "print(\"\"\"\n",
    "mean frac. diff.: {0:.5f}\n",
    "95% conf int of mean frac. diff.: [{1:.5f}, {2:.5f}]\n",
    "p-value: {3:.5f}\"\"\".format(f_mean, *conf_int,p_val))"
   ]
  },
  {
   "cell_type": "code",
   "execution_count": 24,
   "metadata": {},
   "outputs": [
    {
     "ename": "NameError",
     "evalue": "name 'lanes' is not defined",
     "output_type": "error",
     "traceback": [
      "\u001b[1;31m---------------------------------------------------------------------------\u001b[0m",
      "\u001b[1;31mNameError\u001b[0m                                 Traceback (most recent call last)",
      "\u001b[1;32m<ipython-input-24-fc09634fcf63>\u001b[0m in \u001b[0;36m<module>\u001b[1;34m()\u001b[0m\n\u001b[0;32m      1\u001b[0m \u001b[1;31m# Plot the the fractional difference for 2013 and 2015\u001b[0m\u001b[1;33m\u001b[0m\u001b[1;33m\u001b[0m\u001b[0m\n\u001b[1;32m----> 2\u001b[1;33m \u001b[0m_\u001b[0m \u001b[1;33m=\u001b[0m \u001b[0mplt\u001b[0m\u001b[1;33m.\u001b[0m\u001b[0mplot\u001b[0m\u001b[1;33m(\u001b[0m\u001b[0mlanes\u001b[0m\u001b[1;33m,\u001b[0m \u001b[0mf_13\u001b[0m\u001b[1;33m,\u001b[0m \u001b[0mmarker\u001b[0m\u001b[1;33m=\u001b[0m\u001b[1;34m'.'\u001b[0m\u001b[1;33m,\u001b[0m \u001b[0mmarkersize\u001b[0m\u001b[1;33m=\u001b[0m\u001b[1;36m12\u001b[0m\u001b[1;33m,\u001b[0m \u001b[0mlinestyle\u001b[0m\u001b[1;33m=\u001b[0m\u001b[1;34m'none'\u001b[0m\u001b[1;33m)\u001b[0m\u001b[1;33m\u001b[0m\u001b[0m\n\u001b[0m\u001b[0;32m      3\u001b[0m \u001b[0m_\u001b[0m \u001b[1;33m=\u001b[0m \u001b[0mplt\u001b[0m\u001b[1;33m.\u001b[0m\u001b[0mplot\u001b[0m\u001b[1;33m(\u001b[0m\u001b[0mlanes\u001b[0m\u001b[1;33m,\u001b[0m \u001b[0mf_15\u001b[0m\u001b[1;33m,\u001b[0m \u001b[0mmarker\u001b[0m\u001b[1;33m=\u001b[0m\u001b[1;34m'.'\u001b[0m\u001b[1;33m,\u001b[0m \u001b[0mmarkersize\u001b[0m\u001b[1;33m=\u001b[0m\u001b[1;36m12\u001b[0m\u001b[1;33m,\u001b[0m \u001b[0mlinestyle\u001b[0m\u001b[1;33m=\u001b[0m\u001b[1;34m'none'\u001b[0m\u001b[1;33m)\u001b[0m\u001b[1;33m\u001b[0m\u001b[0m\n\u001b[0;32m      4\u001b[0m \u001b[1;33m\u001b[0m\u001b[0m\n\u001b[0;32m      5\u001b[0m \u001b[1;31m# Add a legend\u001b[0m\u001b[1;33m\u001b[0m\u001b[1;33m\u001b[0m\u001b[0m\n",
      "\u001b[1;31mNameError\u001b[0m: name 'lanes' is not defined"
     ]
    }
   ],
   "source": [
    "# Plot the the fractional difference for 2013 and 2015\n",
    "_ = plt.plot(lanes, f_13, marker='.', markersize=12, linestyle='none')\n",
    "_ = plt.plot(lanes, f_15, marker='.', markersize=12, linestyle='none')\n",
    "\n",
    "# Add a legend\n",
    "_ = plt.legend((2013, 2015))\n",
    "\n",
    "# Label axes and show plot\n",
    "_ = plt.xlabel('lane')\n",
    "_ = plt.ylabel('frac. diff. (odd - even)')\n",
    "plt.show()"
   ]
  },
  {
   "cell_type": "code",
   "execution_count": 25,
   "metadata": {},
   "outputs": [
    {
     "ename": "NameError",
     "evalue": "name 'lanes' is not defined",
     "output_type": "error",
     "traceback": [
      "\u001b[1;31m---------------------------------------------------------------------------\u001b[0m",
      "\u001b[1;31mNameError\u001b[0m                                 Traceback (most recent call last)",
      "\u001b[1;32m<ipython-input-25-1c1ed5a5f1d4>\u001b[0m in \u001b[0;36m<module>\u001b[1;34m()\u001b[0m\n\u001b[0;32m      1\u001b[0m \u001b[1;31m# Compute the slope and intercept of the frac diff/lane curve\u001b[0m\u001b[1;33m\u001b[0m\u001b[1;33m\u001b[0m\u001b[0m\n\u001b[1;32m----> 2\u001b[1;33m \u001b[0mslope\u001b[0m\u001b[1;33m,\u001b[0m \u001b[0mintercept\u001b[0m \u001b[1;33m=\u001b[0m \u001b[0mnp\u001b[0m\u001b[1;33m.\u001b[0m\u001b[0mpolyfit\u001b[0m\u001b[1;33m(\u001b[0m\u001b[0mlanes\u001b[0m\u001b[1;33m,\u001b[0m \u001b[0mf_13\u001b[0m\u001b[1;33m,\u001b[0m \u001b[1;36m1\u001b[0m\u001b[1;33m)\u001b[0m\u001b[1;33m\u001b[0m\u001b[0m\n\u001b[0m\u001b[0;32m      3\u001b[0m \u001b[1;33m\u001b[0m\u001b[0m\n\u001b[0;32m      4\u001b[0m \u001b[1;31m# Compute bootstrap replicates\u001b[0m\u001b[1;33m\u001b[0m\u001b[1;33m\u001b[0m\u001b[0m\n\u001b[0;32m      5\u001b[0m \u001b[0mbs_reps_slope\u001b[0m\u001b[1;33m,\u001b[0m \u001b[0mbs_reps_int\u001b[0m \u001b[1;33m=\u001b[0m \u001b[0mdcst\u001b[0m\u001b[1;33m.\u001b[0m\u001b[0mdraw_bs_pairs_linreg\u001b[0m\u001b[1;33m(\u001b[0m\u001b[0mlanes\u001b[0m\u001b[1;33m,\u001b[0m \u001b[0mf_13\u001b[0m\u001b[1;33m,\u001b[0m \u001b[0msize\u001b[0m\u001b[1;33m=\u001b[0m\u001b[1;36m10000\u001b[0m\u001b[1;33m)\u001b[0m\u001b[1;33m\u001b[0m\u001b[0m\n",
      "\u001b[1;31mNameError\u001b[0m: name 'lanes' is not defined"
     ]
    }
   ],
   "source": [
    "# Compute the slope and intercept of the frac diff/lane curve\n",
    "slope, intercept = np.polyfit(lanes, f_13, 1)\n",
    "\n",
    "# Compute bootstrap replicates\n",
    "bs_reps_slope, bs_reps_int = dcst.draw_bs_pairs_linreg(lanes, f_13, size=10000)\n",
    "\n",
    "# Compute 95% confidence interval of slope\n",
    "conf_int = np.percentile(bs_reps_slope, [2.5, 97.5])\n",
    "\n",
    "# Print slope and confidence interval\n",
    "print(\"\"\"\n",
    "slope: {0:.5f} per lane\n",
    "95% conf int: [{1:.5f}, {2:.5f}] per lane\"\"\".format(slope, *conf_int))\n",
    "\n",
    "# x-values for plotting regression lines\n",
    "x = np.array([1, 8])\n",
    "\n",
    "# Plot 100 bootstrap replicate lines\n",
    "for i in range(100):\n",
    "    _ = plt.plot(x, bs_reps_slope[i] * x + bs_reps_int[i], \n",
    "                 color='red', alpha=0.2, linewidth=0.5)\n",
    "    \n",
    "# Update the plot\n",
    "plt.draw()\n",
    "plt.show()\n"
   ]
  },
  {
   "cell_type": "code",
   "execution_count": 26,
   "metadata": {},
   "outputs": [
    {
     "ename": "NameError",
     "evalue": "name 'dcst' is not defined",
     "output_type": "error",
     "traceback": [
      "\u001b[1;31m---------------------------------------------------------------------------\u001b[0m",
      "\u001b[1;31mNameError\u001b[0m                                 Traceback (most recent call last)",
      "\u001b[1;32m<ipython-input-26-97238720d6e4>\u001b[0m in \u001b[0;36m<module>\u001b[1;34m()\u001b[0m\n\u001b[0;32m      1\u001b[0m \u001b[1;31m# Compute observed correlation: rho\u001b[0m\u001b[1;33m\u001b[0m\u001b[1;33m\u001b[0m\u001b[0m\n\u001b[1;32m----> 2\u001b[1;33m \u001b[0mrho\u001b[0m \u001b[1;33m=\u001b[0m \u001b[0mdcst\u001b[0m\u001b[1;33m.\u001b[0m\u001b[0mpearson_r\u001b[0m\u001b[1;33m(\u001b[0m\u001b[0mlanes\u001b[0m\u001b[1;33m,\u001b[0m \u001b[0mf_13\u001b[0m\u001b[1;33m)\u001b[0m\u001b[1;33m\u001b[0m\u001b[0m\n\u001b[0m\u001b[0;32m      3\u001b[0m \u001b[1;33m\u001b[0m\u001b[0m\n\u001b[0;32m      4\u001b[0m \u001b[1;31m# Initialize permutation reps: perm_reps_rho\u001b[0m\u001b[1;33m\u001b[0m\u001b[1;33m\u001b[0m\u001b[0m\n\u001b[0;32m      5\u001b[0m \u001b[0mperm_reps_rho\u001b[0m \u001b[1;33m=\u001b[0m \u001b[0mnp\u001b[0m\u001b[1;33m.\u001b[0m\u001b[0mempty\u001b[0m\u001b[1;33m(\u001b[0m\u001b[1;36m10000\u001b[0m\u001b[1;33m)\u001b[0m\u001b[1;33m\u001b[0m\u001b[0m\n",
      "\u001b[1;31mNameError\u001b[0m: name 'dcst' is not defined"
     ]
    }
   ],
   "source": [
    "# Compute observed correlation: rho\n",
    "rho = dcst.pearson_r(lanes, f_13)\n",
    "\n",
    "# Initialize permutation reps: perm_reps_rho\n",
    "perm_reps_rho = np.empty(10000)\n",
    "\n",
    "# Make permutation reps\n",
    "for i in range(10000):\n",
    "    # Scramble the lanes array: scrambled_lanes\n",
    "    scrambled_lanes = np.random.permutation(lanes)\n",
    "    \n",
    "    # Compute the Person correlation coefficient\n",
    "    perm_reps_rho[i] = dcst.pearson_r(scrambled_lanes, f_13)\n",
    "    \n",
    "# Compute and print p-value\n",
    "p_val = np.sum(perm_reps_rho >= rho) / 10000\n",
    "print('p =', p_val)"
   ]
  },
  {
   "cell_type": "markdown",
   "metadata": {},
   "source": [
    "# Statistical seismology and the Parkfield region"
   ]
  },
  {
   "cell_type": "code",
   "execution_count": 27,
   "metadata": {},
   "outputs": [
    {
     "ename": "NameError",
     "evalue": "name 'dcst' is not defined",
     "output_type": "error",
     "traceback": [
      "\u001b[1;31m---------------------------------------------------------------------------\u001b[0m",
      "\u001b[1;31mNameError\u001b[0m                                 Traceback (most recent call last)",
      "\u001b[1;32m<ipython-input-27-9eb9c05977d8>\u001b[0m in \u001b[0;36m<module>\u001b[1;34m()\u001b[0m\n\u001b[0;32m      1\u001b[0m \u001b[1;31m# Make the plot\u001b[0m\u001b[1;33m\u001b[0m\u001b[1;33m\u001b[0m\u001b[0m\n\u001b[1;32m----> 2\u001b[1;33m \u001b[0m_\u001b[0m \u001b[1;33m=\u001b[0m \u001b[0mplt\u001b[0m\u001b[1;33m.\u001b[0m\u001b[0mplot\u001b[0m\u001b[1;33m(\u001b[0m\u001b[1;33m*\u001b[0m\u001b[0mdcst\u001b[0m\u001b[1;33m.\u001b[0m\u001b[0mecdf\u001b[0m\u001b[1;33m(\u001b[0m\u001b[0mmags\u001b[0m\u001b[1;33m)\u001b[0m\u001b[1;33m,\u001b[0m \u001b[0mmarker\u001b[0m\u001b[1;33m=\u001b[0m\u001b[1;34m'.'\u001b[0m\u001b[1;33m,\u001b[0m \u001b[0mlinestyle\u001b[0m\u001b[1;33m=\u001b[0m\u001b[1;34m'none'\u001b[0m\u001b[1;33m)\u001b[0m\u001b[1;33m\u001b[0m\u001b[0m\n\u001b[0m\u001b[0;32m      3\u001b[0m \u001b[1;33m\u001b[0m\u001b[0m\n\u001b[0;32m      4\u001b[0m \u001b[1;31m# Label axes and show plot\u001b[0m\u001b[1;33m\u001b[0m\u001b[1;33m\u001b[0m\u001b[0m\n\u001b[0;32m      5\u001b[0m \u001b[0m_\u001b[0m \u001b[1;33m=\u001b[0m \u001b[0mplt\u001b[0m\u001b[1;33m.\u001b[0m\u001b[0mxlabel\u001b[0m\u001b[1;33m(\u001b[0m\u001b[1;34m'magnitude'\u001b[0m\u001b[1;33m)\u001b[0m\u001b[1;33m\u001b[0m\u001b[0m\n",
      "\u001b[1;31mNameError\u001b[0m: name 'dcst' is not defined"
     ]
    }
   ],
   "source": [
    "# Make the plot\n",
    "_ = plt.plot(*dcst.ecdf(mags), marker='.', linestyle='none')\n",
    "\n",
    "# Label axes and show plot\n",
    "_ = plt.xlabel('magnitude')\n",
    "_ = plt.ylabel('ECDF')\n",
    "plt.show()"
   ]
  },
  {
   "cell_type": "code",
   "execution_count": 28,
   "metadata": {
    "collapsed": true
   },
   "outputs": [],
   "source": [
    "def b_value(mags, mt, perc=[2.5, 97.5], n_reps=None):\n",
    "    \"\"\"Compute the b-value and optionally its confidence interval.\"\"\"\n",
    "    # Extract magnitudes above completeness threshold: m\n",
    "    m = mags[mags >= mt]\n",
    "\n",
    "    # Compute b-value: b\n",
    "    b = (np.mean(m) - mt) * np.log(10)\n",
    "\n",
    "    # Draw bootstrap replicates\n",
    "    if n_reps is None:\n",
    "        return b\n",
    "    else:\n",
    "        m_bs_reps = dcst.draw_bs_reps(m, np.mean, size=n_reps)\n",
    "\n",
    "        # Compute b-value from replicates: b_bs_reps\n",
    "        b_bs_reps = (m_bs_reps - mt) * np.log(10)\n",
    "\n",
    "        # Compute confidence interval: conf_int\n",
    "        conf_int = np.percentile(b_bs_reps, perc)\n",
    "    \n",
    "        return b, conf_int\n"
   ]
  },
  {
   "cell_type": "code",
   "execution_count": 29,
   "metadata": {},
   "outputs": [
    {
     "ename": "NameError",
     "evalue": "name 'mags' is not defined",
     "output_type": "error",
     "traceback": [
      "\u001b[1;31m---------------------------------------------------------------------------\u001b[0m",
      "\u001b[1;31mNameError\u001b[0m                                 Traceback (most recent call last)",
      "\u001b[1;32m<ipython-input-29-13b7b92545bd>\u001b[0m in \u001b[0;36m<module>\u001b[1;34m()\u001b[0m\n\u001b[0;32m      1\u001b[0m \u001b[1;31m# Compute b-value and confidence interval\u001b[0m\u001b[1;33m\u001b[0m\u001b[1;33m\u001b[0m\u001b[0m\n\u001b[1;32m----> 2\u001b[1;33m \u001b[0mb\u001b[0m\u001b[1;33m,\u001b[0m \u001b[0mconf_int\u001b[0m \u001b[1;33m=\u001b[0m \u001b[0mb_value\u001b[0m\u001b[1;33m(\u001b[0m\u001b[0mmags\u001b[0m\u001b[1;33m,\u001b[0m \u001b[0mmt\u001b[0m\u001b[1;33m,\u001b[0m \u001b[0mperc\u001b[0m\u001b[1;33m=\u001b[0m\u001b[1;33m[\u001b[0m\u001b[1;36m2.5\u001b[0m\u001b[1;33m,\u001b[0m \u001b[1;36m97.5\u001b[0m\u001b[1;33m]\u001b[0m\u001b[1;33m,\u001b[0m \u001b[0mn_reps\u001b[0m\u001b[1;33m=\u001b[0m\u001b[1;36m10000\u001b[0m\u001b[1;33m)\u001b[0m\u001b[1;33m\u001b[0m\u001b[0m\n\u001b[0m\u001b[0;32m      3\u001b[0m \u001b[1;33m\u001b[0m\u001b[0m\n\u001b[0;32m      4\u001b[0m \u001b[1;31m# Generate samples to for theoretical ECDF\u001b[0m\u001b[1;33m\u001b[0m\u001b[1;33m\u001b[0m\u001b[0m\n\u001b[0;32m      5\u001b[0m \u001b[0mm_theor\u001b[0m \u001b[1;33m=\u001b[0m \u001b[0mnp\u001b[0m\u001b[1;33m.\u001b[0m\u001b[0mrandom\u001b[0m\u001b[1;33m.\u001b[0m\u001b[0mexponential\u001b[0m\u001b[1;33m(\u001b[0m\u001b[0mb\u001b[0m\u001b[1;33m/\u001b[0m\u001b[0mnp\u001b[0m\u001b[1;33m.\u001b[0m\u001b[0mlog\u001b[0m\u001b[1;33m(\u001b[0m\u001b[1;36m10\u001b[0m\u001b[1;33m)\u001b[0m\u001b[1;33m,\u001b[0m \u001b[0msize\u001b[0m\u001b[1;33m=\u001b[0m\u001b[1;36m100000\u001b[0m\u001b[1;33m)\u001b[0m \u001b[1;33m+\u001b[0m \u001b[0mmt\u001b[0m\u001b[1;33m\u001b[0m\u001b[0m\n",
      "\u001b[1;31mNameError\u001b[0m: name 'mags' is not defined"
     ]
    }
   ],
   "source": [
    "# Compute b-value and confidence interval\n",
    "b, conf_int = b_value(mags, mt, perc=[2.5, 97.5], n_reps=10000)\n",
    "\n",
    "# Generate samples to for theoretical ECDF\n",
    "m_theor = np.random.exponential(b/np.log(10), size=100000) + mt\n",
    "\n",
    "# Plot the theoretical CDF\n",
    "_ = plt.plot(*dcst.ecdf(m_theor))\n",
    "\n",
    "# Plot the ECDF (slicing mags >= mt)\n",
    "_ = plt.plot(*dcst.ecdf(mags[mags >= mt]), marker='.', linestyle='none')\n",
    "\n",
    "# Pretty up and show the plot\n",
    "_ = plt.xlabel('magnitude')\n",
    "_ = plt.ylabel('ECDF')\n",
    "_ = plt.xlim(2.8, 6.2)\n",
    "plt.show()\n",
    "\n",
    "# Report the results\n",
    "print(\"\"\"\n",
    "b-value: {0:.2f}\n",
    "95% conf int: [{1:.2f}, {2:.2f}]\"\"\".format(b, *conf_int))"
   ]
  },
  {
   "cell_type": "code",
   "execution_count": 30,
   "metadata": {},
   "outputs": [
    {
     "ename": "NameError",
     "evalue": "name 'time_gap' is not defined",
     "output_type": "error",
     "traceback": [
      "\u001b[1;31m---------------------------------------------------------------------------\u001b[0m",
      "\u001b[1;31mNameError\u001b[0m                                 Traceback (most recent call last)",
      "\u001b[1;32m<ipython-input-30-bb5596dd2d85>\u001b[0m in \u001b[0;36m<module>\u001b[1;34m()\u001b[0m\n\u001b[0;32m      1\u001b[0m \u001b[1;31m# Compute the mean time gap: mean_time_gap\u001b[0m\u001b[1;33m\u001b[0m\u001b[1;33m\u001b[0m\u001b[0m\n\u001b[1;32m----> 2\u001b[1;33m \u001b[0mmean_time_gap\u001b[0m \u001b[1;33m=\u001b[0m \u001b[0mnp\u001b[0m\u001b[1;33m.\u001b[0m\u001b[0mmean\u001b[0m\u001b[1;33m(\u001b[0m\u001b[0mtime_gap\u001b[0m\u001b[1;33m)\u001b[0m\u001b[1;33m\u001b[0m\u001b[0m\n\u001b[0m\u001b[0;32m      3\u001b[0m \u001b[1;33m\u001b[0m\u001b[0m\n\u001b[0;32m      4\u001b[0m \u001b[1;31m# Standard deviation of the time gap: std_time_gap\u001b[0m\u001b[1;33m\u001b[0m\u001b[1;33m\u001b[0m\u001b[0m\n\u001b[0;32m      5\u001b[0m \u001b[0mstd_time_gap\u001b[0m \u001b[1;33m=\u001b[0m \u001b[0mnp\u001b[0m\u001b[1;33m.\u001b[0m\u001b[0mstd\u001b[0m\u001b[1;33m(\u001b[0m\u001b[0mtime_gap\u001b[0m\u001b[1;33m)\u001b[0m\u001b[1;33m\u001b[0m\u001b[0m\n",
      "\u001b[1;31mNameError\u001b[0m: name 'time_gap' is not defined"
     ]
    }
   ],
   "source": [
    "# Compute the mean time gap: mean_time_gap\n",
    "mean_time_gap = np.mean(time_gap)\n",
    "\n",
    "# Standard deviation of the time gap: std_time_gap\n",
    "std_time_gap = np.std(time_gap)\n",
    "\n",
    "# Generate theoretical Exponential distribution of timings: time_gap_exp\n",
    "time_gap_exp = np.random.exponential(mean_time_gap, size=10000)\n",
    "\n",
    "# Generate theoretical Normal distribution of timings: time_gap_norm\n",
    "time_gap_norm = np.random.normal(mean_time_gap, std_time_gap, size=10000)\n",
    "\n",
    "# Plot theoretical CDFs\n",
    "_ = plt.plot(*dcst.ecdf(time_gap_exp))\n",
    "_ = plt.plot(*dcst.ecdf(time_gap_norm))\n",
    "\n",
    "# Plot Parkfield ECDF\n",
    "_ = plt.plot(*dcst.ecdf(time_gap, formal=True, min_x=-10, max_x=50))\n",
    "\n",
    "# Add legend\n",
    "_ = plt.legend(('Exp.', 'Norm.'), loc='upper left')\n",
    "\n",
    "# Label axes, set limits and show plot\n",
    "_ = plt.xlabel('time gap (years)')\n",
    "_ = plt.ylabel('ECDF')\n",
    "_ = plt.xlim(-10, 50)\n",
    "plt.show()\n"
   ]
  },
  {
   "cell_type": "code",
   "execution_count": 31,
   "metadata": {},
   "outputs": [
    {
     "ename": "NameError",
     "evalue": "name 'mean_time_gap' is not defined",
     "output_type": "error",
     "traceback": [
      "\u001b[1;31m---------------------------------------------------------------------------\u001b[0m",
      "\u001b[1;31mNameError\u001b[0m                                 Traceback (most recent call last)",
      "\u001b[1;32m<ipython-input-31-43aba7483082>\u001b[0m in \u001b[0;36m<module>\u001b[1;34m()\u001b[0m\n\u001b[0;32m      1\u001b[0m \u001b[1;31m# Draw samples from the Exponential distribution: exp_samples\u001b[0m\u001b[1;33m\u001b[0m\u001b[1;33m\u001b[0m\u001b[0m\n\u001b[1;32m----> 2\u001b[1;33m \u001b[0mexp_samples\u001b[0m \u001b[1;33m=\u001b[0m \u001b[0mnp\u001b[0m\u001b[1;33m.\u001b[0m\u001b[0mrandom\u001b[0m\u001b[1;33m.\u001b[0m\u001b[0mexponential\u001b[0m\u001b[1;33m(\u001b[0m\u001b[0mmean_time_gap\u001b[0m\u001b[1;33m,\u001b[0m \u001b[0msize\u001b[0m\u001b[1;33m=\u001b[0m\u001b[1;36m100000\u001b[0m\u001b[1;33m)\u001b[0m\u001b[1;33m\u001b[0m\u001b[0m\n\u001b[0m\u001b[0;32m      3\u001b[0m \u001b[1;33m\u001b[0m\u001b[0m\n\u001b[0;32m      4\u001b[0m \u001b[1;31m# Draw samples from the Normal distribution: norm_samples\u001b[0m\u001b[1;33m\u001b[0m\u001b[1;33m\u001b[0m\u001b[0m\n\u001b[0;32m      5\u001b[0m \u001b[0mnorm_samples\u001b[0m \u001b[1;33m=\u001b[0m \u001b[0mnp\u001b[0m\u001b[1;33m.\u001b[0m\u001b[0mrandom\u001b[0m\u001b[1;33m.\u001b[0m\u001b[0mnormal\u001b[0m\u001b[1;33m(\u001b[0m\u001b[0mmean_time_gap\u001b[0m\u001b[1;33m,\u001b[0m \u001b[0mstd_time_gap\u001b[0m\u001b[1;33m,\u001b[0m \u001b[0msize\u001b[0m\u001b[1;33m=\u001b[0m\u001b[1;36m100000\u001b[0m\u001b[1;33m)\u001b[0m\u001b[1;33m\u001b[0m\u001b[0m\n",
      "\u001b[1;31mNameError\u001b[0m: name 'mean_time_gap' is not defined"
     ]
    }
   ],
   "source": [
    "# Draw samples from the Exponential distribution: exp_samples\n",
    "exp_samples = np.random.exponential(mean_time_gap, size=100000)\n",
    "\n",
    "# Draw samples from the Normal distribution: norm_samples\n",
    "norm_samples = np.random.normal(mean_time_gap, std_time_gap, size=100000)\n",
    "\n",
    "# No earthquake as of today, so only keep samples that are long enough\n",
    "exp_samples = exp_samples[exp_samples > today - last_quake]\n",
    "norm_samples = norm_samples[norm_samples > today - last_quake]\n",
    "\n",
    "# Compute the confidence intervals with medians\n",
    "conf_int_exp = np.percentile(exp_samples, [2.5, 50, 97.5]) + last_quake\n",
    "conf_int_norm = np.percentile(norm_samples, [2.5, 50, 97.5]) + last_quake\n",
    "\n",
    "# Print the results\n",
    "print('Exponential:', conf_int_exp)\n",
    "print('     Normal:', conf_int_norm)\n"
   ]
  },
  {
   "cell_type": "markdown",
   "metadata": {},
   "source": [
    "## Computing the value of a formal ECDF\n",
    "50xp\n",
    "To be able to do the Kolmogorov-Smirnov test, we need to compute the value of a formal ECDF at arbitrary points. In other words, we need a function, ecdf_formal(x, data) that returns the value of the formal ECDF derived from the data set data for each value in the array x. Two of the functions accomplish this. One will not. Of the two that do the calculation correctly, one is faster. Label each.\n",
    "\n",
    "As a reminder, the ECDF is formally defined as ECDF(x) = (number of samples ≤ x) / (total number of samples). You also might want to check out the doc string of np.searchsorted().\n",
    "\n",
    "a)\n",
    "\n",
    "def ecdf_formal(x, data):\n",
    "    return np.searchsorted(np.sort(data), x) / len(data)\n",
    "b)\n",
    "\n",
    "def ecdf_formal(x, data):\n",
    "    return np.searchsorted(np.sort(data), x, side='right') / len(data)\n",
    "c)\n",
    "\n",
    "def ecdf_formal(x, data):\n",
    "    output = np.empty(len(x))\n",
    "\n",
    "    data = np.sort(data)\n",
    "\n",
    "    for i, x_val in x:\n",
    "        j = 0\n",
    "        while j < len(data) and x_val >= data[j]:\n",
    "            j += 1\n",
    "\n",
    "        output[i] = j\n",
    "\n",
    "    return output / len(data)"
   ]
  },
  {
   "cell_type": "code",
   "execution_count": 32,
   "metadata": {
    "collapsed": true
   },
   "outputs": [],
   "source": [
    "def ks_stat(data1, data2):\n",
    "    # Compute ECDF from data: x, y\n",
    "    x, y = dcst.ecdf(data1)\n",
    "    \n",
    "    # Compute corresponding values of the target CDF\n",
    "    cdf = dcst.ecdf_formal(x, data2)\n",
    "\n",
    "    # Compute distances between concave corners and CDF\n",
    "    D_top = y - cdf\n",
    "\n",
    "    # Compute distance between convex corners and CDF\n",
    "    D_bottom = cdf - y + 1/len(data1)\n",
    "\n",
    "    return np.max((D_top, D_bottom))"
   ]
  },
  {
   "cell_type": "code",
   "execution_count": 33,
   "metadata": {
    "collapsed": true
   },
   "outputs": [],
   "source": [
    "def draw_ks_reps(n, f, args=(), size=10000, n_reps=10000):\n",
    "    # Generate samples from target distribution\n",
    "    x_f = f(*args, size=size)\n",
    "    \n",
    "    # Initialize K-S replicates\n",
    "    reps = np.empty(n_reps)\n",
    "    \n",
    "    # Draw replicates\n",
    "    for i in range(n_reps):\n",
    "        # Draw samples for comparison\n",
    "        x_samp = f(*args, size=n)\n",
    "        \n",
    "        # Compute K-S statistic\n",
    "        reps[i] = dcst.ks_stat(x_samp, x_f)\n",
    "\n",
    "    return reps"
   ]
  },
  {
   "cell_type": "code",
   "execution_count": 34,
   "metadata": {},
   "outputs": [
    {
     "ename": "NameError",
     "evalue": "name 'mean_time_gap' is not defined",
     "output_type": "error",
     "traceback": [
      "\u001b[1;31m---------------------------------------------------------------------------\u001b[0m",
      "\u001b[1;31mNameError\u001b[0m                                 Traceback (most recent call last)",
      "\u001b[1;32m<ipython-input-34-0aed792d5a9a>\u001b[0m in \u001b[0;36m<module>\u001b[1;34m()\u001b[0m\n\u001b[0;32m      1\u001b[0m \u001b[1;31m# Draw target distribution\u001b[0m\u001b[1;33m\u001b[0m\u001b[1;33m\u001b[0m\u001b[0m\n\u001b[1;32m----> 2\u001b[1;33m \u001b[0mx_f\u001b[0m \u001b[1;33m=\u001b[0m \u001b[0mnp\u001b[0m\u001b[1;33m.\u001b[0m\u001b[0mrandom\u001b[0m\u001b[1;33m.\u001b[0m\u001b[0mexponential\u001b[0m\u001b[1;33m(\u001b[0m\u001b[0mmean_time_gap\u001b[0m\u001b[1;33m,\u001b[0m \u001b[0msize\u001b[0m\u001b[1;33m=\u001b[0m\u001b[1;36m10000\u001b[0m\u001b[1;33m)\u001b[0m\u001b[1;33m\u001b[0m\u001b[0m\n\u001b[0m\u001b[0;32m      3\u001b[0m \u001b[1;33m\u001b[0m\u001b[0m\n\u001b[0;32m      4\u001b[0m \u001b[1;31m# Compute K-S stat: d\u001b[0m\u001b[1;33m\u001b[0m\u001b[1;33m\u001b[0m\u001b[0m\n\u001b[0;32m      5\u001b[0m \u001b[0md\u001b[0m \u001b[1;33m=\u001b[0m \u001b[0mdcst\u001b[0m\u001b[1;33m.\u001b[0m\u001b[0mks_stat\u001b[0m\u001b[1;33m(\u001b[0m\u001b[0mtime_gap\u001b[0m\u001b[1;33m,\u001b[0m \u001b[0mx_f\u001b[0m\u001b[1;33m)\u001b[0m\u001b[1;33m\u001b[0m\u001b[0m\n",
      "\u001b[1;31mNameError\u001b[0m: name 'mean_time_gap' is not defined"
     ]
    }
   ],
   "source": [
    "# Draw target distribution\n",
    "x_f = np.random.exponential(mean_time_gap, size=10000)\n",
    "\n",
    "# Compute K-S stat: d\n",
    "d = dcst.ks_stat(time_gap, x_f)\n",
    "\n",
    "# Draw K-S replicates: reps\n",
    "reps = dcst.draw_ks_reps(len(time_gap), np.random.exponential, \n",
    "                         args=(mean_time_gap,), size=10000, n_reps=10000)\n",
    "\n",
    "# Compute and print p-value\n",
    "p_val = np.sum(reps >= d) / 10000\n",
    "print('p =', p_val)"
   ]
  },
  {
   "cell_type": "markdown",
   "metadata": {},
   "source": [
    "# Earthquakes and oil mining in Oklahoma"
   ]
  },
  {
   "cell_type": "code",
   "execution_count": 35,
   "metadata": {},
   "outputs": [
    {
     "ename": "NameError",
     "evalue": "name 'time' is not defined",
     "output_type": "error",
     "traceback": [
      "\u001b[1;31m---------------------------------------------------------------------------\u001b[0m",
      "\u001b[1;31mNameError\u001b[0m                                 Traceback (most recent call last)",
      "\u001b[1;32m<ipython-input-35-cfd7c94f8e29>\u001b[0m in \u001b[0;36m<module>\u001b[1;34m()\u001b[0m\n\u001b[0;32m      1\u001b[0m \u001b[1;31m# Plot time vs. magnitude\u001b[0m\u001b[1;33m\u001b[0m\u001b[1;33m\u001b[0m\u001b[0m\n\u001b[1;32m----> 2\u001b[1;33m \u001b[0m_\u001b[0m \u001b[1;33m=\u001b[0m \u001b[0mplt\u001b[0m\u001b[1;33m.\u001b[0m\u001b[0mplot\u001b[0m\u001b[1;33m(\u001b[0m\u001b[0mtime\u001b[0m\u001b[1;33m,\u001b[0m \u001b[0mmags\u001b[0m\u001b[1;33m,\u001b[0m \u001b[0mmarker\u001b[0m\u001b[1;33m=\u001b[0m\u001b[1;34m'.'\u001b[0m\u001b[1;33m,\u001b[0m \u001b[0mlinestyle\u001b[0m\u001b[1;33m=\u001b[0m\u001b[1;34m'none'\u001b[0m\u001b[1;33m,\u001b[0m \u001b[0malpha\u001b[0m\u001b[1;33m=\u001b[0m\u001b[1;36m0.1\u001b[0m\u001b[1;33m)\u001b[0m\u001b[1;33m\u001b[0m\u001b[0m\n\u001b[0m\u001b[0;32m      3\u001b[0m \u001b[1;33m\u001b[0m\u001b[0m\n\u001b[0;32m      4\u001b[0m \u001b[1;31m# Label axes and show the plot\u001b[0m\u001b[1;33m\u001b[0m\u001b[1;33m\u001b[0m\u001b[0m\n\u001b[0;32m      5\u001b[0m \u001b[0m_\u001b[0m \u001b[1;33m=\u001b[0m \u001b[0mplt\u001b[0m\u001b[1;33m.\u001b[0m\u001b[0mxlabel\u001b[0m\u001b[1;33m(\u001b[0m\u001b[1;34m'time (year)'\u001b[0m\u001b[1;33m)\u001b[0m\u001b[1;33m\u001b[0m\u001b[0m\n",
      "\u001b[1;31mNameError\u001b[0m: name 'time' is not defined"
     ]
    }
   ],
   "source": [
    "# Plot time vs. magnitude\n",
    "_ = plt.plot(time, mags, marker='.', linestyle='none', alpha=0.1)\n",
    "\n",
    "# Label axes and show the plot\n",
    "_ = plt.xlabel('time (year)')\n",
    "_ = plt.ylabel('magnitude')\n",
    "plt.show()"
   ]
  },
  {
   "cell_type": "code",
   "execution_count": 36,
   "metadata": {},
   "outputs": [
    {
     "ename": "NameError",
     "evalue": "name 'dt_pre' is not defined",
     "output_type": "error",
     "traceback": [
      "\u001b[1;31m---------------------------------------------------------------------------\u001b[0m",
      "\u001b[1;31mNameError\u001b[0m                                 Traceback (most recent call last)",
      "\u001b[1;32m<ipython-input-36-d379c1163411>\u001b[0m in \u001b[0;36m<module>\u001b[1;34m()\u001b[0m\n\u001b[0;32m      1\u001b[0m \u001b[1;31m# Compute mean interearthquake time\u001b[0m\u001b[1;33m\u001b[0m\u001b[1;33m\u001b[0m\u001b[0m\n\u001b[1;32m----> 2\u001b[1;33m \u001b[0mmean_dt_pre\u001b[0m \u001b[1;33m=\u001b[0m \u001b[0mnp\u001b[0m\u001b[1;33m.\u001b[0m\u001b[0mmean\u001b[0m\u001b[1;33m(\u001b[0m\u001b[0mdt_pre\u001b[0m\u001b[1;33m)\u001b[0m\u001b[1;33m\u001b[0m\u001b[0m\n\u001b[0m\u001b[0;32m      3\u001b[0m \u001b[0mmean_dt_post\u001b[0m \u001b[1;33m=\u001b[0m \u001b[0mnp\u001b[0m\u001b[1;33m.\u001b[0m\u001b[0mmean\u001b[0m\u001b[1;33m(\u001b[0m\u001b[0mdt_post\u001b[0m\u001b[1;33m)\u001b[0m\u001b[1;33m\u001b[0m\u001b[0m\n\u001b[0;32m      4\u001b[0m \u001b[1;33m\u001b[0m\u001b[0m\n\u001b[0;32m      5\u001b[0m \u001b[1;31m# Draw 10,000 bootstrap replicates of the mean\u001b[0m\u001b[1;33m\u001b[0m\u001b[1;33m\u001b[0m\u001b[0m\n",
      "\u001b[1;31mNameError\u001b[0m: name 'dt_pre' is not defined"
     ]
    }
   ],
   "source": [
    "# Compute mean interearthquake time\n",
    "mean_dt_pre = np.mean(dt_pre)\n",
    "mean_dt_post = np.mean(dt_post)\n",
    "\n",
    "# Draw 10,000 bootstrap replicates of the mean\n",
    "bs_reps_pre = dcst.draw_bs_reps(dt_pre, np.mean, size=10000)\n",
    "bs_reps_post = dcst.draw_bs_reps(dt_post, np.mean, size=10000)\n",
    "\n",
    "# Compute the confidence interval\n",
    "conf_int_pre = np.percentile(bs_reps_pre, [2.5, 97.5])\n",
    "conf_int_post = np.percentile(bs_reps_post, [2.5, 97.5])\n",
    "\n",
    "# Print the results\n",
    "print(\"\"\"1980 through 2009\n",
    "mean time gap: {0:.2f} days\n",
    "95% conf int: [{1:.2f}, {2:.2f}] days\"\"\".format(mean_dt_pre, *conf_int_pre))\n",
    "\n",
    "print(\"\"\"\n",
    "2010 through mid-2017\n",
    "mean time gap: {0:.2f} days\n",
    "95% conf int: [{1:.2f}, {2:.2f}] days\"\"\".format(mean_dt_post, *conf_int_post))"
   ]
  },
  {
   "cell_type": "code",
   "execution_count": 37,
   "metadata": {},
   "outputs": [
    {
     "ename": "NameError",
     "evalue": "name 'mean_dt_pre' is not defined",
     "output_type": "error",
     "traceback": [
      "\u001b[1;31m---------------------------------------------------------------------------\u001b[0m",
      "\u001b[1;31mNameError\u001b[0m                                 Traceback (most recent call last)",
      "\u001b[1;32m<ipython-input-37-c3811da15c09>\u001b[0m in \u001b[0;36m<module>\u001b[1;34m()\u001b[0m\n\u001b[0;32m      1\u001b[0m \u001b[1;31m# Compute the observed test statistic\u001b[0m\u001b[1;33m\u001b[0m\u001b[1;33m\u001b[0m\u001b[0m\n\u001b[1;32m----> 2\u001b[1;33m \u001b[0mmean_dt_diff\u001b[0m \u001b[1;33m=\u001b[0m \u001b[0mmean_dt_pre\u001b[0m \u001b[1;33m-\u001b[0m \u001b[0mmean_dt_post\u001b[0m\u001b[1;33m\u001b[0m\u001b[0m\n\u001b[0m\u001b[0;32m      3\u001b[0m \u001b[1;33m\u001b[0m\u001b[0m\n\u001b[0;32m      4\u001b[0m \u001b[1;31m# Shift the post-2010 data to have the same mean as the pre-2010 data\u001b[0m\u001b[1;33m\u001b[0m\u001b[1;33m\u001b[0m\u001b[0m\n\u001b[0;32m      5\u001b[0m \u001b[0mdt_post_shift\u001b[0m \u001b[1;33m=\u001b[0m \u001b[0mdt_post\u001b[0m \u001b[1;33m-\u001b[0m \u001b[0mmean_dt_post\u001b[0m \u001b[1;33m+\u001b[0m \u001b[0mmean_dt_pre\u001b[0m\u001b[1;33m\u001b[0m\u001b[0m\n",
      "\u001b[1;31mNameError\u001b[0m: name 'mean_dt_pre' is not defined"
     ]
    }
   ],
   "source": [
    "# Compute the observed test statistic\n",
    "mean_dt_diff = mean_dt_pre - mean_dt_post\n",
    "\n",
    "# Shift the post-2010 data to have the same mean as the pre-2010 data\n",
    "dt_post_shift = dt_post - mean_dt_post + mean_dt_pre\n",
    "\n",
    "# Compute 10,000 bootstrap replicates from arrays\n",
    "bs_reps_pre = dcst.draw_bs_reps(dt_pre, np.mean, size=10000)\n",
    "bs_reps_post = dcst.draw_bs_reps(dt_post_shift, np.mean, size=10000)\n",
    "\n",
    "# Get replicates of difference of means\n",
    "bs_reps = bs_reps_pre - bs_reps_post\n",
    "\n",
    "# Compute and print the p-value\n",
    "p_val = np.sum(bs_reps >= mean_dt_diff) / 10000\n",
    "print('p =', p_val)\n"
   ]
  },
  {
   "cell_type": "code",
   "execution_count": 38,
   "metadata": {},
   "outputs": [
    {
     "ename": "NameError",
     "evalue": "name 'mags' is not defined",
     "output_type": "error",
     "traceback": [
      "\u001b[1;31m---------------------------------------------------------------------------\u001b[0m",
      "\u001b[1;31mNameError\u001b[0m                                 Traceback (most recent call last)",
      "\u001b[1;32m<ipython-input-38-d96d5265a6fb>\u001b[0m in \u001b[0;36m<module>\u001b[1;34m()\u001b[0m\n\u001b[0;32m      1\u001b[0m \u001b[1;31m# Get magnitudes before and after 2010\u001b[0m\u001b[1;33m\u001b[0m\u001b[1;33m\u001b[0m\u001b[0m\n\u001b[1;32m----> 2\u001b[1;33m \u001b[0mmags_pre\u001b[0m \u001b[1;33m=\u001b[0m \u001b[0mmags\u001b[0m\u001b[1;33m[\u001b[0m\u001b[0mtime\u001b[0m \u001b[1;33m<\u001b[0m \u001b[1;36m2010\u001b[0m\u001b[1;33m]\u001b[0m\u001b[1;33m\u001b[0m\u001b[0m\n\u001b[0m\u001b[0;32m      3\u001b[0m \u001b[0mmags_post\u001b[0m \u001b[1;33m=\u001b[0m \u001b[0mmags\u001b[0m\u001b[1;33m[\u001b[0m\u001b[0mtime\u001b[0m \u001b[1;33m>=\u001b[0m \u001b[1;36m2010\u001b[0m\u001b[1;33m]\u001b[0m\u001b[1;33m\u001b[0m\u001b[0m\n\u001b[0;32m      4\u001b[0m \u001b[1;33m\u001b[0m\u001b[0m\n\u001b[0;32m      5\u001b[0m \u001b[1;31m# Generate ECDFs\u001b[0m\u001b[1;33m\u001b[0m\u001b[1;33m\u001b[0m\u001b[0m\n",
      "\u001b[1;31mNameError\u001b[0m: name 'mags' is not defined"
     ]
    }
   ],
   "source": [
    "# Get magnitudes before and after 2010\n",
    "mags_pre = mags[time < 2010]\n",
    "mags_post = mags[time >= 2010]\n",
    "\n",
    "# Generate ECDFs\n",
    "_ = plt.plot(*dcst.ecdf(mags_pre), marker='.', linestyle='none')\n",
    "_ = plt.plot(*dcst.ecdf(mags_post), marker='.', linestyle='none')\n",
    "\n",
    "# Label axes and show plot\n",
    "_ = plt.xlabel('magnitude')\n",
    "_ = plt.ylabel('ECDF')\n",
    "plt.legend(('1980 though 2009', '2010 through mid-2017'), loc='upper left')\n",
    "plt.show()"
   ]
  },
  {
   "cell_type": "code",
   "execution_count": 39,
   "metadata": {},
   "outputs": [
    {
     "ename": "NameError",
     "evalue": "name 'mags_pre' is not defined",
     "output_type": "error",
     "traceback": [
      "\u001b[1;31m---------------------------------------------------------------------------\u001b[0m",
      "\u001b[1;31mNameError\u001b[0m                                 Traceback (most recent call last)",
      "\u001b[1;32m<ipython-input-39-aed5589e848b>\u001b[0m in \u001b[0;36m<module>\u001b[1;34m()\u001b[0m\n\u001b[0;32m      1\u001b[0m \u001b[1;31m# Compute b-value and confidence interval for pre-2010\u001b[0m\u001b[1;33m\u001b[0m\u001b[1;33m\u001b[0m\u001b[0m\n\u001b[1;32m----> 2\u001b[1;33m \u001b[0mb_pre\u001b[0m\u001b[1;33m,\u001b[0m \u001b[0mconf_int_pre\u001b[0m \u001b[1;33m=\u001b[0m \u001b[0mb_value\u001b[0m\u001b[1;33m(\u001b[0m\u001b[0mmags_pre\u001b[0m\u001b[1;33m,\u001b[0m \u001b[0mmt\u001b[0m\u001b[1;33m,\u001b[0m \u001b[0mperc\u001b[0m\u001b[1;33m=\u001b[0m\u001b[1;33m[\u001b[0m\u001b[1;36m2.5\u001b[0m\u001b[1;33m,\u001b[0m \u001b[1;36m97.5\u001b[0m\u001b[1;33m]\u001b[0m\u001b[1;33m,\u001b[0m \u001b[0mn_reps\u001b[0m\u001b[1;33m=\u001b[0m\u001b[1;36m10000\u001b[0m\u001b[1;33m)\u001b[0m\u001b[1;33m\u001b[0m\u001b[0m\n\u001b[0m\u001b[0;32m      3\u001b[0m \u001b[1;33m\u001b[0m\u001b[0m\n\u001b[0;32m      4\u001b[0m \u001b[1;31m# Compute b-value and confidence interval for post-2010\u001b[0m\u001b[1;33m\u001b[0m\u001b[1;33m\u001b[0m\u001b[0m\n\u001b[0;32m      5\u001b[0m \u001b[0mb_post\u001b[0m\u001b[1;33m,\u001b[0m \u001b[0mconf_int_post\u001b[0m \u001b[1;33m=\u001b[0m \u001b[0mb_value\u001b[0m\u001b[1;33m(\u001b[0m\u001b[0mmags_post\u001b[0m\u001b[1;33m,\u001b[0m \u001b[0mmt\u001b[0m\u001b[1;33m,\u001b[0m \u001b[0mperc\u001b[0m\u001b[1;33m=\u001b[0m\u001b[1;33m[\u001b[0m\u001b[1;36m2.5\u001b[0m\u001b[1;33m,\u001b[0m \u001b[1;36m97.5\u001b[0m\u001b[1;33m]\u001b[0m\u001b[1;33m,\u001b[0m \u001b[0mn_reps\u001b[0m\u001b[1;33m=\u001b[0m\u001b[1;36m10000\u001b[0m\u001b[1;33m)\u001b[0m\u001b[1;33m\u001b[0m\u001b[0m\n",
      "\u001b[1;31mNameError\u001b[0m: name 'mags_pre' is not defined"
     ]
    }
   ],
   "source": [
    "# Compute b-value and confidence interval for pre-2010\n",
    "b_pre, conf_int_pre = b_value(mags_pre, mt, perc=[2.5, 97.5], n_reps=10000)\n",
    "\n",
    "# Compute b-value and confidence interval for post-2010\n",
    "b_post, conf_int_post = b_value(mags_post, mt, perc=[2.5, 97.5], n_reps=10000)\n",
    "\n",
    "# Report the results\n",
    "print(\"\"\"\n",
    "1980 through 2009\n",
    "b-value: {0:.2f}\n",
    "95% conf int: [{1:.2f}, {2:.2f}]\n",
    "\n",
    "2010 through mid-2017\n",
    "b-value: {3:.2f}\n",
    "95% conf int: [{4:.2f}, {5:.2f}]\n",
    "\"\"\".format(b_pre, *conf_int_pre, b_post, *conf_int_post))\n"
   ]
  },
  {
   "cell_type": "code",
   "execution_count": 40,
   "metadata": {},
   "outputs": [
    {
     "ename": "NameError",
     "evalue": "name 'mags_pre' is not defined",
     "output_type": "error",
     "traceback": [
      "\u001b[1;31m---------------------------------------------------------------------------\u001b[0m",
      "\u001b[1;31mNameError\u001b[0m                                 Traceback (most recent call last)",
      "\u001b[1;32m<ipython-input-40-430960c2dda4>\u001b[0m in \u001b[0;36m<module>\u001b[1;34m()\u001b[0m\n\u001b[0;32m      1\u001b[0m \u001b[1;31m# Only magnitudes above completeness threshold\u001b[0m\u001b[1;33m\u001b[0m\u001b[1;33m\u001b[0m\u001b[0m\n\u001b[1;32m----> 2\u001b[1;33m \u001b[0mmags_pre\u001b[0m \u001b[1;33m=\u001b[0m \u001b[0mmags_pre\u001b[0m\u001b[1;33m[\u001b[0m\u001b[0mmags_pre\u001b[0m \u001b[1;33m>=\u001b[0m \u001b[0mmt\u001b[0m\u001b[1;33m]\u001b[0m\u001b[1;33m\u001b[0m\u001b[0m\n\u001b[0m\u001b[0;32m      3\u001b[0m \u001b[0mmags_post\u001b[0m \u001b[1;33m=\u001b[0m \u001b[0mmags_post\u001b[0m\u001b[1;33m[\u001b[0m\u001b[0mmags_post\u001b[0m \u001b[1;33m>=\u001b[0m \u001b[0mmt\u001b[0m\u001b[1;33m]\u001b[0m\u001b[1;33m\u001b[0m\u001b[0m\n\u001b[0;32m      4\u001b[0m \u001b[1;33m\u001b[0m\u001b[0m\n\u001b[0;32m      5\u001b[0m \u001b[1;31m# Observed difference in mean magnitudes: diff_obs\u001b[0m\u001b[1;33m\u001b[0m\u001b[1;33m\u001b[0m\u001b[0m\n",
      "\u001b[1;31mNameError\u001b[0m: name 'mags_pre' is not defined"
     ]
    }
   ],
   "source": [
    "# Only magnitudes above completeness threshold\n",
    "mags_pre = mags_pre[mags_pre >= mt]\n",
    "mags_post = mags_post[mags_post >= mt]\n",
    "\n",
    "# Observed difference in mean magnitudes: diff_obs\n",
    "diff_obs = np.mean(mags_post) - np.mean(mags_pre)\n",
    "\n",
    "# Generate permutation replicates: perm_reps\n",
    "perm_reps = dcst.draw_perm_reps(mags_post, mags_pre, dcst.diff_of_means, size=10000)\n",
    "\n",
    "# Compute and print p-value\n",
    "p_val = np.sum(perm_reps < diff_obs) / 10000\n",
    "print('p =', p_val)"
   ]
  },
  {
   "cell_type": "code",
   "execution_count": null,
   "metadata": {
    "collapsed": true
   },
   "outputs": [],
   "source": []
  }
 ],
 "metadata": {
  "kernelspec": {
   "display_name": "Python 3",
   "language": "python",
   "name": "python3"
  },
  "language_info": {
   "codemirror_mode": {
    "name": "ipython",
    "version": 3
   },
   "file_extension": ".py",
   "mimetype": "text/x-python",
   "name": "python",
   "nbconvert_exporter": "python",
   "pygments_lexer": "ipython3",
   "version": "3.6.1"
  }
 },
 "nbformat": 4,
 "nbformat_minor": 2
}
